{
  "cells": [
    {
      "cell_type": "markdown",
      "metadata": {
        "id": "view-in-github",
        "colab_type": "text"
      },
      "source": [
        "<a href=\"https://colab.research.google.com/github/GianRomani/Neural_search_engine/blob/main/DM_project.ipynb\" target=\"_parent\"><img src=\"https://colab.research.google.com/assets/colab-badge.svg\" alt=\"Open In Colab\"/></a>"
      ]
    },
    {
      "cell_type": "code",
      "source": [
        "%env JINA_MP_START_METHOD='spawn'\n",
        "\n",
        "import os\n",
        "import torch.multiprocessing as mp\n",
        "\n",
        "#os.environ['REDDIT_NAME'] = 'something'\n",
        "#print(os.environ)#getenv('REDDIT_NAME'))\n",
        "print(os.getenv(\"JINA_MP_START_METHOD\"))\n",
        "mp.set_start_method('spawn', force=True)"
      ],
      "metadata": {
        "colab": {
          "base_uri": "https://localhost:8080/"
        },
        "id": "Psi4XQJzqmoC",
        "outputId": "492e4e03-0dee-4ba2-8f91-f7d67179c9b4"
      },
      "execution_count": 2,
      "outputs": [
        {
          "output_type": "stream",
          "name": "stdout",
          "text": [
            "env: JINA_MP_START_METHOD='spawn'\n",
            "environ({'NO_GCE_CHECK': 'True', 'GCS_READ_CACHE_BLOCK_SIZE_MB': '16', 'CLOUDSDK_CONFIG': '/content/.config', '__EGL_VENDOR_LIBRARY_DIRS': '/usr/lib64-nvidia:/usr/share/glvnd/egl_vendor.d/', 'CUDA_VERSION': '11.1.1', 'PATH': '/usr/local/nvidia/bin:/usr/local/cuda/bin:/usr/local/sbin:/usr/local/bin:/usr/sbin:/usr/bin:/sbin:/bin:/tools/node/bin:/tools/google-cloud-sdk/bin:/opt/bin', 'HOME': '/root', 'LD_LIBRARY_PATH': '/usr/lib64-nvidia', 'LANG': 'en_US.UTF-8', 'SHELL': '/bin/bash', 'LIBRARY_PATH': '/usr/local/cuda/lib64/stubs', 'SHLVL': '0', 'GCE_METADATA_TIMEOUT': '0', 'NCCL_VERSION': '2.7.8', 'NVIDIA_VISIBLE_DEVICES': 'all', 'DEBIAN_FRONTEND': 'noninteractive', 'CUDNN_VERSION': '8.0.5.39', 'LAST_FORCED_REBUILD': '20220127', 'JPY_PARENT_PID': '61', 'PYTHONPATH': '/env/python', 'DATALAB_SETTINGS_OVERRIDES': '{\"kernelManagerProxyPort\":6000,\"kernelManagerProxyHost\":\"172.28.0.3\",\"jupyterArgs\":[\"--ip=\\\\\"172.28.0.2\\\\\"\"],\"debugAdapterMultiplexerPath\":\"/usr/local/bin/dap_multiplexer\",\"enableLsp\":true}', 'ENV': '/root/.bashrc', 'GLIBCXX_FORCE_NEW': '1', 'NVIDIA_DRIVER_CAPABILITIES': 'compute,utility', 'TF_FORCE_GPU_ALLOW_GROWTH': 'true', 'LD_PRELOAD': '/usr/lib/x86_64-linux-gnu/libtcmalloc.so.4', 'PYTHONWARNINGS': 'ignore:::pip._internal.cli.base_command', 'NVIDIA_REQUIRE_CUDA': 'cuda>=11.1 brand=tesla,driver>=418,driver<419 brand=tesla,driver>=440,driver<441 brand=tesla,driver>=450,driver<451', 'OLDPWD': '/', 'HOSTNAME': '7b3929f603fd', 'COLAB_GPU': '1', 'PWD': '/', 'CLOUDSDK_PYTHON': 'python3', 'GLIBCPP_FORCE_NEW': '1', 'TBE_EPHEM_CREDS_ADDR': '172.28.0.1:8009', 'TBE_CREDS_ADDR': '172.28.0.1:8008', 'TERM': 'xterm-color', 'CLICOLOR': '1', 'PAGER': 'cat', 'GIT_PAGER': 'cat', 'MPLBACKEND': 'module://ipykernel.pylab.backend_inline', 'ENABLE_DIRECTORYPREFETCHER': '1', 'USE_EPHEM': '1', 'PYDEVD_USE_FRAME_EVAL': 'NO', 'JINA_MP_START_METHOD': \"'spawn'\"})\n",
            "'spawn'\n"
          ]
        }
      ]
    },
    {
      "cell_type": "code",
      "execution_count": 3,
      "metadata": {
        "colab": {
          "base_uri": "https://localhost:8080/"
        },
        "id": "btPirC-5-5B7",
        "outputId": "e5266349-9fa3-4dd4-d1fb-1735bbf1de9a"
      },
      "outputs": [
        {
          "output_type": "stream",
          "name": "stdout",
          "text": [
            "Mounted at /content/drive\n"
          ]
        }
      ],
      "source": [
        "try: \n",
        "  #this will raise an error if you are not using Colab\n",
        "  from google.colab import drive\n",
        "  drive.mount('/content/drive')\n",
        "except:\n",
        "  print(\"You are not using Colab\")"
      ]
    },
    {
      "cell_type": "code",
      "execution_count": null,
      "metadata": {
        "id": "CtBWDzSx_rpr",
        "colab": {
          "base_uri": "https://localhost:8080/"
        },
        "outputId": "d5c9a665-fb25-4805-94f8-0b4b4771d615"
      },
      "outputs": [
        {
          "output_type": "stream",
          "name": "stdout",
          "text": [
            "Archive:  /content/drive/MyDrive/archive.zip\n",
            "  inflating: /content/drive/MyDrive/DM/Answers.csv  \n",
            "  inflating: /content/drive/MyDrive/DM/Questions.csv  \n",
            "  inflating: /content/drive/MyDrive/DM/Tags.csv  \n"
          ]
        }
      ],
      "source": [
        "#path = \"/content/drive/MyDrive/archive.zip\"\n",
        "#!unzip \"/content/drive/MyDrive/archive.zip\" -d \"/content/drive/MyDrive/DM/\""
      ]
    },
    {
      "cell_type": "code",
      "source": [
        "questions = pd.read_csv(\"/content/drive/MyDrive/DM/Questions.csv\", encoding=\"ISO-8859-1\")\n",
        "answers = pd.read_csv(\"/content/drive/MyDrive/DM/Answers.csv\", encoding=\"ISO-8859-1\")\n",
        "\n",
        "index_outfile = \"/content/drive/MyDrive/DM/index.csv\""
      ],
      "metadata": {
        "id": "okdIHgf7Qy-_"
      },
      "execution_count": 22,
      "outputs": []
    },
    {
      "cell_type": "markdown",
      "metadata": {
        "id": "0RbtMSoV-U_0"
      },
      "source": [
        "# EDA"
      ]
    },
    {
      "cell_type": "markdown",
      "metadata": {
        "id": "zZCHmmjqvb0b"
      },
      "source": [
        "It can be interesting and helpful to analyze:\n",
        "\n",
        "*   the distribution of the scores among the questions,\n",
        "*   number of answers for question (and scores of those answers);\n",
        "*   creation dates for the posts;\n",
        "*   if a post was closed (and why);\n",
        "*   popular users (who answered a lot of questions)\n",
        "\n",
        "\n",
        "\n"
      ]
    },
    {
      "cell_type": "code",
      "execution_count": 5,
      "metadata": {
        "id": "p-1HyapB_rPx"
      },
      "outputs": [],
      "source": [
        "import pandas as pd"
      ]
    },
    {
      "cell_type": "markdown",
      "metadata": {
        "id": "1aMmDu1Dpj8q"
      },
      "source": [
        "<h2>Questions</h2>"
      ]
    },
    {
      "cell_type": "markdown",
      "metadata": {
        "id": "NupnZcXjyjfN"
      },
      "source": [
        "*   Id: id of the question;\n",
        "*   OwnerUserId: id of the account who post the question;\n",
        "*   CreationDate: when the question was posted;\n",
        "*   ClosedDate: when the question was closed;\n",
        "*   Score: upvotes - downvotes;\n",
        "*   Title: title of the question;\n",
        "*   Body: the question"
      ]
    },
    {
      "cell_type": "code",
      "execution_count": null,
      "metadata": {
        "id": "tkAxz68mbUBs"
      },
      "outputs": [],
      "source": [
        "questions = pd.read_csv(\"/content/drive/MyDrive/DM/Questions.csv\",encoding=\"ISO-8859-1\") #utf-8 is not good in this case"
      ]
    },
    {
      "cell_type": "code",
      "execution_count": null,
      "metadata": {
        "colab": {
          "base_uri": "https://localhost:8080/",
          "height": 363
        },
        "id": "yEwlkjWtbWKK",
        "outputId": "b7492137-973e-4e8e-b0a1-99dd46dc7568"
      },
      "outputs": [
        {
          "data": {
            "text/html": [
              "\n",
              "  <div id=\"df-8587dba8-dee4-4938-bd62-0694698e348b\">\n",
              "    <div class=\"colab-df-container\">\n",
              "      <div>\n",
              "<style scoped>\n",
              "    .dataframe tbody tr th:only-of-type {\n",
              "        vertical-align: middle;\n",
              "    }\n",
              "\n",
              "    .dataframe tbody tr th {\n",
              "        vertical-align: top;\n",
              "    }\n",
              "\n",
              "    .dataframe thead th {\n",
              "        text-align: right;\n",
              "    }\n",
              "</style>\n",
              "<table border=\"1\" class=\"dataframe\">\n",
              "  <thead>\n",
              "    <tr style=\"text-align: right;\">\n",
              "      <th></th>\n",
              "      <th>Id</th>\n",
              "      <th>OwnerUserId</th>\n",
              "      <th>CreationDate</th>\n",
              "      <th>ClosedDate</th>\n",
              "      <th>Score</th>\n",
              "      <th>Title</th>\n",
              "      <th>Body</th>\n",
              "    </tr>\n",
              "  </thead>\n",
              "  <tbody>\n",
              "    <tr>\n",
              "      <th>0</th>\n",
              "      <td>80</td>\n",
              "      <td>26.0</td>\n",
              "      <td>2008-08-01T13:57:07Z</td>\n",
              "      <td>NaN</td>\n",
              "      <td>26</td>\n",
              "      <td>SQLStatement.execute() - multiple queries in o...</td>\n",
              "      <td>&lt;p&gt;I've written a database generation script i...</td>\n",
              "    </tr>\n",
              "    <tr>\n",
              "      <th>1</th>\n",
              "      <td>90</td>\n",
              "      <td>58.0</td>\n",
              "      <td>2008-08-01T14:41:24Z</td>\n",
              "      <td>2012-12-26T03:45:49Z</td>\n",
              "      <td>144</td>\n",
              "      <td>Good branching and merging tutorials for Torto...</td>\n",
              "      <td>&lt;p&gt;Are there any really good tutorials explain...</td>\n",
              "    </tr>\n",
              "    <tr>\n",
              "      <th>2</th>\n",
              "      <td>120</td>\n",
              "      <td>83.0</td>\n",
              "      <td>2008-08-01T15:50:08Z</td>\n",
              "      <td>NaN</td>\n",
              "      <td>21</td>\n",
              "      <td>ASP.NET Site Maps</td>\n",
              "      <td>&lt;p&gt;Has anyone got experience creating &lt;strong&gt;...</td>\n",
              "    </tr>\n",
              "    <tr>\n",
              "      <th>3</th>\n",
              "      <td>180</td>\n",
              "      <td>2089740.0</td>\n",
              "      <td>2008-08-01T18:42:19Z</td>\n",
              "      <td>NaN</td>\n",
              "      <td>53</td>\n",
              "      <td>Function for creating color wheels</td>\n",
              "      <td>&lt;p&gt;This is something I've pseudo-solved many t...</td>\n",
              "    </tr>\n",
              "    <tr>\n",
              "      <th>4</th>\n",
              "      <td>260</td>\n",
              "      <td>91.0</td>\n",
              "      <td>2008-08-01T23:22:08Z</td>\n",
              "      <td>NaN</td>\n",
              "      <td>49</td>\n",
              "      <td>Adding scripting functionality to .NET applica...</td>\n",
              "      <td>&lt;p&gt;I have a little game written in C#. It uses...</td>\n",
              "    </tr>\n",
              "    <tr>\n",
              "      <th>5</th>\n",
              "      <td>330</td>\n",
              "      <td>63.0</td>\n",
              "      <td>2008-08-02T02:51:36Z</td>\n",
              "      <td>NaN</td>\n",
              "      <td>29</td>\n",
              "      <td>Should I use nested classes in this case?</td>\n",
              "      <td>&lt;p&gt;I am working on a collection of classes use...</td>\n",
              "    </tr>\n",
              "    <tr>\n",
              "      <th>6</th>\n",
              "      <td>470</td>\n",
              "      <td>71.0</td>\n",
              "      <td>2008-08-02T15:11:47Z</td>\n",
              "      <td>2016-03-26T05:23:29Z</td>\n",
              "      <td>13</td>\n",
              "      <td>Homegrown consumption of web services</td>\n",
              "      <td>&lt;p&gt;I've been writing a few web services for a ...</td>\n",
              "    </tr>\n",
              "    <tr>\n",
              "      <th>7</th>\n",
              "      <td>580</td>\n",
              "      <td>91.0</td>\n",
              "      <td>2008-08-02T23:30:59Z</td>\n",
              "      <td>NaN</td>\n",
              "      <td>21</td>\n",
              "      <td>Deploying SQL Server Databases from Test to Live</td>\n",
              "      <td>&lt;p&gt;I wonder how you guys manage deployment of ...</td>\n",
              "    </tr>\n",
              "    <tr>\n",
              "      <th>8</th>\n",
              "      <td>650</td>\n",
              "      <td>143.0</td>\n",
              "      <td>2008-08-03T11:12:52Z</td>\n",
              "      <td>NaN</td>\n",
              "      <td>79</td>\n",
              "      <td>Automatically update version number</td>\n",
              "      <td>&lt;p&gt;I would like the version property of my app...</td>\n",
              "    </tr>\n",
              "    <tr>\n",
              "      <th>9</th>\n",
              "      <td>810</td>\n",
              "      <td>233.0</td>\n",
              "      <td>2008-08-03T20:35:01Z</td>\n",
              "      <td>NaN</td>\n",
              "      <td>9</td>\n",
              "      <td>Visual Studio Setup Project - Per User Registr...</td>\n",
              "      <td>&lt;p&gt;I'm trying to maintain a Setup Project in &lt;...</td>\n",
              "    </tr>\n",
              "  </tbody>\n",
              "</table>\n",
              "</div>\n",
              "      <button class=\"colab-df-convert\" onclick=\"convertToInteractive('df-8587dba8-dee4-4938-bd62-0694698e348b')\"\n",
              "              title=\"Convert this dataframe to an interactive table.\"\n",
              "              style=\"display:none;\">\n",
              "        \n",
              "  <svg xmlns=\"http://www.w3.org/2000/svg\" height=\"24px\"viewBox=\"0 0 24 24\"\n",
              "       width=\"24px\">\n",
              "    <path d=\"M0 0h24v24H0V0z\" fill=\"none\"/>\n",
              "    <path d=\"M18.56 5.44l.94 2.06.94-2.06 2.06-.94-2.06-.94-.94-2.06-.94 2.06-2.06.94zm-11 1L8.5 8.5l.94-2.06 2.06-.94-2.06-.94L8.5 2.5l-.94 2.06-2.06.94zm10 10l.94 2.06.94-2.06 2.06-.94-2.06-.94-.94-2.06-.94 2.06-2.06.94z\"/><path d=\"M17.41 7.96l-1.37-1.37c-.4-.4-.92-.59-1.43-.59-.52 0-1.04.2-1.43.59L10.3 9.45l-7.72 7.72c-.78.78-.78 2.05 0 2.83L4 21.41c.39.39.9.59 1.41.59.51 0 1.02-.2 1.41-.59l7.78-7.78 2.81-2.81c.8-.78.8-2.07 0-2.86zM5.41 20L4 18.59l7.72-7.72 1.47 1.35L5.41 20z\"/>\n",
              "  </svg>\n",
              "      </button>\n",
              "      \n",
              "  <style>\n",
              "    .colab-df-container {\n",
              "      display:flex;\n",
              "      flex-wrap:wrap;\n",
              "      gap: 12px;\n",
              "    }\n",
              "\n",
              "    .colab-df-convert {\n",
              "      background-color: #E8F0FE;\n",
              "      border: none;\n",
              "      border-radius: 50%;\n",
              "      cursor: pointer;\n",
              "      display: none;\n",
              "      fill: #1967D2;\n",
              "      height: 32px;\n",
              "      padding: 0 0 0 0;\n",
              "      width: 32px;\n",
              "    }\n",
              "\n",
              "    .colab-df-convert:hover {\n",
              "      background-color: #E2EBFA;\n",
              "      box-shadow: 0px 1px 2px rgba(60, 64, 67, 0.3), 0px 1px 3px 1px rgba(60, 64, 67, 0.15);\n",
              "      fill: #174EA6;\n",
              "    }\n",
              "\n",
              "    [theme=dark] .colab-df-convert {\n",
              "      background-color: #3B4455;\n",
              "      fill: #D2E3FC;\n",
              "    }\n",
              "\n",
              "    [theme=dark] .colab-df-convert:hover {\n",
              "      background-color: #434B5C;\n",
              "      box-shadow: 0px 1px 3px 1px rgba(0, 0, 0, 0.15);\n",
              "      filter: drop-shadow(0px 1px 2px rgba(0, 0, 0, 0.3));\n",
              "      fill: #FFFFFF;\n",
              "    }\n",
              "  </style>\n",
              "\n",
              "      <script>\n",
              "        const buttonEl =\n",
              "          document.querySelector('#df-8587dba8-dee4-4938-bd62-0694698e348b button.colab-df-convert');\n",
              "        buttonEl.style.display =\n",
              "          google.colab.kernel.accessAllowed ? 'block' : 'none';\n",
              "\n",
              "        async function convertToInteractive(key) {\n",
              "          const element = document.querySelector('#df-8587dba8-dee4-4938-bd62-0694698e348b');\n",
              "          const dataTable =\n",
              "            await google.colab.kernel.invokeFunction('convertToInteractive',\n",
              "                                                     [key], {});\n",
              "          if (!dataTable) return;\n",
              "\n",
              "          const docLinkHtml = 'Like what you see? Visit the ' +\n",
              "            '<a target=\"_blank\" href=https://colab.research.google.com/notebooks/data_table.ipynb>data table notebook</a>'\n",
              "            + ' to learn more about interactive tables.';\n",
              "          element.innerHTML = '';\n",
              "          dataTable['output_type'] = 'display_data';\n",
              "          await google.colab.output.renderOutput(dataTable, element);\n",
              "          const docLink = document.createElement('div');\n",
              "          docLink.innerHTML = docLinkHtml;\n",
              "          element.appendChild(docLink);\n",
              "        }\n",
              "      </script>\n",
              "    </div>\n",
              "  </div>\n",
              "  "
            ],
            "text/plain": [
              "    Id  ...                                               Body\n",
              "0   80  ...  <p>I've written a database generation script i...\n",
              "1   90  ...  <p>Are there any really good tutorials explain...\n",
              "2  120  ...  <p>Has anyone got experience creating <strong>...\n",
              "3  180  ...  <p>This is something I've pseudo-solved many t...\n",
              "4  260  ...  <p>I have a little game written in C#. It uses...\n",
              "5  330  ...  <p>I am working on a collection of classes use...\n",
              "6  470  ...  <p>I've been writing a few web services for a ...\n",
              "7  580  ...  <p>I wonder how you guys manage deployment of ...\n",
              "8  650  ...  <p>I would like the version property of my app...\n",
              "9  810  ...  <p>I'm trying to maintain a Setup Project in <...\n",
              "\n",
              "[10 rows x 7 columns]"
            ]
          },
          "execution_count": 6,
          "metadata": {},
          "output_type": "execute_result"
        }
      ],
      "source": [
        "questions.head(10)"
      ]
    },
    {
      "cell_type": "code",
      "execution_count": null,
      "metadata": {
        "colab": {
          "base_uri": "https://localhost:8080/",
          "height": 300
        },
        "id": "wspAqCIigkdV",
        "outputId": "a2aada74-4239-4464-c8c8-7a2b8d1afff8"
      },
      "outputs": [
        {
          "data": {
            "text/html": [
              "\n",
              "  <div id=\"df-043fc0b5-8b7a-444d-8dbd-bab9189c2dbd\">\n",
              "    <div class=\"colab-df-container\">\n",
              "      <div>\n",
              "<style scoped>\n",
              "    .dataframe tbody tr th:only-of-type {\n",
              "        vertical-align: middle;\n",
              "    }\n",
              "\n",
              "    .dataframe tbody tr th {\n",
              "        vertical-align: top;\n",
              "    }\n",
              "\n",
              "    .dataframe thead th {\n",
              "        text-align: right;\n",
              "    }\n",
              "</style>\n",
              "<table border=\"1\" class=\"dataframe\">\n",
              "  <thead>\n",
              "    <tr style=\"text-align: right;\">\n",
              "      <th></th>\n",
              "      <th>Id</th>\n",
              "      <th>OwnerUserId</th>\n",
              "      <th>Score</th>\n",
              "    </tr>\n",
              "  </thead>\n",
              "  <tbody>\n",
              "    <tr>\n",
              "      <th>count</th>\n",
              "      <td>1.264216e+06</td>\n",
              "      <td>1.249762e+06</td>\n",
              "      <td>1.264216e+06</td>\n",
              "    </tr>\n",
              "    <tr>\n",
              "      <th>mean</th>\n",
              "      <td>2.132745e+07</td>\n",
              "      <td>2.155177e+06</td>\n",
              "      <td>1.781537e+00</td>\n",
              "    </tr>\n",
              "    <tr>\n",
              "      <th>std</th>\n",
              "      <td>1.151445e+07</td>\n",
              "      <td>1.801265e+06</td>\n",
              "      <td>1.366389e+01</td>\n",
              "    </tr>\n",
              "    <tr>\n",
              "      <th>min</th>\n",
              "      <td>8.000000e+01</td>\n",
              "      <td>1.000000e+00</td>\n",
              "      <td>-7.300000e+01</td>\n",
              "    </tr>\n",
              "    <tr>\n",
              "      <th>25%</th>\n",
              "      <td>1.142598e+07</td>\n",
              "      <td>6.589110e+05</td>\n",
              "      <td>0.000000e+00</td>\n",
              "    </tr>\n",
              "    <tr>\n",
              "      <th>50%</th>\n",
              "      <td>2.172542e+07</td>\n",
              "      <td>1.611830e+06</td>\n",
              "      <td>0.000000e+00</td>\n",
              "    </tr>\n",
              "    <tr>\n",
              "      <th>75%</th>\n",
              "      <td>3.154542e+07</td>\n",
              "      <td>3.353792e+06</td>\n",
              "      <td>1.000000e+00</td>\n",
              "    </tr>\n",
              "    <tr>\n",
              "      <th>max</th>\n",
              "      <td>4.014338e+07</td>\n",
              "      <td>7.046594e+06</td>\n",
              "      <td>5.190000e+03</td>\n",
              "    </tr>\n",
              "  </tbody>\n",
              "</table>\n",
              "</div>\n",
              "      <button class=\"colab-df-convert\" onclick=\"convertToInteractive('df-043fc0b5-8b7a-444d-8dbd-bab9189c2dbd')\"\n",
              "              title=\"Convert this dataframe to an interactive table.\"\n",
              "              style=\"display:none;\">\n",
              "        \n",
              "  <svg xmlns=\"http://www.w3.org/2000/svg\" height=\"24px\"viewBox=\"0 0 24 24\"\n",
              "       width=\"24px\">\n",
              "    <path d=\"M0 0h24v24H0V0z\" fill=\"none\"/>\n",
              "    <path d=\"M18.56 5.44l.94 2.06.94-2.06 2.06-.94-2.06-.94-.94-2.06-.94 2.06-2.06.94zm-11 1L8.5 8.5l.94-2.06 2.06-.94-2.06-.94L8.5 2.5l-.94 2.06-2.06.94zm10 10l.94 2.06.94-2.06 2.06-.94-2.06-.94-.94-2.06-.94 2.06-2.06.94z\"/><path d=\"M17.41 7.96l-1.37-1.37c-.4-.4-.92-.59-1.43-.59-.52 0-1.04.2-1.43.59L10.3 9.45l-7.72 7.72c-.78.78-.78 2.05 0 2.83L4 21.41c.39.39.9.59 1.41.59.51 0 1.02-.2 1.41-.59l7.78-7.78 2.81-2.81c.8-.78.8-2.07 0-2.86zM5.41 20L4 18.59l7.72-7.72 1.47 1.35L5.41 20z\"/>\n",
              "  </svg>\n",
              "      </button>\n",
              "      \n",
              "  <style>\n",
              "    .colab-df-container {\n",
              "      display:flex;\n",
              "      flex-wrap:wrap;\n",
              "      gap: 12px;\n",
              "    }\n",
              "\n",
              "    .colab-df-convert {\n",
              "      background-color: #E8F0FE;\n",
              "      border: none;\n",
              "      border-radius: 50%;\n",
              "      cursor: pointer;\n",
              "      display: none;\n",
              "      fill: #1967D2;\n",
              "      height: 32px;\n",
              "      padding: 0 0 0 0;\n",
              "      width: 32px;\n",
              "    }\n",
              "\n",
              "    .colab-df-convert:hover {\n",
              "      background-color: #E2EBFA;\n",
              "      box-shadow: 0px 1px 2px rgba(60, 64, 67, 0.3), 0px 1px 3px 1px rgba(60, 64, 67, 0.15);\n",
              "      fill: #174EA6;\n",
              "    }\n",
              "\n",
              "    [theme=dark] .colab-df-convert {\n",
              "      background-color: #3B4455;\n",
              "      fill: #D2E3FC;\n",
              "    }\n",
              "\n",
              "    [theme=dark] .colab-df-convert:hover {\n",
              "      background-color: #434B5C;\n",
              "      box-shadow: 0px 1px 3px 1px rgba(0, 0, 0, 0.15);\n",
              "      filter: drop-shadow(0px 1px 2px rgba(0, 0, 0, 0.3));\n",
              "      fill: #FFFFFF;\n",
              "    }\n",
              "  </style>\n",
              "\n",
              "      <script>\n",
              "        const buttonEl =\n",
              "          document.querySelector('#df-043fc0b5-8b7a-444d-8dbd-bab9189c2dbd button.colab-df-convert');\n",
              "        buttonEl.style.display =\n",
              "          google.colab.kernel.accessAllowed ? 'block' : 'none';\n",
              "\n",
              "        async function convertToInteractive(key) {\n",
              "          const element = document.querySelector('#df-043fc0b5-8b7a-444d-8dbd-bab9189c2dbd');\n",
              "          const dataTable =\n",
              "            await google.colab.kernel.invokeFunction('convertToInteractive',\n",
              "                                                     [key], {});\n",
              "          if (!dataTable) return;\n",
              "\n",
              "          const docLinkHtml = 'Like what you see? Visit the ' +\n",
              "            '<a target=\"_blank\" href=https://colab.research.google.com/notebooks/data_table.ipynb>data table notebook</a>'\n",
              "            + ' to learn more about interactive tables.';\n",
              "          element.innerHTML = '';\n",
              "          dataTable['output_type'] = 'display_data';\n",
              "          await google.colab.output.renderOutput(dataTable, element);\n",
              "          const docLink = document.createElement('div');\n",
              "          docLink.innerHTML = docLinkHtml;\n",
              "          element.appendChild(docLink);\n",
              "        }\n",
              "      </script>\n",
              "    </div>\n",
              "  </div>\n",
              "  "
            ],
            "text/plain": [
              "                 Id   OwnerUserId         Score\n",
              "count  1.264216e+06  1.249762e+06  1.264216e+06\n",
              "mean   2.132745e+07  2.155177e+06  1.781537e+00\n",
              "std    1.151445e+07  1.801265e+06  1.366389e+01\n",
              "min    8.000000e+01  1.000000e+00 -7.300000e+01\n",
              "25%    1.142598e+07  6.589110e+05  0.000000e+00\n",
              "50%    2.172542e+07  1.611830e+06  0.000000e+00\n",
              "75%    3.154542e+07  3.353792e+06  1.000000e+00\n",
              "max    4.014338e+07  7.046594e+06  5.190000e+03"
            ]
          },
          "execution_count": 7,
          "metadata": {},
          "output_type": "execute_result"
        }
      ],
      "source": [
        "questions.describe()"
      ]
    },
    {
      "cell_type": "code",
      "execution_count": null,
      "metadata": {
        "colab": {
          "base_uri": "https://localhost:8080/"
        },
        "id": "wgynb7ZUflJN",
        "outputId": "366d8b46-d4c4-47ba-eee2-624c311d8c1a"
      },
      "outputs": [
        {
          "data": {
            "text/plain": [
              "(-78.26400000000001, 190.15]    1263601\n",
              "(190.15, 453.3]                     478\n",
              "(453.3, 716.45]                      78\n",
              "(716.45, 979.6]                      30\n",
              "(979.6, 1242.75]                     11\n",
              "(1505.9, 1769.05]                     9\n",
              "(1242.75, 1505.9]                     4\n",
              "(2295.35, 2558.5]                     3\n",
              "(3611.1, 3874.25]                     1\n",
              "(4926.85, 5190.0]                     1\n",
              "(2032.2, 2295.35]                     0\n",
              "(2821.65, 3084.8]                     0\n",
              "(3084.8, 3347.95]                     0\n",
              "(3347.95, 3611.1]                     0\n",
              "(1769.05, 2032.2]                     0\n",
              "(3874.25, 4137.4]                     0\n",
              "(4137.4, 4400.55]                     0\n",
              "(4400.55, 4663.7]                     0\n",
              "(4663.7, 4926.85]                     0\n",
              "(2558.5, 2821.65]                     0\n",
              "Name: Score, dtype: int64"
            ]
          },
          "execution_count": 8,
          "metadata": {},
          "output_type": "execute_result"
        }
      ],
      "source": [
        "#What is the distribution of the scores among the questions?\n",
        "score_distribution = questions[\"Score\"].value_counts(bins=20)\n",
        "score_distribution"
      ]
    },
    {
      "cell_type": "code",
      "execution_count": null,
      "metadata": {
        "colab": {
          "base_uri": "https://localhost:8080/",
          "height": 424
        },
        "id": "GBVv6gSHq1PG",
        "outputId": "97a168ec-305d-4b1c-a5a4-dcd8d82628fb"
      },
      "outputs": [
        {
          "data": {
            "text/html": [
              "\n",
              "  <div id=\"df-977561f2-6694-4c33-ba02-d47bdc492e73\">\n",
              "    <div class=\"colab-df-container\">\n",
              "      <div>\n",
              "<style scoped>\n",
              "    .dataframe tbody tr th:only-of-type {\n",
              "        vertical-align: middle;\n",
              "    }\n",
              "\n",
              "    .dataframe tbody tr th {\n",
              "        vertical-align: top;\n",
              "    }\n",
              "\n",
              "    .dataframe thead th {\n",
              "        text-align: right;\n",
              "    }\n",
              "</style>\n",
              "<table border=\"1\" class=\"dataframe\">\n",
              "  <thead>\n",
              "    <tr style=\"text-align: right;\">\n",
              "      <th></th>\n",
              "      <th>Id</th>\n",
              "      <th>OwnerUserId</th>\n",
              "      <th>CreationDate</th>\n",
              "      <th>ClosedDate</th>\n",
              "      <th>Score</th>\n",
              "      <th>Title</th>\n",
              "      <th>Body</th>\n",
              "    </tr>\n",
              "  </thead>\n",
              "  <tbody>\n",
              "    <tr>\n",
              "      <th>487</th>\n",
              "      <td>43960</td>\n",
              "      <td>3262.0</td>\n",
              "      <td>2008-09-04T15:07:30Z</td>\n",
              "      <td>NaN</td>\n",
              "      <td>-1</td>\n",
              "      <td>COTS Workshop Registration System</td>\n",
              "      <td>&lt;p&gt;Does anyone have any experience with any CO...</td>\n",
              "    </tr>\n",
              "    <tr>\n",
              "      <th>890</th>\n",
              "      <td>73260</td>\n",
              "      <td>12550.0</td>\n",
              "      <td>2008-09-16T14:57:37Z</td>\n",
              "      <td>NaN</td>\n",
              "      <td>-1</td>\n",
              "      <td>What is your choice for a Time Managment Solut...</td>\n",
              "      <td>&lt;p&gt;I've come across a few different applicatio...</td>\n",
              "    </tr>\n",
              "    <tr>\n",
              "      <th>904</th>\n",
              "      <td>74570</td>\n",
              "      <td>7709.0</td>\n",
              "      <td>2008-09-16T17:02:14Z</td>\n",
              "      <td>NaN</td>\n",
              "      <td>-1</td>\n",
              "      <td>CSS : Bad Gray Line to the side of the Navigat...</td>\n",
              "      <td>&lt;p&gt;I'm maintaining &lt;a href=\"http://perl-begin....</td>\n",
              "    </tr>\n",
              "    <tr>\n",
              "      <th>949</th>\n",
              "      <td>79350</td>\n",
              "      <td>NaN</td>\n",
              "      <td>2008-09-17T02:37:37Z</td>\n",
              "      <td>2015-06-23T23:33:20Z</td>\n",
              "      <td>-1</td>\n",
              "      <td>What open source virtual private server progra...</td>\n",
              "      <td>&lt;p&gt;I am looking to have 4 Virtual servers(vari...</td>\n",
              "    </tr>\n",
              "    <tr>\n",
              "      <th>1017</th>\n",
              "      <td>85370</td>\n",
              "      <td>6992.0</td>\n",
              "      <td>2008-09-17T17:01:08Z</td>\n",
              "      <td>NaN</td>\n",
              "      <td>-2</td>\n",
              "      <td>Most common cause of \"java.lang.NullPointerExc...</td>\n",
              "      <td>&lt;p&gt;My strongest lead is that the code who deal...</td>\n",
              "    </tr>\n",
              "    <tr>\n",
              "      <th>...</th>\n",
              "      <td>...</td>\n",
              "      <td>...</td>\n",
              "      <td>...</td>\n",
              "      <td>...</td>\n",
              "      <td>...</td>\n",
              "      <td>...</td>\n",
              "      <td>...</td>\n",
              "    </tr>\n",
              "    <tr>\n",
              "      <th>1264187</th>\n",
              "      <td>40142600</td>\n",
              "      <td>7044841.0</td>\n",
              "      <td>2016-10-19T22:33:00Z</td>\n",
              "      <td>2016-10-19T22:34:48Z</td>\n",
              "      <td>-10</td>\n",
              "      <td>Remove white spaces without replace()</td>\n",
              "      <td>&lt;pre&gt;&lt;code&gt;def compress(s):\\n    âââ(str...</td>\n",
              "    </tr>\n",
              "    <tr>\n",
              "      <th>1264188</th>\n",
              "      <td>40142610</td>\n",
              "      <td>7037290.0</td>\n",
              "      <td>2016-10-19T22:34:23Z</td>\n",
              "      <td>NaN</td>\n",
              "      <td>-1</td>\n",
              "      <td>How to get a direct, secure url (XXX.mp3) for ...</td>\n",
              "      <td>&lt;p&gt;So I can pull the url for a track from the ...</td>\n",
              "    </tr>\n",
              "    <tr>\n",
              "      <th>1264193</th>\n",
              "      <td>40142780</td>\n",
              "      <td>4957922.0</td>\n",
              "      <td>2016-10-19T22:52:04Z</td>\n",
              "      <td>NaN</td>\n",
              "      <td>-4</td>\n",
              "      <td>Sparse Arrays in Data Structure</td>\n",
              "      <td>&lt;p&gt;I am solving the following problem in C : \\...</td>\n",
              "    </tr>\n",
              "    <tr>\n",
              "      <th>1264194</th>\n",
              "      <td>40142790</td>\n",
              "      <td>7044882.0</td>\n",
              "      <td>2016-10-19T22:52:53Z</td>\n",
              "      <td>2016-10-19T23:05:09Z</td>\n",
              "      <td>-5</td>\n",
              "      <td>Why is my switch statement giving me constant ...</td>\n",
              "      <td>&lt;p&gt;Sorry in advance for the weird format of th...</td>\n",
              "    </tr>\n",
              "    <tr>\n",
              "      <th>1264203</th>\n",
              "      <td>40142940</td>\n",
              "      <td>6819989.0</td>\n",
              "      <td>2016-10-19T23:08:42Z</td>\n",
              "      <td>NaN</td>\n",
              "      <td>-1</td>\n",
              "      <td>Drawing an iscosceles triangle of asteriks on C++</td>\n",
              "      <td>&lt;p&gt;I am learning c++ and I'm trying draw an is...</td>\n",
              "    </tr>\n",
              "  </tbody>\n",
              "</table>\n",
              "<p>78449 rows × 7 columns</p>\n",
              "</div>\n",
              "      <button class=\"colab-df-convert\" onclick=\"convertToInteractive('df-977561f2-6694-4c33-ba02-d47bdc492e73')\"\n",
              "              title=\"Convert this dataframe to an interactive table.\"\n",
              "              style=\"display:none;\">\n",
              "        \n",
              "  <svg xmlns=\"http://www.w3.org/2000/svg\" height=\"24px\"viewBox=\"0 0 24 24\"\n",
              "       width=\"24px\">\n",
              "    <path d=\"M0 0h24v24H0V0z\" fill=\"none\"/>\n",
              "    <path d=\"M18.56 5.44l.94 2.06.94-2.06 2.06-.94-2.06-.94-.94-2.06-.94 2.06-2.06.94zm-11 1L8.5 8.5l.94-2.06 2.06-.94-2.06-.94L8.5 2.5l-.94 2.06-2.06.94zm10 10l.94 2.06.94-2.06 2.06-.94-2.06-.94-.94-2.06-.94 2.06-2.06.94z\"/><path d=\"M17.41 7.96l-1.37-1.37c-.4-.4-.92-.59-1.43-.59-.52 0-1.04.2-1.43.59L10.3 9.45l-7.72 7.72c-.78.78-.78 2.05 0 2.83L4 21.41c.39.39.9.59 1.41.59.51 0 1.02-.2 1.41-.59l7.78-7.78 2.81-2.81c.8-.78.8-2.07 0-2.86zM5.41 20L4 18.59l7.72-7.72 1.47 1.35L5.41 20z\"/>\n",
              "  </svg>\n",
              "      </button>\n",
              "      \n",
              "  <style>\n",
              "    .colab-df-container {\n",
              "      display:flex;\n",
              "      flex-wrap:wrap;\n",
              "      gap: 12px;\n",
              "    }\n",
              "\n",
              "    .colab-df-convert {\n",
              "      background-color: #E8F0FE;\n",
              "      border: none;\n",
              "      border-radius: 50%;\n",
              "      cursor: pointer;\n",
              "      display: none;\n",
              "      fill: #1967D2;\n",
              "      height: 32px;\n",
              "      padding: 0 0 0 0;\n",
              "      width: 32px;\n",
              "    }\n",
              "\n",
              "    .colab-df-convert:hover {\n",
              "      background-color: #E2EBFA;\n",
              "      box-shadow: 0px 1px 2px rgba(60, 64, 67, 0.3), 0px 1px 3px 1px rgba(60, 64, 67, 0.15);\n",
              "      fill: #174EA6;\n",
              "    }\n",
              "\n",
              "    [theme=dark] .colab-df-convert {\n",
              "      background-color: #3B4455;\n",
              "      fill: #D2E3FC;\n",
              "    }\n",
              "\n",
              "    [theme=dark] .colab-df-convert:hover {\n",
              "      background-color: #434B5C;\n",
              "      box-shadow: 0px 1px 3px 1px rgba(0, 0, 0, 0.15);\n",
              "      filter: drop-shadow(0px 1px 2px rgba(0, 0, 0, 0.3));\n",
              "      fill: #FFFFFF;\n",
              "    }\n",
              "  </style>\n",
              "\n",
              "      <script>\n",
              "        const buttonEl =\n",
              "          document.querySelector('#df-977561f2-6694-4c33-ba02-d47bdc492e73 button.colab-df-convert');\n",
              "        buttonEl.style.display =\n",
              "          google.colab.kernel.accessAllowed ? 'block' : 'none';\n",
              "\n",
              "        async function convertToInteractive(key) {\n",
              "          const element = document.querySelector('#df-977561f2-6694-4c33-ba02-d47bdc492e73');\n",
              "          const dataTable =\n",
              "            await google.colab.kernel.invokeFunction('convertToInteractive',\n",
              "                                                     [key], {});\n",
              "          if (!dataTable) return;\n",
              "\n",
              "          const docLinkHtml = 'Like what you see? Visit the ' +\n",
              "            '<a target=\"_blank\" href=https://colab.research.google.com/notebooks/data_table.ipynb>data table notebook</a>'\n",
              "            + ' to learn more about interactive tables.';\n",
              "          element.innerHTML = '';\n",
              "          dataTable['output_type'] = 'display_data';\n",
              "          await google.colab.output.renderOutput(dataTable, element);\n",
              "          const docLink = document.createElement('div');\n",
              "          docLink.innerHTML = docLinkHtml;\n",
              "          element.appendChild(docLink);\n",
              "        }\n",
              "      </script>\n",
              "    </div>\n",
              "  </div>\n",
              "  "
            ],
            "text/plain": [
              "               Id  ...                                               Body\n",
              "487         43960  ...  <p>Does anyone have any experience with any CO...\n",
              "890         73260  ...  <p>I've come across a few different applicatio...\n",
              "904         74570  ...  <p>I'm maintaining <a href=\"http://perl-begin....\n",
              "949         79350  ...  <p>I am looking to have 4 Virtual servers(vari...\n",
              "1017        85370  ...  <p>My strongest lead is that the code who deal...\n",
              "...           ...  ...                                                ...\n",
              "1264187  40142600  ...  <pre><code>def compress(s):\\n    âââ(str...\n",
              "1264188  40142610  ...  <p>So I can pull the url for a track from the ...\n",
              "1264193  40142780  ...  <p>I am solving the following problem in C : \\...\n",
              "1264194  40142790  ...  <p>Sorry in advance for the weird format of th...\n",
              "1264203  40142940  ...  <p>I am learning c++ and I'm trying draw an is...\n",
              "\n",
              "[78449 rows x 7 columns]"
            ]
          },
          "execution_count": 9,
          "metadata": {},
          "output_type": "execute_result"
        }
      ],
      "source": [
        "#negative scores\n",
        "negative_scores_questions = questions[questions[\"Score\"] < 0]\n",
        "negative_scores_questions"
      ]
    },
    {
      "cell_type": "code",
      "execution_count": null,
      "metadata": {
        "colab": {
          "base_uri": "https://localhost:8080/",
          "height": 81
        },
        "id": "cXPO7_PqiAqV",
        "outputId": "294c7856-3101-4cf7-b95a-de319579e85c"
      },
      "outputs": [
        {
          "data": {
            "text/html": [
              "\n",
              "  <div id=\"df-93cb63e2-f81d-4843-979a-7035c61eb9bc\">\n",
              "    <div class=\"colab-df-container\">\n",
              "      <div>\n",
              "<style scoped>\n",
              "    .dataframe tbody tr th:only-of-type {\n",
              "        vertical-align: middle;\n",
              "    }\n",
              "\n",
              "    .dataframe tbody tr th {\n",
              "        vertical-align: top;\n",
              "    }\n",
              "\n",
              "    .dataframe thead th {\n",
              "        text-align: right;\n",
              "    }\n",
              "</style>\n",
              "<table border=\"1\" class=\"dataframe\">\n",
              "  <thead>\n",
              "    <tr style=\"text-align: right;\">\n",
              "      <th></th>\n",
              "      <th>Id</th>\n",
              "      <th>OwnerUserId</th>\n",
              "      <th>CreationDate</th>\n",
              "      <th>ClosedDate</th>\n",
              "      <th>Score</th>\n",
              "      <th>Title</th>\n",
              "      <th>Body</th>\n",
              "    </tr>\n",
              "  </thead>\n",
              "  <tbody>\n",
              "    <tr>\n",
              "      <th>4907</th>\n",
              "      <td>348170</td>\n",
              "      <td>14069.0</td>\n",
              "      <td>2008-12-07T21:57:46Z</td>\n",
              "      <td>NaN</td>\n",
              "      <td>5190</td>\n",
              "      <td>How to undo 'git add' before commit?</td>\n",
              "      <td>&lt;p&gt;I mistakenly added files using the command:...</td>\n",
              "    </tr>\n",
              "  </tbody>\n",
              "</table>\n",
              "</div>\n",
              "      <button class=\"colab-df-convert\" onclick=\"convertToInteractive('df-93cb63e2-f81d-4843-979a-7035c61eb9bc')\"\n",
              "              title=\"Convert this dataframe to an interactive table.\"\n",
              "              style=\"display:none;\">\n",
              "        \n",
              "  <svg xmlns=\"http://www.w3.org/2000/svg\" height=\"24px\"viewBox=\"0 0 24 24\"\n",
              "       width=\"24px\">\n",
              "    <path d=\"M0 0h24v24H0V0z\" fill=\"none\"/>\n",
              "    <path d=\"M18.56 5.44l.94 2.06.94-2.06 2.06-.94-2.06-.94-.94-2.06-.94 2.06-2.06.94zm-11 1L8.5 8.5l.94-2.06 2.06-.94-2.06-.94L8.5 2.5l-.94 2.06-2.06.94zm10 10l.94 2.06.94-2.06 2.06-.94-2.06-.94-.94-2.06-.94 2.06-2.06.94z\"/><path d=\"M17.41 7.96l-1.37-1.37c-.4-.4-.92-.59-1.43-.59-.52 0-1.04.2-1.43.59L10.3 9.45l-7.72 7.72c-.78.78-.78 2.05 0 2.83L4 21.41c.39.39.9.59 1.41.59.51 0 1.02-.2 1.41-.59l7.78-7.78 2.81-2.81c.8-.78.8-2.07 0-2.86zM5.41 20L4 18.59l7.72-7.72 1.47 1.35L5.41 20z\"/>\n",
              "  </svg>\n",
              "      </button>\n",
              "      \n",
              "  <style>\n",
              "    .colab-df-container {\n",
              "      display:flex;\n",
              "      flex-wrap:wrap;\n",
              "      gap: 12px;\n",
              "    }\n",
              "\n",
              "    .colab-df-convert {\n",
              "      background-color: #E8F0FE;\n",
              "      border: none;\n",
              "      border-radius: 50%;\n",
              "      cursor: pointer;\n",
              "      display: none;\n",
              "      fill: #1967D2;\n",
              "      height: 32px;\n",
              "      padding: 0 0 0 0;\n",
              "      width: 32px;\n",
              "    }\n",
              "\n",
              "    .colab-df-convert:hover {\n",
              "      background-color: #E2EBFA;\n",
              "      box-shadow: 0px 1px 2px rgba(60, 64, 67, 0.3), 0px 1px 3px 1px rgba(60, 64, 67, 0.15);\n",
              "      fill: #174EA6;\n",
              "    }\n",
              "\n",
              "    [theme=dark] .colab-df-convert {\n",
              "      background-color: #3B4455;\n",
              "      fill: #D2E3FC;\n",
              "    }\n",
              "\n",
              "    [theme=dark] .colab-df-convert:hover {\n",
              "      background-color: #434B5C;\n",
              "      box-shadow: 0px 1px 3px 1px rgba(0, 0, 0, 0.15);\n",
              "      filter: drop-shadow(0px 1px 2px rgba(0, 0, 0, 0.3));\n",
              "      fill: #FFFFFF;\n",
              "    }\n",
              "  </style>\n",
              "\n",
              "      <script>\n",
              "        const buttonEl =\n",
              "          document.querySelector('#df-93cb63e2-f81d-4843-979a-7035c61eb9bc button.colab-df-convert');\n",
              "        buttonEl.style.display =\n",
              "          google.colab.kernel.accessAllowed ? 'block' : 'none';\n",
              "\n",
              "        async function convertToInteractive(key) {\n",
              "          const element = document.querySelector('#df-93cb63e2-f81d-4843-979a-7035c61eb9bc');\n",
              "          const dataTable =\n",
              "            await google.colab.kernel.invokeFunction('convertToInteractive',\n",
              "                                                     [key], {});\n",
              "          if (!dataTable) return;\n",
              "\n",
              "          const docLinkHtml = 'Like what you see? Visit the ' +\n",
              "            '<a target=\"_blank\" href=https://colab.research.google.com/notebooks/data_table.ipynb>data table notebook</a>'\n",
              "            + ' to learn more about interactive tables.';\n",
              "          element.innerHTML = '';\n",
              "          dataTable['output_type'] = 'display_data';\n",
              "          await google.colab.output.renderOutput(dataTable, element);\n",
              "          const docLink = document.createElement('div');\n",
              "          docLink.innerHTML = docLinkHtml;\n",
              "          element.appendChild(docLink);\n",
              "        }\n",
              "      </script>\n",
              "    </div>\n",
              "  </div>\n",
              "  "
            ],
            "text/plain": [
              "          Id  ...                                               Body\n",
              "4907  348170  ...  <p>I mistakenly added files using the command:...\n",
              "\n",
              "[1 rows x 7 columns]"
            ]
          },
          "execution_count": 10,
          "metadata": {},
          "output_type": "execute_result"
        }
      ],
      "source": [
        "#Posts with a score greater than 4000\n",
        "best_posts = questions[questions[\"Score\"] >4000]\n",
        "best_posts"
      ]
    },
    {
      "cell_type": "code",
      "execution_count": null,
      "metadata": {
        "colab": {
          "base_uri": "https://localhost:8080/"
        },
        "id": "2nRsYk40qI-q",
        "outputId": "b204a5e5-305a-42a3-f1aa-1db8823f85fa"
      },
      "outputs": [
        {
          "data": {
            "text/plain": [
              "Id                    0\n",
              "OwnerUserId       14454\n",
              "CreationDate          0\n",
              "ClosedDate      1208257\n",
              "Score                 0\n",
              "Title                 0\n",
              "Body                  0\n",
              "dtype: int64"
            ]
          },
          "execution_count": 11,
          "metadata": {},
          "output_type": "execute_result"
        }
      ],
      "source": [
        "#Count NaN values -> most of them in ClosedDate\n",
        "questions.isna().sum()"
      ]
    },
    {
      "cell_type": "markdown",
      "metadata": {
        "id": "dugxDhRlpezf"
      },
      "source": [
        "<h2>Answers</h2>"
      ]
    },
    {
      "cell_type": "markdown",
      "metadata": {
        "id": "tjCVejxuyFPl"
      },
      "source": [
        "\n",
        "*   Id: id of the answer;\n",
        "*   OwnerUserId: id of the account who post the answer;\n",
        "*   CreationDate: when the answer was posted;\n",
        "*   ParentId: Id of the question;\n",
        "*   Score: upvotes - downvotes;\n",
        "*   Body: the answer\n",
        "\n"
      ]
    },
    {
      "cell_type": "code",
      "execution_count": null,
      "metadata": {
        "id": "3J2x9cgeFORD"
      },
      "outputs": [],
      "source": [
        "answers = pd.read_csv(\"/content/drive/MyDrive/Data Mining/Project/Answers.csv\",encoding=\"ISO-8859-1\") #utf-8 is not good in this case"
      ]
    },
    {
      "cell_type": "code",
      "execution_count": null,
      "metadata": {
        "colab": {
          "base_uri": "https://localhost:8080/",
          "height": 363
        },
        "id": "pHzWWfaNFggg",
        "outputId": "ce82e239-f1f2-452b-e012-3e985e3c5784"
      },
      "outputs": [
        {
          "data": {
            "text/html": [
              "\n",
              "  <div id=\"df-99389aac-0e1d-4830-b2d9-8e1b75b76c04\">\n",
              "    <div class=\"colab-df-container\">\n",
              "      <div>\n",
              "<style scoped>\n",
              "    .dataframe tbody tr th:only-of-type {\n",
              "        vertical-align: middle;\n",
              "    }\n",
              "\n",
              "    .dataframe tbody tr th {\n",
              "        vertical-align: top;\n",
              "    }\n",
              "\n",
              "    .dataframe thead th {\n",
              "        text-align: right;\n",
              "    }\n",
              "</style>\n",
              "<table border=\"1\" class=\"dataframe\">\n",
              "  <thead>\n",
              "    <tr style=\"text-align: right;\">\n",
              "      <th></th>\n",
              "      <th>Id</th>\n",
              "      <th>OwnerUserId</th>\n",
              "      <th>CreationDate</th>\n",
              "      <th>ParentId</th>\n",
              "      <th>Score</th>\n",
              "      <th>Body</th>\n",
              "    </tr>\n",
              "  </thead>\n",
              "  <tbody>\n",
              "    <tr>\n",
              "      <th>0</th>\n",
              "      <td>92</td>\n",
              "      <td>61.0</td>\n",
              "      <td>2008-08-01T14:45:37Z</td>\n",
              "      <td>90</td>\n",
              "      <td>13</td>\n",
              "      <td>&lt;p&gt;&lt;a href=\"http://svnbook.red-bean.com/\"&gt;Vers...</td>\n",
              "    </tr>\n",
              "    <tr>\n",
              "      <th>1</th>\n",
              "      <td>124</td>\n",
              "      <td>26.0</td>\n",
              "      <td>2008-08-01T16:09:47Z</td>\n",
              "      <td>80</td>\n",
              "      <td>12</td>\n",
              "      <td>&lt;p&gt;I wound up using this. It is a kind of a ha...</td>\n",
              "    </tr>\n",
              "    <tr>\n",
              "      <th>2</th>\n",
              "      <td>199</td>\n",
              "      <td>50.0</td>\n",
              "      <td>2008-08-01T19:36:46Z</td>\n",
              "      <td>180</td>\n",
              "      <td>1</td>\n",
              "      <td>&lt;p&gt;I've read somewhere the human eye can't dis...</td>\n",
              "    </tr>\n",
              "    <tr>\n",
              "      <th>3</th>\n",
              "      <td>269</td>\n",
              "      <td>91.0</td>\n",
              "      <td>2008-08-01T23:49:57Z</td>\n",
              "      <td>260</td>\n",
              "      <td>4</td>\n",
              "      <td>&lt;p&gt;Yes, I thought about that, but I soon figur...</td>\n",
              "    </tr>\n",
              "    <tr>\n",
              "      <th>4</th>\n",
              "      <td>307</td>\n",
              "      <td>49.0</td>\n",
              "      <td>2008-08-02T01:49:46Z</td>\n",
              "      <td>260</td>\n",
              "      <td>28</td>\n",
              "      <td>&lt;p&gt;&lt;a href=\"http://www.codeproject.com/Article...</td>\n",
              "    </tr>\n",
              "    <tr>\n",
              "      <th>5</th>\n",
              "      <td>332</td>\n",
              "      <td>59.0</td>\n",
              "      <td>2008-08-02T03:00:24Z</td>\n",
              "      <td>330</td>\n",
              "      <td>19</td>\n",
              "      <td>&lt;p&gt;I would be a bit reluctant to use nested cl...</td>\n",
              "    </tr>\n",
              "    <tr>\n",
              "      <th>6</th>\n",
              "      <td>344</td>\n",
              "      <td>100.0</td>\n",
              "      <td>2008-08-02T04:18:15Z</td>\n",
              "      <td>260</td>\n",
              "      <td>6</td>\n",
              "      <td>&lt;p&gt;You might be able to use IronRuby for that....</td>\n",
              "    </tr>\n",
              "    <tr>\n",
              "      <th>7</th>\n",
              "      <td>359</td>\n",
              "      <td>119.0</td>\n",
              "      <td>2008-08-02T06:16:23Z</td>\n",
              "      <td>260</td>\n",
              "      <td>5</td>\n",
              "      <td>&lt;P&gt;You could use any of the DLR languages, whi...</td>\n",
              "    </tr>\n",
              "    <tr>\n",
              "      <th>8</th>\n",
              "      <td>473</td>\n",
              "      <td>49.0</td>\n",
              "      <td>2008-08-02T15:33:13Z</td>\n",
              "      <td>470</td>\n",
              "      <td>8</td>\n",
              "      <td>&lt;p&gt;No, what you're doing is fine. Don't let th...</td>\n",
              "    </tr>\n",
              "    <tr>\n",
              "      <th>9</th>\n",
              "      <td>529</td>\n",
              "      <td>86.0</td>\n",
              "      <td>2008-08-02T18:16:07Z</td>\n",
              "      <td>180</td>\n",
              "      <td>3</td>\n",
              "      <td>&lt;p&gt;Isn't it also a factor which order you set ...</td>\n",
              "    </tr>\n",
              "  </tbody>\n",
              "</table>\n",
              "</div>\n",
              "      <button class=\"colab-df-convert\" onclick=\"convertToInteractive('df-99389aac-0e1d-4830-b2d9-8e1b75b76c04')\"\n",
              "              title=\"Convert this dataframe to an interactive table.\"\n",
              "              style=\"display:none;\">\n",
              "        \n",
              "  <svg xmlns=\"http://www.w3.org/2000/svg\" height=\"24px\"viewBox=\"0 0 24 24\"\n",
              "       width=\"24px\">\n",
              "    <path d=\"M0 0h24v24H0V0z\" fill=\"none\"/>\n",
              "    <path d=\"M18.56 5.44l.94 2.06.94-2.06 2.06-.94-2.06-.94-.94-2.06-.94 2.06-2.06.94zm-11 1L8.5 8.5l.94-2.06 2.06-.94-2.06-.94L8.5 2.5l-.94 2.06-2.06.94zm10 10l.94 2.06.94-2.06 2.06-.94-2.06-.94-.94-2.06-.94 2.06-2.06.94z\"/><path d=\"M17.41 7.96l-1.37-1.37c-.4-.4-.92-.59-1.43-.59-.52 0-1.04.2-1.43.59L10.3 9.45l-7.72 7.72c-.78.78-.78 2.05 0 2.83L4 21.41c.39.39.9.59 1.41.59.51 0 1.02-.2 1.41-.59l7.78-7.78 2.81-2.81c.8-.78.8-2.07 0-2.86zM5.41 20L4 18.59l7.72-7.72 1.47 1.35L5.41 20z\"/>\n",
              "  </svg>\n",
              "      </button>\n",
              "      \n",
              "  <style>\n",
              "    .colab-df-container {\n",
              "      display:flex;\n",
              "      flex-wrap:wrap;\n",
              "      gap: 12px;\n",
              "    }\n",
              "\n",
              "    .colab-df-convert {\n",
              "      background-color: #E8F0FE;\n",
              "      border: none;\n",
              "      border-radius: 50%;\n",
              "      cursor: pointer;\n",
              "      display: none;\n",
              "      fill: #1967D2;\n",
              "      height: 32px;\n",
              "      padding: 0 0 0 0;\n",
              "      width: 32px;\n",
              "    }\n",
              "\n",
              "    .colab-df-convert:hover {\n",
              "      background-color: #E2EBFA;\n",
              "      box-shadow: 0px 1px 2px rgba(60, 64, 67, 0.3), 0px 1px 3px 1px rgba(60, 64, 67, 0.15);\n",
              "      fill: #174EA6;\n",
              "    }\n",
              "\n",
              "    [theme=dark] .colab-df-convert {\n",
              "      background-color: #3B4455;\n",
              "      fill: #D2E3FC;\n",
              "    }\n",
              "\n",
              "    [theme=dark] .colab-df-convert:hover {\n",
              "      background-color: #434B5C;\n",
              "      box-shadow: 0px 1px 3px 1px rgba(0, 0, 0, 0.15);\n",
              "      filter: drop-shadow(0px 1px 2px rgba(0, 0, 0, 0.3));\n",
              "      fill: #FFFFFF;\n",
              "    }\n",
              "  </style>\n",
              "\n",
              "      <script>\n",
              "        const buttonEl =\n",
              "          document.querySelector('#df-99389aac-0e1d-4830-b2d9-8e1b75b76c04 button.colab-df-convert');\n",
              "        buttonEl.style.display =\n",
              "          google.colab.kernel.accessAllowed ? 'block' : 'none';\n",
              "\n",
              "        async function convertToInteractive(key) {\n",
              "          const element = document.querySelector('#df-99389aac-0e1d-4830-b2d9-8e1b75b76c04');\n",
              "          const dataTable =\n",
              "            await google.colab.kernel.invokeFunction('convertToInteractive',\n",
              "                                                     [key], {});\n",
              "          if (!dataTable) return;\n",
              "\n",
              "          const docLinkHtml = 'Like what you see? Visit the ' +\n",
              "            '<a target=\"_blank\" href=https://colab.research.google.com/notebooks/data_table.ipynb>data table notebook</a>'\n",
              "            + ' to learn more about interactive tables.';\n",
              "          element.innerHTML = '';\n",
              "          dataTable['output_type'] = 'display_data';\n",
              "          await google.colab.output.renderOutput(dataTable, element);\n",
              "          const docLink = document.createElement('div');\n",
              "          docLink.innerHTML = docLinkHtml;\n",
              "          element.appendChild(docLink);\n",
              "        }\n",
              "      </script>\n",
              "    </div>\n",
              "  </div>\n",
              "  "
            ],
            "text/plain": [
              "    Id  OwnerUserId  ... Score                                               Body\n",
              "0   92         61.0  ...    13  <p><a href=\"http://svnbook.red-bean.com/\">Vers...\n",
              "1  124         26.0  ...    12  <p>I wound up using this. It is a kind of a ha...\n",
              "2  199         50.0  ...     1  <p>I've read somewhere the human eye can't dis...\n",
              "3  269         91.0  ...     4  <p>Yes, I thought about that, but I soon figur...\n",
              "4  307         49.0  ...    28  <p><a href=\"http://www.codeproject.com/Article...\n",
              "5  332         59.0  ...    19  <p>I would be a bit reluctant to use nested cl...\n",
              "6  344        100.0  ...     6  <p>You might be able to use IronRuby for that....\n",
              "7  359        119.0  ...     5  <P>You could use any of the DLR languages, whi...\n",
              "8  473         49.0  ...     8  <p>No, what you're doing is fine. Don't let th...\n",
              "9  529         86.0  ...     3  <p>Isn't it also a factor which order you set ...\n",
              "\n",
              "[10 rows x 6 columns]"
            ]
          },
          "execution_count": 13,
          "metadata": {},
          "output_type": "execute_result"
        }
      ],
      "source": [
        "answers.head(10)"
      ]
    },
    {
      "cell_type": "code",
      "execution_count": null,
      "metadata": {
        "colab": {
          "base_uri": "https://localhost:8080/",
          "height": 300
        },
        "id": "pfTUfpAEFSSV",
        "outputId": "e7531fba-68a3-4d7b-c758-dd8cbfc1e58a"
      },
      "outputs": [
        {
          "data": {
            "text/html": [
              "\n",
              "  <div id=\"df-d8ce4c8c-feb0-4e11-a884-029322bb891a\">\n",
              "    <div class=\"colab-df-container\">\n",
              "      <div>\n",
              "<style scoped>\n",
              "    .dataframe tbody tr th:only-of-type {\n",
              "        vertical-align: middle;\n",
              "    }\n",
              "\n",
              "    .dataframe tbody tr th {\n",
              "        vertical-align: top;\n",
              "    }\n",
              "\n",
              "    .dataframe thead th {\n",
              "        text-align: right;\n",
              "    }\n",
              "</style>\n",
              "<table border=\"1\" class=\"dataframe\">\n",
              "  <thead>\n",
              "    <tr style=\"text-align: right;\">\n",
              "      <th></th>\n",
              "      <th>Id</th>\n",
              "      <th>OwnerUserId</th>\n",
              "      <th>ParentId</th>\n",
              "      <th>Score</th>\n",
              "    </tr>\n",
              "  </thead>\n",
              "  <tbody>\n",
              "    <tr>\n",
              "      <th>count</th>\n",
              "      <td>2.014516e+06</td>\n",
              "      <td>2.001316e+06</td>\n",
              "      <td>2.014516e+06</td>\n",
              "      <td>2.014516e+06</td>\n",
              "    </tr>\n",
              "    <tr>\n",
              "      <th>mean</th>\n",
              "      <td>1.915490e+07</td>\n",
              "      <td>1.487613e+06</td>\n",
              "      <td>1.808390e+07</td>\n",
              "      <td>2.480563e+00</td>\n",
              "    </tr>\n",
              "    <tr>\n",
              "      <th>std</th>\n",
              "      <td>1.168713e+07</td>\n",
              "      <td>1.549051e+06</td>\n",
              "      <td>1.169152e+07</td>\n",
              "      <td>1.590938e+01</td>\n",
              "    </tr>\n",
              "    <tr>\n",
              "      <th>min</th>\n",
              "      <td>9.200000e+01</td>\n",
              "      <td>1.000000e+00</td>\n",
              "      <td>8.000000e+01</td>\n",
              "      <td>-4.200000e+01</td>\n",
              "    </tr>\n",
              "    <tr>\n",
              "      <th>25%</th>\n",
              "      <td>8.854490e+06</td>\n",
              "      <td>2.818680e+05</td>\n",
              "      <td>7.692900e+06</td>\n",
              "      <td>0.000000e+00</td>\n",
              "    </tr>\n",
              "    <tr>\n",
              "      <th>50%</th>\n",
              "      <td>1.866246e+07</td>\n",
              "      <td>9.546430e+05</td>\n",
              "      <td>1.712404e+07</td>\n",
              "      <td>1.000000e+00</td>\n",
              "    </tr>\n",
              "    <tr>\n",
              "      <th>75%</th>\n",
              "      <td>2.929756e+07</td>\n",
              "      <td>2.197072e+06</td>\n",
              "      <td>2.804977e+07</td>\n",
              "      <td>2.000000e+00</td>\n",
              "    </tr>\n",
              "    <tr>\n",
              "      <th>max</th>\n",
              "      <td>4.014339e+07</td>\n",
              "      <td>7.045028e+06</td>\n",
              "      <td>4.014319e+07</td>\n",
              "      <td>5.718000e+03</td>\n",
              "    </tr>\n",
              "  </tbody>\n",
              "</table>\n",
              "</div>\n",
              "      <button class=\"colab-df-convert\" onclick=\"convertToInteractive('df-d8ce4c8c-feb0-4e11-a884-029322bb891a')\"\n",
              "              title=\"Convert this dataframe to an interactive table.\"\n",
              "              style=\"display:none;\">\n",
              "        \n",
              "  <svg xmlns=\"http://www.w3.org/2000/svg\" height=\"24px\"viewBox=\"0 0 24 24\"\n",
              "       width=\"24px\">\n",
              "    <path d=\"M0 0h24v24H0V0z\" fill=\"none\"/>\n",
              "    <path d=\"M18.56 5.44l.94 2.06.94-2.06 2.06-.94-2.06-.94-.94-2.06-.94 2.06-2.06.94zm-11 1L8.5 8.5l.94-2.06 2.06-.94-2.06-.94L8.5 2.5l-.94 2.06-2.06.94zm10 10l.94 2.06.94-2.06 2.06-.94-2.06-.94-.94-2.06-.94 2.06-2.06.94z\"/><path d=\"M17.41 7.96l-1.37-1.37c-.4-.4-.92-.59-1.43-.59-.52 0-1.04.2-1.43.59L10.3 9.45l-7.72 7.72c-.78.78-.78 2.05 0 2.83L4 21.41c.39.39.9.59 1.41.59.51 0 1.02-.2 1.41-.59l7.78-7.78 2.81-2.81c.8-.78.8-2.07 0-2.86zM5.41 20L4 18.59l7.72-7.72 1.47 1.35L5.41 20z\"/>\n",
              "  </svg>\n",
              "      </button>\n",
              "      \n",
              "  <style>\n",
              "    .colab-df-container {\n",
              "      display:flex;\n",
              "      flex-wrap:wrap;\n",
              "      gap: 12px;\n",
              "    }\n",
              "\n",
              "    .colab-df-convert {\n",
              "      background-color: #E8F0FE;\n",
              "      border: none;\n",
              "      border-radius: 50%;\n",
              "      cursor: pointer;\n",
              "      display: none;\n",
              "      fill: #1967D2;\n",
              "      height: 32px;\n",
              "      padding: 0 0 0 0;\n",
              "      width: 32px;\n",
              "    }\n",
              "\n",
              "    .colab-df-convert:hover {\n",
              "      background-color: #E2EBFA;\n",
              "      box-shadow: 0px 1px 2px rgba(60, 64, 67, 0.3), 0px 1px 3px 1px rgba(60, 64, 67, 0.15);\n",
              "      fill: #174EA6;\n",
              "    }\n",
              "\n",
              "    [theme=dark] .colab-df-convert {\n",
              "      background-color: #3B4455;\n",
              "      fill: #D2E3FC;\n",
              "    }\n",
              "\n",
              "    [theme=dark] .colab-df-convert:hover {\n",
              "      background-color: #434B5C;\n",
              "      box-shadow: 0px 1px 3px 1px rgba(0, 0, 0, 0.15);\n",
              "      filter: drop-shadow(0px 1px 2px rgba(0, 0, 0, 0.3));\n",
              "      fill: #FFFFFF;\n",
              "    }\n",
              "  </style>\n",
              "\n",
              "      <script>\n",
              "        const buttonEl =\n",
              "          document.querySelector('#df-d8ce4c8c-feb0-4e11-a884-029322bb891a button.colab-df-convert');\n",
              "        buttonEl.style.display =\n",
              "          google.colab.kernel.accessAllowed ? 'block' : 'none';\n",
              "\n",
              "        async function convertToInteractive(key) {\n",
              "          const element = document.querySelector('#df-d8ce4c8c-feb0-4e11-a884-029322bb891a');\n",
              "          const dataTable =\n",
              "            await google.colab.kernel.invokeFunction('convertToInteractive',\n",
              "                                                     [key], {});\n",
              "          if (!dataTable) return;\n",
              "\n",
              "          const docLinkHtml = 'Like what you see? Visit the ' +\n",
              "            '<a target=\"_blank\" href=https://colab.research.google.com/notebooks/data_table.ipynb>data table notebook</a>'\n",
              "            + ' to learn more about interactive tables.';\n",
              "          element.innerHTML = '';\n",
              "          dataTable['output_type'] = 'display_data';\n",
              "          await google.colab.output.renderOutput(dataTable, element);\n",
              "          const docLink = document.createElement('div');\n",
              "          docLink.innerHTML = docLinkHtml;\n",
              "          element.appendChild(docLink);\n",
              "        }\n",
              "      </script>\n",
              "    </div>\n",
              "  </div>\n",
              "  "
            ],
            "text/plain": [
              "                 Id   OwnerUserId      ParentId         Score\n",
              "count  2.014516e+06  2.001316e+06  2.014516e+06  2.014516e+06\n",
              "mean   1.915490e+07  1.487613e+06  1.808390e+07  2.480563e+00\n",
              "std    1.168713e+07  1.549051e+06  1.169152e+07  1.590938e+01\n",
              "min    9.200000e+01  1.000000e+00  8.000000e+01 -4.200000e+01\n",
              "25%    8.854490e+06  2.818680e+05  7.692900e+06  0.000000e+00\n",
              "50%    1.866246e+07  9.546430e+05  1.712404e+07  1.000000e+00\n",
              "75%    2.929756e+07  2.197072e+06  2.804977e+07  2.000000e+00\n",
              "max    4.014339e+07  7.045028e+06  4.014319e+07  5.718000e+03"
            ]
          },
          "execution_count": 14,
          "metadata": {},
          "output_type": "execute_result"
        }
      ],
      "source": [
        "answers.describe()"
      ]
    },
    {
      "cell_type": "code",
      "execution_count": null,
      "metadata": {
        "colab": {
          "base_uri": "https://localhost:8080/"
        },
        "id": "6Ni0sADlFrMb",
        "outputId": "d90ac022-ea5e-40c4-abce-a1bca11578ed"
      },
      "outputs": [
        {
          "data": {
            "text/plain": [
              "(-47.760999999999996, 246.0]    2013578\n",
              "(246.0, 534.0]                      708\n",
              "(534.0, 822.0]                      150\n",
              "(822.0, 1110.0]                      34\n",
              "(1398.0, 1686.0]                     17\n",
              "(1110.0, 1398.0]                      8\n",
              "(1686.0, 1974.0]                      6\n",
              "(2262.0, 2550.0]                      4\n",
              "(2838.0, 3126.0]                      4\n",
              "(1974.0, 2262.0]                      3\n",
              "(3414.0, 3702.0]                      2\n",
              "(2550.0, 2838.0]                      1\n",
              "(5430.0, 5718.0]                      1\n",
              "(3126.0, 3414.0]                      0\n",
              "(3702.0, 3990.0]                      0\n",
              "(3990.0, 4278.0]                      0\n",
              "(4278.0, 4566.0]                      0\n",
              "(4566.0, 4854.0]                      0\n",
              "(4854.0, 5142.0]                      0\n",
              "(5142.0, 5430.0]                      0\n",
              "Name: Score, dtype: int64"
            ]
          },
          "execution_count": 15,
          "metadata": {},
          "output_type": "execute_result"
        }
      ],
      "source": [
        "#Distribution for the scores of the answers\n",
        "score_distribution = answers[\"Score\"].value_counts(bins=20)\n",
        "score_distribution"
      ]
    },
    {
      "cell_type": "code",
      "execution_count": null,
      "metadata": {
        "colab": {
          "base_uri": "https://localhost:8080/",
          "height": 424
        },
        "id": "HQ4-a09Iw0DO",
        "outputId": "acfe91ab-8442-4d85-f487-b34d5fb45bc4"
      },
      "outputs": [
        {
          "data": {
            "text/html": [
              "\n",
              "  <div id=\"df-378f861d-2928-484b-9c85-d05b1e6c410c\">\n",
              "    <div class=\"colab-df-container\">\n",
              "      <div>\n",
              "<style scoped>\n",
              "    .dataframe tbody tr th:only-of-type {\n",
              "        vertical-align: middle;\n",
              "    }\n",
              "\n",
              "    .dataframe tbody tr th {\n",
              "        vertical-align: top;\n",
              "    }\n",
              "\n",
              "    .dataframe thead th {\n",
              "        text-align: right;\n",
              "    }\n",
              "</style>\n",
              "<table border=\"1\" class=\"dataframe\">\n",
              "  <thead>\n",
              "    <tr style=\"text-align: right;\">\n",
              "      <th></th>\n",
              "      <th>Id</th>\n",
              "      <th>OwnerUserId</th>\n",
              "      <th>CreationDate</th>\n",
              "      <th>ParentId</th>\n",
              "      <th>Score</th>\n",
              "      <th>Body</th>\n",
              "    </tr>\n",
              "  </thead>\n",
              "  <tbody>\n",
              "    <tr>\n",
              "      <th>259</th>\n",
              "      <td>7896</td>\n",
              "      <td>268.0</td>\n",
              "      <td>2008-08-11T16:07:31Z</td>\n",
              "      <td>7880</td>\n",
              "      <td>-2</td>\n",
              "      <td>&lt;p&gt;fstream are great but I will go a little de...</td>\n",
              "    </tr>\n",
              "    <tr>\n",
              "      <th>284</th>\n",
              "      <td>8421</td>\n",
              "      <td>785.0</td>\n",
              "      <td>2008-08-12T02:37:15Z</td>\n",
              "      <td>6430</td>\n",
              "      <td>-2</td>\n",
              "      <td>&lt;p&gt;Aha, I was really just testing everyone onc...</td>\n",
              "    </tr>\n",
              "    <tr>\n",
              "      <th>386</th>\n",
              "      <td>10687</td>\n",
              "      <td>234.0</td>\n",
              "      <td>2008-08-14T05:03:34Z</td>\n",
              "      <td>10610</td>\n",
              "      <td>-1</td>\n",
              "      <td>&lt;p&gt;e-texteditor hilights what you're searching...</td>\n",
              "    </tr>\n",
              "    <tr>\n",
              "      <th>483</th>\n",
              "      <td>12098</td>\n",
              "      <td>198.0</td>\n",
              "      <td>2008-08-15T09:24:51Z</td>\n",
              "      <td>10980</td>\n",
              "      <td>-2</td>\n",
              "      <td>&lt;p&gt;I'm not a lawyer but all licenses mentioned...</td>\n",
              "    </tr>\n",
              "    <tr>\n",
              "      <th>498</th>\n",
              "      <td>12885</td>\n",
              "      <td>872.0</td>\n",
              "      <td>2008-08-15T23:27:13Z</td>\n",
              "      <td>12870</td>\n",
              "      <td>-1</td>\n",
              "      <td>&lt;p&gt;There is no pretty solution.  Java just doe...</td>\n",
              "    </tr>\n",
              "    <tr>\n",
              "      <th>...</th>\n",
              "      <td>...</td>\n",
              "      <td>...</td>\n",
              "      <td>...</td>\n",
              "      <td>...</td>\n",
              "      <td>...</td>\n",
              "      <td>...</td>\n",
              "    </tr>\n",
              "    <tr>\n",
              "      <th>2014340</th>\n",
              "      <td>40139542</td>\n",
              "      <td>541038.0</td>\n",
              "      <td>2016-10-19T19:02:35Z</td>\n",
              "      <td>40139460</td>\n",
              "      <td>-1</td>\n",
              "      <td>&lt;pre&gt;&lt;code&gt;CHUNKSIZE=1024 # read 1024 bytes at...</td>\n",
              "    </tr>\n",
              "    <tr>\n",
              "      <th>2014343</th>\n",
              "      <td>40139568</td>\n",
              "      <td>3220135.0</td>\n",
              "      <td>2016-10-19T19:04:27Z</td>\n",
              "      <td>40139460</td>\n",
              "      <td>-1</td>\n",
              "      <td>&lt;p&gt;depending on how your particular data is br...</td>\n",
              "    </tr>\n",
              "    <tr>\n",
              "      <th>2014347</th>\n",
              "      <td>40139589</td>\n",
              "      <td>5912548.0</td>\n",
              "      <td>2016-10-19T19:06:08Z</td>\n",
              "      <td>40137060</td>\n",
              "      <td>-1</td>\n",
              "      <td>&lt;p&gt;I don't have ggplot installed, but maybe a ...</td>\n",
              "    </tr>\n",
              "    <tr>\n",
              "      <th>2014360</th>\n",
              "      <td>40139866</td>\n",
              "      <td>3831435.0</td>\n",
              "      <td>2016-10-19T19:21:27Z</td>\n",
              "      <td>40139500</td>\n",
              "      <td>-1</td>\n",
              "      <td>&lt;p&gt;Try this:&lt;/p&gt;\\n\\n&lt;pre&gt;&lt;code&gt;#include \"stdaf...</td>\n",
              "    </tr>\n",
              "    <tr>\n",
              "      <th>2014382</th>\n",
              "      <td>40140367</td>\n",
              "      <td>1461850.0</td>\n",
              "      <td>2016-10-19T19:52:48Z</td>\n",
              "      <td>40139460</td>\n",
              "      <td>-1</td>\n",
              "      <td>&lt;p&gt;You could use &lt;a href=\"http://docs.scipy.or...</td>\n",
              "    </tr>\n",
              "  </tbody>\n",
              "</table>\n",
              "<p>35046 rows × 6 columns</p>\n",
              "</div>\n",
              "      <button class=\"colab-df-convert\" onclick=\"convertToInteractive('df-378f861d-2928-484b-9c85-d05b1e6c410c')\"\n",
              "              title=\"Convert this dataframe to an interactive table.\"\n",
              "              style=\"display:none;\">\n",
              "        \n",
              "  <svg xmlns=\"http://www.w3.org/2000/svg\" height=\"24px\"viewBox=\"0 0 24 24\"\n",
              "       width=\"24px\">\n",
              "    <path d=\"M0 0h24v24H0V0z\" fill=\"none\"/>\n",
              "    <path d=\"M18.56 5.44l.94 2.06.94-2.06 2.06-.94-2.06-.94-.94-2.06-.94 2.06-2.06.94zm-11 1L8.5 8.5l.94-2.06 2.06-.94-2.06-.94L8.5 2.5l-.94 2.06-2.06.94zm10 10l.94 2.06.94-2.06 2.06-.94-2.06-.94-.94-2.06-.94 2.06-2.06.94z\"/><path d=\"M17.41 7.96l-1.37-1.37c-.4-.4-.92-.59-1.43-.59-.52 0-1.04.2-1.43.59L10.3 9.45l-7.72 7.72c-.78.78-.78 2.05 0 2.83L4 21.41c.39.39.9.59 1.41.59.51 0 1.02-.2 1.41-.59l7.78-7.78 2.81-2.81c.8-.78.8-2.07 0-2.86zM5.41 20L4 18.59l7.72-7.72 1.47 1.35L5.41 20z\"/>\n",
              "  </svg>\n",
              "      </button>\n",
              "      \n",
              "  <style>\n",
              "    .colab-df-container {\n",
              "      display:flex;\n",
              "      flex-wrap:wrap;\n",
              "      gap: 12px;\n",
              "    }\n",
              "\n",
              "    .colab-df-convert {\n",
              "      background-color: #E8F0FE;\n",
              "      border: none;\n",
              "      border-radius: 50%;\n",
              "      cursor: pointer;\n",
              "      display: none;\n",
              "      fill: #1967D2;\n",
              "      height: 32px;\n",
              "      padding: 0 0 0 0;\n",
              "      width: 32px;\n",
              "    }\n",
              "\n",
              "    .colab-df-convert:hover {\n",
              "      background-color: #E2EBFA;\n",
              "      box-shadow: 0px 1px 2px rgba(60, 64, 67, 0.3), 0px 1px 3px 1px rgba(60, 64, 67, 0.15);\n",
              "      fill: #174EA6;\n",
              "    }\n",
              "\n",
              "    [theme=dark] .colab-df-convert {\n",
              "      background-color: #3B4455;\n",
              "      fill: #D2E3FC;\n",
              "    }\n",
              "\n",
              "    [theme=dark] .colab-df-convert:hover {\n",
              "      background-color: #434B5C;\n",
              "      box-shadow: 0px 1px 3px 1px rgba(0, 0, 0, 0.15);\n",
              "      filter: drop-shadow(0px 1px 2px rgba(0, 0, 0, 0.3));\n",
              "      fill: #FFFFFF;\n",
              "    }\n",
              "  </style>\n",
              "\n",
              "      <script>\n",
              "        const buttonEl =\n",
              "          document.querySelector('#df-378f861d-2928-484b-9c85-d05b1e6c410c button.colab-df-convert');\n",
              "        buttonEl.style.display =\n",
              "          google.colab.kernel.accessAllowed ? 'block' : 'none';\n",
              "\n",
              "        async function convertToInteractive(key) {\n",
              "          const element = document.querySelector('#df-378f861d-2928-484b-9c85-d05b1e6c410c');\n",
              "          const dataTable =\n",
              "            await google.colab.kernel.invokeFunction('convertToInteractive',\n",
              "                                                     [key], {});\n",
              "          if (!dataTable) return;\n",
              "\n",
              "          const docLinkHtml = 'Like what you see? Visit the ' +\n",
              "            '<a target=\"_blank\" href=https://colab.research.google.com/notebooks/data_table.ipynb>data table notebook</a>'\n",
              "            + ' to learn more about interactive tables.';\n",
              "          element.innerHTML = '';\n",
              "          dataTable['output_type'] = 'display_data';\n",
              "          await google.colab.output.renderOutput(dataTable, element);\n",
              "          const docLink = document.createElement('div');\n",
              "          docLink.innerHTML = docLinkHtml;\n",
              "          element.appendChild(docLink);\n",
              "        }\n",
              "      </script>\n",
              "    </div>\n",
              "  </div>\n",
              "  "
            ],
            "text/plain": [
              "               Id  ...                                               Body\n",
              "259          7896  ...  <p>fstream are great but I will go a little de...\n",
              "284          8421  ...  <p>Aha, I was really just testing everyone onc...\n",
              "386         10687  ...  <p>e-texteditor hilights what you're searching...\n",
              "483         12098  ...  <p>I'm not a lawyer but all licenses mentioned...\n",
              "498         12885  ...  <p>There is no pretty solution.  Java just doe...\n",
              "...           ...  ...                                                ...\n",
              "2014340  40139542  ...  <pre><code>CHUNKSIZE=1024 # read 1024 bytes at...\n",
              "2014343  40139568  ...  <p>depending on how your particular data is br...\n",
              "2014347  40139589  ...  <p>I don't have ggplot installed, but maybe a ...\n",
              "2014360  40139866  ...  <p>Try this:</p>\\n\\n<pre><code>#include \"stdaf...\n",
              "2014382  40140367  ...  <p>You could use <a href=\"http://docs.scipy.or...\n",
              "\n",
              "[35046 rows x 6 columns]"
            ]
          },
          "execution_count": 16,
          "metadata": {},
          "output_type": "execute_result"
        }
      ],
      "source": [
        "#negative scores\n",
        "negative_scores_answers = answers[answers[\"Score\"] < 0]\n",
        "negative_scores_answers"
      ]
    },
    {
      "cell_type": "code",
      "execution_count": null,
      "metadata": {
        "colab": {
          "base_uri": "https://localhost:8080/"
        },
        "id": "bBb1Bk8yGM3w",
        "outputId": "22a0b801-41ac-47d5-c013-577bb885e950"
      },
      "outputs": [
        {
          "data": {
            "text/plain": [
              "ParentId\n",
              "80          3\n",
              "90          3\n",
              "120         1\n",
              "180         9\n",
              "260         9\n",
              "           ..\n",
              "40142860    1\n",
              "40142900    1\n",
              "40142910    1\n",
              "40142940    2\n",
              "40143190    2\n",
              "Name: Id, Length: 1102568, dtype: int64"
            ]
          },
          "execution_count": 17,
          "metadata": {},
          "output_type": "execute_result"
        }
      ],
      "source": [
        "#Number of answers for question\n",
        "answers_for_post = answers.groupby([\"ParentId\"]).count()[\"Id\"]\n",
        "answers_for_post"
      ]
    },
    {
      "cell_type": "code",
      "execution_count": null,
      "metadata": {
        "colab": {
          "base_uri": "https://localhost:8080/"
        },
        "id": "DF1p9H25uNQN",
        "outputId": "e1b2cb36-800d-43bb-fe6e-58d3b959670a"
      },
      "outputs": [
        {
          "data": {
            "text/plain": [
              "408"
            ]
          },
          "execution_count": 18,
          "metadata": {},
          "output_type": "execute_result"
        }
      ],
      "source": [
        "#max number of answers for a post\n",
        "answers_for_post.max()"
      ]
    },
    {
      "cell_type": "code",
      "execution_count": null,
      "metadata": {
        "colab": {
          "base_uri": "https://localhost:8080/"
        },
        "id": "nH9S_AVPuFeQ",
        "outputId": "dc4f7086-6f5c-4da6-c0fd-79162de5b8d7"
      },
      "outputs": [
        {
          "name": "stdout",
          "output_type": "stream",
          "text": [
            "#answers   #questions\n"
          ]
        },
        {
          "data": {
            "text/plain": [
              "1      606272\n",
              "2      284868\n",
              "3      117396\n",
              "4       49255\n",
              "5       21767\n",
              "6       10005\n",
              "7        5132\n",
              "8        2760\n",
              "9        1553\n",
              "10        954\n",
              "11        702\n",
              "12        508\n",
              "13        311\n",
              "14        237\n",
              "15        187\n",
              "16        125\n",
              "17        100\n",
              "18         86\n",
              "19         54\n",
              "20         42\n",
              "21         31\n",
              "22         31\n",
              "23         29\n",
              "24         22\n",
              "25         17\n",
              "27         16\n",
              "26         15\n",
              "29         12\n",
              "31         11\n",
              "28         11\n",
              "30         11\n",
              "32          7\n",
              "34          5\n",
              "33          5\n",
              "38          3\n",
              "40          3\n",
              "36          3\n",
              "35          2\n",
              "39          2\n",
              "43          2\n",
              "49          1\n",
              "67          1\n",
              "42          1\n",
              "50          1\n",
              "41          1\n",
              "59          1\n",
              "408         1\n",
              "45          1\n",
              "100         1\n",
              "55          1\n",
              "51          1\n",
              "61          1\n",
              "69          1\n",
              "316         1\n",
              "129         1\n",
              "37          1\n",
              "Name: Id, dtype: int64"
            ]
          },
          "execution_count": 19,
          "metadata": {},
          "output_type": "execute_result"
        }
      ],
      "source": [
        "#How many questions have a certain number of answers?\n",
        "print(\"#answers   #questions\")\n",
        "answers_for_post.value_counts()"
      ]
    },
    {
      "cell_type": "code",
      "execution_count": null,
      "metadata": {
        "colab": {
          "base_uri": "https://localhost:8080/"
        },
        "id": "gEiYYRsyrql2",
        "outputId": "09e32fb0-0994-479a-bb1e-c4c321a00b56"
      },
      "outputs": [
        {
          "data": {
            "text/plain": [
              "Id                  0\n",
              "OwnerUserId     13200\n",
              "CreationDate        0\n",
              "ParentId            0\n",
              "Score               0\n",
              "Body                0\n",
              "dtype: int64"
            ]
          },
          "execution_count": 20,
          "metadata": {},
          "output_type": "execute_result"
        }
      ],
      "source": [
        "#How many NaN values?\n",
        "answers.isna().sum()"
      ]
    },
    {
      "cell_type": "code",
      "execution_count": null,
      "metadata": {
        "colab": {
          "base_uri": "https://localhost:8080/"
        },
        "id": "dhH_hoaHx4nS",
        "outputId": "af11b101-9a46-4044-bdae-b5c8c95521dc"
      },
      "outputs": [
        {
          "name": "stdout",
          "output_type": "stream",
          "text": [
            "UserId     #answers\n"
          ]
        },
        {
          "data": {
            "text/plain": [
              "22656.0      3270\n",
              "1144035.0    3009\n",
              "29407.0      2144\n",
              "548225.0     1924\n",
              "115145.0     1813\n",
              "             ... \n",
              "3072736.0       1\n",
              "155506.0        1\n",
              "2869216.0       1\n",
              "2713587.0       1\n",
              "4464432.0       1\n",
              "Name: OwnerUserId, Length: 468797, dtype: int64"
            ]
          },
          "execution_count": 21,
          "metadata": {},
          "output_type": "execute_result"
        }
      ],
      "source": [
        "#How many questions were answered by the users?\n",
        "users_and_number_of_answers = answers[\"OwnerUserId\"].value_counts()\n",
        "print(\"UserId     #answers\")\n",
        "users_and_number_of_answers"
      ]
    },
    {
      "cell_type": "code",
      "execution_count": null,
      "metadata": {
        "colab": {
          "base_uri": "https://localhost:8080/"
        },
        "id": "-UKM1Ol81yHo",
        "outputId": "8a7e26a6-85c8-4921-b61c-0572fa55253b"
      },
      "outputs": [
        {
          "name": "stdout",
          "output_type": "stream",
          "text": [
            "#answers    #users\n"
          ]
        },
        {
          "data": {
            "text/plain": [
              "1       262716\n",
              "2        72701\n",
              "3        35270\n",
              "4        21035\n",
              "5        13960\n",
              "         ...  \n",
              "411          1\n",
              "413          1\n",
              "415          1\n",
              "419          1\n",
              "3270         1\n",
              "Name: OwnerUserId, Length: 484, dtype: int64"
            ]
          },
          "execution_count": 22,
          "metadata": {},
          "output_type": "execute_result"
        }
      ],
      "source": [
        "#Distribution of the number of answers posted by different users\n",
        "print(\"#answers    #users\")\n",
        "users_and_number_of_answers.value_counts()"
      ]
    },
    {
      "cell_type": "markdown",
      "metadata": {
        "id": "wKi7XF15pqBw"
      },
      "source": [
        "<h2>Tags</h2>"
      ]
    },
    {
      "cell_type": "markdown",
      "metadata": {
        "id": "0gcYNdLe40yH"
      },
      "source": [
        "\n",
        "*   Id: id of the question\n",
        "*   Tag: just the tag :)\n",
        "\n"
      ]
    },
    {
      "cell_type": "code",
      "execution_count": null,
      "metadata": {
        "id": "M21T5o2w4oJU"
      },
      "outputs": [],
      "source": [
        "tags = pd.read_csv(\"/content/drive/MyDrive/Data Mining/Project/Tags.csv\",encoding=\"ISO-8859-1\") #utf-8 is not good in this case"
      ]
    },
    {
      "cell_type": "code",
      "execution_count": null,
      "metadata": {
        "colab": {
          "base_uri": "https://localhost:8080/",
          "height": 363
        },
        "id": "pdfkaejx4oGi",
        "outputId": "0af76362-9458-4fe6-f5d3-36eb60509970"
      },
      "outputs": [
        {
          "data": {
            "text/html": [
              "\n",
              "  <div id=\"df-15b63d07-897f-4a21-8e43-9635c750982a\">\n",
              "    <div class=\"colab-df-container\">\n",
              "      <div>\n",
              "<style scoped>\n",
              "    .dataframe tbody tr th:only-of-type {\n",
              "        vertical-align: middle;\n",
              "    }\n",
              "\n",
              "    .dataframe tbody tr th {\n",
              "        vertical-align: top;\n",
              "    }\n",
              "\n",
              "    .dataframe thead th {\n",
              "        text-align: right;\n",
              "    }\n",
              "</style>\n",
              "<table border=\"1\" class=\"dataframe\">\n",
              "  <thead>\n",
              "    <tr style=\"text-align: right;\">\n",
              "      <th></th>\n",
              "      <th>Id</th>\n",
              "      <th>Tag</th>\n",
              "    </tr>\n",
              "  </thead>\n",
              "  <tbody>\n",
              "    <tr>\n",
              "      <th>0</th>\n",
              "      <td>80</td>\n",
              "      <td>flex</td>\n",
              "    </tr>\n",
              "    <tr>\n",
              "      <th>1</th>\n",
              "      <td>80</td>\n",
              "      <td>actionscript-3</td>\n",
              "    </tr>\n",
              "    <tr>\n",
              "      <th>2</th>\n",
              "      <td>80</td>\n",
              "      <td>air</td>\n",
              "    </tr>\n",
              "    <tr>\n",
              "      <th>3</th>\n",
              "      <td>90</td>\n",
              "      <td>svn</td>\n",
              "    </tr>\n",
              "    <tr>\n",
              "      <th>4</th>\n",
              "      <td>90</td>\n",
              "      <td>tortoisesvn</td>\n",
              "    </tr>\n",
              "    <tr>\n",
              "      <th>5</th>\n",
              "      <td>90</td>\n",
              "      <td>branch</td>\n",
              "    </tr>\n",
              "    <tr>\n",
              "      <th>6</th>\n",
              "      <td>90</td>\n",
              "      <td>branching-and-merging</td>\n",
              "    </tr>\n",
              "    <tr>\n",
              "      <th>7</th>\n",
              "      <td>120</td>\n",
              "      <td>sql</td>\n",
              "    </tr>\n",
              "    <tr>\n",
              "      <th>8</th>\n",
              "      <td>120</td>\n",
              "      <td>asp.net</td>\n",
              "    </tr>\n",
              "    <tr>\n",
              "      <th>9</th>\n",
              "      <td>120</td>\n",
              "      <td>sitemap</td>\n",
              "    </tr>\n",
              "  </tbody>\n",
              "</table>\n",
              "</div>\n",
              "      <button class=\"colab-df-convert\" onclick=\"convertToInteractive('df-15b63d07-897f-4a21-8e43-9635c750982a')\"\n",
              "              title=\"Convert this dataframe to an interactive table.\"\n",
              "              style=\"display:none;\">\n",
              "        \n",
              "  <svg xmlns=\"http://www.w3.org/2000/svg\" height=\"24px\"viewBox=\"0 0 24 24\"\n",
              "       width=\"24px\">\n",
              "    <path d=\"M0 0h24v24H0V0z\" fill=\"none\"/>\n",
              "    <path d=\"M18.56 5.44l.94 2.06.94-2.06 2.06-.94-2.06-.94-.94-2.06-.94 2.06-2.06.94zm-11 1L8.5 8.5l.94-2.06 2.06-.94-2.06-.94L8.5 2.5l-.94 2.06-2.06.94zm10 10l.94 2.06.94-2.06 2.06-.94-2.06-.94-.94-2.06-.94 2.06-2.06.94z\"/><path d=\"M17.41 7.96l-1.37-1.37c-.4-.4-.92-.59-1.43-.59-.52 0-1.04.2-1.43.59L10.3 9.45l-7.72 7.72c-.78.78-.78 2.05 0 2.83L4 21.41c.39.39.9.59 1.41.59.51 0 1.02-.2 1.41-.59l7.78-7.78 2.81-2.81c.8-.78.8-2.07 0-2.86zM5.41 20L4 18.59l7.72-7.72 1.47 1.35L5.41 20z\"/>\n",
              "  </svg>\n",
              "      </button>\n",
              "      \n",
              "  <style>\n",
              "    .colab-df-container {\n",
              "      display:flex;\n",
              "      flex-wrap:wrap;\n",
              "      gap: 12px;\n",
              "    }\n",
              "\n",
              "    .colab-df-convert {\n",
              "      background-color: #E8F0FE;\n",
              "      border: none;\n",
              "      border-radius: 50%;\n",
              "      cursor: pointer;\n",
              "      display: none;\n",
              "      fill: #1967D2;\n",
              "      height: 32px;\n",
              "      padding: 0 0 0 0;\n",
              "      width: 32px;\n",
              "    }\n",
              "\n",
              "    .colab-df-convert:hover {\n",
              "      background-color: #E2EBFA;\n",
              "      box-shadow: 0px 1px 2px rgba(60, 64, 67, 0.3), 0px 1px 3px 1px rgba(60, 64, 67, 0.15);\n",
              "      fill: #174EA6;\n",
              "    }\n",
              "\n",
              "    [theme=dark] .colab-df-convert {\n",
              "      background-color: #3B4455;\n",
              "      fill: #D2E3FC;\n",
              "    }\n",
              "\n",
              "    [theme=dark] .colab-df-convert:hover {\n",
              "      background-color: #434B5C;\n",
              "      box-shadow: 0px 1px 3px 1px rgba(0, 0, 0, 0.15);\n",
              "      filter: drop-shadow(0px 1px 2px rgba(0, 0, 0, 0.3));\n",
              "      fill: #FFFFFF;\n",
              "    }\n",
              "  </style>\n",
              "\n",
              "      <script>\n",
              "        const buttonEl =\n",
              "          document.querySelector('#df-15b63d07-897f-4a21-8e43-9635c750982a button.colab-df-convert');\n",
              "        buttonEl.style.display =\n",
              "          google.colab.kernel.accessAllowed ? 'block' : 'none';\n",
              "\n",
              "        async function convertToInteractive(key) {\n",
              "          const element = document.querySelector('#df-15b63d07-897f-4a21-8e43-9635c750982a');\n",
              "          const dataTable =\n",
              "            await google.colab.kernel.invokeFunction('convertToInteractive',\n",
              "                                                     [key], {});\n",
              "          if (!dataTable) return;\n",
              "\n",
              "          const docLinkHtml = 'Like what you see? Visit the ' +\n",
              "            '<a target=\"_blank\" href=https://colab.research.google.com/notebooks/data_table.ipynb>data table notebook</a>'\n",
              "            + ' to learn more about interactive tables.';\n",
              "          element.innerHTML = '';\n",
              "          dataTable['output_type'] = 'display_data';\n",
              "          await google.colab.output.renderOutput(dataTable, element);\n",
              "          const docLink = document.createElement('div');\n",
              "          docLink.innerHTML = docLinkHtml;\n",
              "          element.appendChild(docLink);\n",
              "        }\n",
              "      </script>\n",
              "    </div>\n",
              "  </div>\n",
              "  "
            ],
            "text/plain": [
              "    Id                    Tag\n",
              "0   80                   flex\n",
              "1   80         actionscript-3\n",
              "2   80                    air\n",
              "3   90                    svn\n",
              "4   90            tortoisesvn\n",
              "5   90                 branch\n",
              "6   90  branching-and-merging\n",
              "7  120                    sql\n",
              "8  120                asp.net\n",
              "9  120                sitemap"
            ]
          },
          "execution_count": 24,
          "metadata": {},
          "output_type": "execute_result"
        }
      ],
      "source": [
        "tags.head(10)"
      ]
    },
    {
      "cell_type": "code",
      "execution_count": null,
      "metadata": {
        "colab": {
          "base_uri": "https://localhost:8080/"
        },
        "id": "suT2aso54w2v",
        "outputId": "491dd646-2628-4366-c213-aa29c81c0faf"
      },
      "outputs": [
        {
          "data": {
            "text/plain": [
              "3750994"
            ]
          },
          "execution_count": 25,
          "metadata": {},
          "output_type": "execute_result"
        }
      ],
      "source": [
        "#How many rows?\n",
        "tags.shape[0]"
      ]
    },
    {
      "cell_type": "code",
      "execution_count": null,
      "metadata": {
        "colab": {
          "base_uri": "https://localhost:8080/"
        },
        "id": "r8bgqlxp7FtF",
        "outputId": "ca0d7744-cd57-4f33-98f4-9c4eb57eac5b"
      },
      "outputs": [
        {
          "data": {
            "text/plain": [
              "Id        0\n",
              "Tag    1113\n",
              "dtype: int64"
            ]
          },
          "execution_count": 26,
          "metadata": {},
          "output_type": "execute_result"
        }
      ],
      "source": [
        "#Check if there are some null values\n",
        "tags.isna().sum()"
      ]
    },
    {
      "cell_type": "code",
      "execution_count": null,
      "metadata": {
        "colab": {
          "base_uri": "https://localhost:8080/"
        },
        "id": "JRmlKKwW5L8W",
        "outputId": "8ea9e86b-114a-46c1-a7e7-6178e7d20363"
      },
      "outputs": [
        {
          "name": "stdout",
          "output_type": "stream",
          "text": [
            "Post     #tags\n"
          ]
        },
        {
          "data": {
            "text/plain": [
              "11053790    5\n",
              "5221980     5\n",
              "25573000    5\n",
              "25573010    5\n",
              "16468060    5\n",
              "           ..\n",
              "8240020     1\n",
              "11770790    1\n",
              "21883080    1\n",
              "3949000     1\n",
              "34943370    1\n",
              "Name: Id, Length: 1264216, dtype: int64"
            ]
          },
          "execution_count": 27,
          "metadata": {},
          "output_type": "execute_result"
        }
      ],
      "source": [
        "#Number of tags for post\n",
        "number_of_tags_for_post = tags[\"Id\"].value_counts()\n",
        "print(\"Post     #tags\")\n",
        "number_of_tags_for_post"
      ]
    },
    {
      "cell_type": "code",
      "execution_count": null,
      "metadata": {
        "colab": {
          "base_uri": "https://localhost:8080/",
          "height": 284
        },
        "id": "kGqbH65N70B9",
        "outputId": "140c7f9f-5207-4876-ffef-9d85dad27fa5"
      },
      "outputs": [
        {
          "data": {
            "text/plain": [
              "<matplotlib.axes._subplots.AxesSubplot at 0x7f38a1283310>"
            ]
          },
          "execution_count": 28,
          "metadata": {},
          "output_type": "execute_result"
        },
        {
          "data": {
            "image/png": "[encoded data removed]",
            "text/plain": [
              "<Figure size 432x288 with 1 Axes>"
            ]
          },
          "metadata": {},
          "output_type": "display_data"
        }
      ],
      "source": [
        "#Distribution of number of tags\n",
        "number_of_tags_for_post.hist()"
      ]
    },
    {
      "cell_type": "code",
      "execution_count": null,
      "metadata": {
        "colab": {
          "base_uri": "https://localhost:8080/"
        },
        "id": "InKl0Ru19ilk",
        "outputId": "ee1f9056-0840-4a75-80fc-0058ac46d26a"
      },
      "outputs": [
        {
          "data": {
            "text/plain": [
              "javascript           124155\n",
              "java                 115212\n",
              "c#                   101186\n",
              "php                   98808\n",
              "android               90659\n",
              "                      ...  \n",
              "testcasesource            1\n",
              "google-floodlight         1\n",
              "iecapt                    1\n",
              "netfs                     1\n",
              "docker-windows            1\n",
              "Name: Tag, Length: 37034, dtype: int64"
            ]
          },
          "execution_count": 29,
          "metadata": {},
          "output_type": "execute_result"
        }
      ],
      "source": [
        "#Number of tags for post\n",
        "tags_used = tags[\"Tag\"].value_counts()\n",
        "tags_used"
      ]
    },
    {
      "cell_type": "code",
      "execution_count": null,
      "metadata": {
        "colab": {
          "base_uri": "https://localhost:8080/"
        },
        "id": "BJAHeGyPrI3i",
        "outputId": "23822828-b930-4ba7-86b6-93db8121214f"
      },
      "outputs": [
        {
          "data": {
            "text/plain": [
              "14177"
            ]
          },
          "execution_count": 30,
          "metadata": {},
          "output_type": "execute_result"
        }
      ],
      "source": [
        "counter = 0\n",
        "for i in tags_used:\n",
        "  if i > 10:\n",
        "    counter+=1\n",
        "counter"
      ]
    },
    {
      "cell_type": "code",
      "execution_count": null,
      "metadata": {
        "colab": {
          "base_uri": "https://localhost:8080/"
        },
        "id": "e0pGmlDf-QvZ",
        "outputId": "0f2895fe-4ce4-41ed-cada-33c8321f67a3"
      },
      "outputs": [
        {
          "name": "stdout",
          "output_type": "stream",
          "text": [
            "#occurrences #tags\n"
          ]
        },
        {
          "data": {
            "text/plain": [
              "1       6427\n",
              "2       4148\n",
              "3       2989\n",
              "4       2245\n",
              "5       1697\n",
              "        ... \n",
              "1143       1\n",
              "1139       1\n",
              "1137       1\n",
              "1136       1\n",
              "671        1\n",
              "Name: Tag, Length: 1193, dtype: int64"
            ]
          },
          "execution_count": 31,
          "metadata": {},
          "output_type": "execute_result"
        }
      ],
      "source": [
        "#How many tags appear a certain number of times\n",
        "print(\"#occurrences #tags\")\n",
        "occ_tags = tags_used.value_counts()\n",
        "occ_tags"
      ]
    },
    {
      "cell_type": "code",
      "execution_count": null,
      "metadata": {
        "colab": {
          "base_uri": "https://localhost:8080/"
        },
        "id": "LTMq1mah8-nC",
        "outputId": "3e99df29-d995-4928-9b8d-62bcc7c6bd27"
      },
      "outputs": [
        {
          "data": {
            "text/plain": [
              "(-123.155, 6208.7]      36973\n",
              "(6208.7, 12416.4]          29\n",
              "(12416.4, 18624.1]         11\n",
              "(18624.1, 24831.8]          5\n",
              "(24831.8, 31039.5]          3\n",
              "(37247.2, 43454.9]          2\n",
              "(43454.9, 49662.6]          2\n",
              "(74493.4, 80701.1]          1\n",
              "(111739.6, 117947.3]        1\n",
              "(99324.2, 105531.9]         1\n",
              "(93116.5, 99324.2]          1\n",
              "(86908.8, 93116.5]          1\n",
              "(62078.0, 68285.7]          1\n",
              "(55870.3, 62078.0]          1\n",
              "(31039.5, 37247.2]          1\n",
              "(117947.3, 124155.0]        1\n",
              "(80701.1, 86908.8]          0\n",
              "(68285.7, 74493.4]          0\n",
              "(49662.6, 55870.3]          0\n",
              "(105531.9, 111739.6]        0\n",
              "Name: Tag, dtype: int64"
            ]
          },
          "execution_count": 32,
          "metadata": {},
          "output_type": "execute_result"
        }
      ],
      "source": [
        "#distribution of how many tags appear a certain number of times\n",
        "tags_used_groups = tags_used.value_counts(bins=20)\n",
        "tags_used_groups"
      ]
    },
    {
      "cell_type": "markdown",
      "metadata": {
        "id": "rxw8aRjTWf9w"
      },
      "source": [
        "# Preprocessing"
      ]
    },
    {
      "cell_type": "markdown",
      "metadata": {
        "id": "KAinZNvHGmmo"
      },
      "source": [
        "*As* shown in the next cell, the body of the questions have a lot of things that I have to elaborate in the preprocessing phase: HTML tags, punctuation, stop words, URLs and programming code. Right now I think I will remove HTML tags, punctuation and stop words. Programming code can be handled by CodeBERT, so I will leave it there. Still unsure what to do with URLs. "
      ]
    },
    {
      "cell_type": "code",
      "execution_count": 6,
      "metadata": {
        "colab": {
          "base_uri": "https://localhost:8080/"
        },
        "id": "c2UUCjgl4ndC",
        "outputId": "0bbd1045-0027-4603-b19c-dbec0401c83d"
      },
      "outputs": [
        {
          "output_type": "stream",
          "name": "stdout",
          "text": [
            "[nltk_data] Downloading package stopwords to /root/nltk_data...\n",
            "[nltk_data]   Unzipping corpora/stopwords.zip.\n"
          ]
        }
      ],
      "source": [
        "import re\n",
        "from bs4 import BeautifulSoup as soup\n",
        "import nltk\n",
        "nltk.download('stopwords')\n",
        "from nltk.corpus import stopwords\n",
        "import string"
      ]
    },
    {
      "cell_type": "code",
      "execution_count": 7,
      "metadata": {
        "id": "aQn-C3y14OcC"
      },
      "outputs": [],
      "source": [
        "def cleanpunc(sentence): \n",
        "    no_punct = sentence.translate(str.maketrans('', '', string.punctuation))\n",
        "    return  no_punct"
      ]
    },
    {
      "cell_type": "code",
      "execution_count": 8,
      "metadata": {
        "id": "JcP2XtWi4l1a"
      },
      "outputs": [],
      "source": [
        "def decontracted(phrase):\n",
        "    # specific\n",
        "    phrase = re.sub(r\"won't\", \"will not\", phrase)\n",
        "    phrase = re.sub(r\"can\\'t\", \"can not\", phrase)\n",
        "\n",
        "    # general\n",
        "    phrase = re.sub(r\"n\\'t\", \" not\", phrase)\n",
        "    phrase = re.sub(r\"\\'re\", \" are\", phrase)\n",
        "    phrase = re.sub(r\"\\'s\", \" is\", phrase)\n",
        "    phrase = re.sub(r\"\\'d\", \" would\", phrase)\n",
        "    phrase = re.sub(r\"\\'ll\", \" will\", phrase)\n",
        "    phrase = re.sub(r\"\\'t\", \" not\", phrase)\n",
        "    phrase = re.sub(r\"\\'ve\", \" have\", phrase)\n",
        "    phrase = re.sub(r\"\\'m\", \" am\", phrase)\n",
        "    phrase = re.sub(r\"\\n\", \" \", phrase)\n",
        "    return phrase"
      ]
    },
    {
      "cell_type": "code",
      "execution_count": 9,
      "metadata": {
        "colab": {
          "base_uri": "https://localhost:8080/"
        },
        "id": "0YMCznUT5PTR",
        "outputId": "8f5699dc-93f4-44ab-85eb-0f113210bea5"
      },
      "outputs": [
        {
          "output_type": "stream",
          "name": "stdout",
          "text": [
            "list of stop words: {'s', 'them', 'be', \"it's\", 'his', \"she's\", 'over', 'having', \"you'd\", \"aren't\", 'where', 'only', 'themselves', 'once', \"that'll\", \"won't\", 'how', 'wouldn', 'weren', 'then', 'any', 'same', \"you'll\", 'these', 'did', 'ourselves', 'with', 'd', 'shan', 'and', 'mightn', 'not', 'very', 'so', 'itself', 're', \"haven't\", 'aren', \"couldn't\", 'whom', \"wouldn't\", 'yourself', 'our', 'again', 'such', 'are', 'what', 'were', 'has', 'on', 'down', 'can', 'own', 'in', 'while', 'doesn', 'or', 'few', \"mustn't\", 'y', 'he', 'more', 'at', 'herself', \"should've\", 'hasn', 'mustn', 'yours', 'me', 'all', 'we', 'o', 'my', 'under', 'the', 'there', 'm', 'as', 'ours', 'which', 'for', 'now', \"shouldn't\", 'didn', 'they', 'is', \"wasn't\", 'himself', 'her', 'you', 'those', 'being', 'do', 'no', 'into', 'was', 'further', 'a', 'above', 'because', 'when', 'theirs', 'am', 've', 'needn', 'after', 'myself', 'your', 'doing', 'this', 'to', 'than', 'nor', 'too', 'ain', 'who', 'does', 'of', 'between', \"isn't\", 'ma', 'some', 'here', 'their', \"doesn't\", 'before', 'below', \"hasn't\", 'hers', 'that', 'against', 'during', \"needn't\", 'yourselves', 'haven', \"hadn't\", \"didn't\", 'off', 'most', 'i', 'don', 'it', 'from', \"shan't\", \"weren't\", 'she', 'up', 'hadn', \"mightn't\", 'll', 'by', 'if', 'but', 't', 'couldn', 'until', 'why', 'isn', 'its', 'had', \"don't\", 'been', 'through', 'will', 'won', 'him', 'out', 'shouldn', 'both', 'should', 'other', 'just', 'about', 'each', \"you're\", 'an', 'wasn', \"you've\", 'have'}\n"
          ]
        }
      ],
      "source": [
        "stop_words = set(stopwords.words('english'))\n",
        "print ('list of stop words:', stop_words)\n",
        "\n",
        "def clean_stop_words(total_text):\n",
        "    if type(total_text) is not int:\n",
        "        string = \"\"\n",
        "        for word in total_text.split():\n",
        "            if not word in stop_words:\n",
        "                string += word + \" \"\n",
        "        return string  "
      ]
    },
    {
      "cell_type": "code",
      "execution_count": 10,
      "metadata": {
        "id": "mgb-nStZFVoy"
      },
      "outputs": [],
      "source": [
        "def preprocessing_operations(text):\n",
        "  splitted_text_code = re.split('<pre><code>|</code></pre>', text)\n",
        "  res = []\n",
        "  for idx, text in enumerate(splitted_text_code):\n",
        "    if idx%2 == 0:\n",
        "      no_html = soup(text, \"lxml\").text\n",
        "      no_punctuation = cleanpunc(no_html)\n",
        "      no_contractions = decontracted(no_punctuation)\n",
        "      no_stopwords = clean_stop_words(no_contractions)\n",
        "      res.append(no_stopwords)\n",
        "    else:\n",
        "      res.append(text)\n",
        "  return res\n",
        "\n",
        "def preprocess_data(data):\n",
        "  cleaned_text = []\n",
        "  if type(data)==type(\"string\"):\n",
        "    cleaned_text = preprocessing_operations(data)\n",
        "  else:\n",
        "    body = data[\"Body\"]\n",
        "    for q in body:\n",
        "      cleaned_text.append(preprocessing_operations(q))\n",
        "  return cleaned_text"
      ]
    },
    {
      "cell_type": "markdown",
      "metadata": {
        "id": "wus1mVOuh710"
      },
      "source": [
        "# Jina"
      ]
    },
    {
      "cell_type": "code",
      "execution_count": 23,
      "metadata": {
        "colab": {
          "base_uri": "https://localhost:8080/"
        },
        "id": "T95C16q5jmWT",
        "outputId": "001912c4-0f20-4a13-a0f5-815feefdc916"
      },
      "outputs": [
        {
          "output_type": "stream",
          "name": "stdout",
          "text": [
            "Requirement already satisfied: jina in /usr/local/lib/python3.7/dist-packages (2.6.4)\n",
            "Requirement already satisfied: pydantic in /usr/local/lib/python3.7/dist-packages (from jina) (1.9.0)\n",
            "Requirement already satisfied: websockets in /usr/local/lib/python3.7/dist-packages (from jina) (10.1)\n",
            "Requirement already satisfied: pyzmq>=17.1.0 in /usr/local/lib/python3.7/dist-packages (from jina) (22.3.0)\n",
            "Requirement already satisfied: grpcio>=1.33.1 in /usr/local/lib/python3.7/dist-packages (from jina) (1.43.0)\n",
            "Requirement already satisfied: numpy in /usr/local/lib/python3.7/dist-packages (from jina) (1.19.5)\n",
            "Requirement already satisfied: uvicorn[standard]>=0.14.0 in /usr/local/lib/python3.7/dist-packages (from jina) (0.17.4)\n",
            "Requirement already satisfied: requests in /usr/local/lib/python3.7/dist-packages (from jina) (2.23.0)\n",
            "Requirement already satisfied: lz4<3.1.2 in /usr/local/lib/python3.7/dist-packages (from jina) (3.1.1)\n",
            "Requirement already satisfied: rich in /usr/local/lib/python3.7/dist-packages (from jina) (11.2.0)\n",
            "Requirement already satisfied: pathspec in /usr/local/lib/python3.7/dist-packages (from jina) (0.9.0)\n",
            "Requirement already satisfied: uvloop in /usr/local/lib/python3.7/dist-packages (from jina) (0.16.0)\n",
            "Requirement already satisfied: cryptography in /usr/local/lib/python3.7/dist-packages (from jina) (36.0.1)\n",
            "Requirement already satisfied: docker in /usr/local/lib/python3.7/dist-packages (from jina) (5.0.3)\n",
            "Requirement already satisfied: filelock in /usr/local/lib/python3.7/dist-packages (from jina) (3.4.2)\n",
            "Requirement already satisfied: aiohttp in /usr/local/lib/python3.7/dist-packages (from jina) (3.8.1)\n",
            "Requirement already satisfied: python-multipart in /usr/local/lib/python3.7/dist-packages (from jina) (0.0.5)\n",
            "Requirement already satisfied: kubernetes>=18.20.0 in /usr/local/lib/python3.7/dist-packages (from jina) (21.7.0)\n",
            "Requirement already satisfied: fastapi in /usr/local/lib/python3.7/dist-packages (from jina) (0.73.0)\n",
            "Requirement already satisfied: tornado>=5.1.0 in /usr/local/lib/python3.7/dist-packages (from jina) (5.1.1)\n",
            "Requirement already satisfied: aiofiles in /usr/local/lib/python3.7/dist-packages (from jina) (0.8.0)\n",
            "Requirement already satisfied: pyyaml>=5.3.1 in /usr/local/lib/python3.7/dist-packages (from jina) (6.0)\n",
            "Requirement already satisfied: aiostream in /usr/local/lib/python3.7/dist-packages (from jina) (0.4.4)\n",
            "Requirement already satisfied: protobuf>=3.13.0 in /usr/local/lib/python3.7/dist-packages (from jina) (3.17.3)\n",
            "Requirement already satisfied: six>=1.5.2 in /usr/local/lib/python3.7/dist-packages (from grpcio>=1.33.1->jina) (1.15.0)\n",
            "Requirement already satisfied: websocket-client!=0.40.0,!=0.41.*,!=0.42.*,>=0.32.0 in /usr/local/lib/python3.7/dist-packages (from kubernetes>=18.20.0->jina) (1.2.3)\n",
            "Requirement already satisfied: python-dateutil>=2.5.3 in /usr/local/lib/python3.7/dist-packages (from kubernetes>=18.20.0->jina) (2.8.2)\n",
            "Requirement already satisfied: setuptools>=21.0.0 in /usr/local/lib/python3.7/dist-packages (from kubernetes>=18.20.0->jina) (59.5.0)\n",
            "Requirement already satisfied: urllib3>=1.24.2 in /usr/local/lib/python3.7/dist-packages (from kubernetes>=18.20.0->jina) (1.24.3)\n",
            "Requirement already satisfied: certifi>=14.05.14 in /usr/local/lib/python3.7/dist-packages (from kubernetes>=18.20.0->jina) (2021.10.8)\n",
            "Requirement already satisfied: google-auth>=1.0.1 in /usr/local/lib/python3.7/dist-packages (from kubernetes>=18.20.0->jina) (1.35.0)\n",
            "Requirement already satisfied: requests-oauthlib in /usr/local/lib/python3.7/dist-packages (from kubernetes>=18.20.0->jina) (1.3.1)\n",
            "Requirement already satisfied: pyasn1-modules>=0.2.1 in /usr/local/lib/python3.7/dist-packages (from google-auth>=1.0.1->kubernetes>=18.20.0->jina) (0.2.8)\n",
            "Requirement already satisfied: cachetools<5.0,>=2.0.0 in /usr/local/lib/python3.7/dist-packages (from google-auth>=1.0.1->kubernetes>=18.20.0->jina) (4.2.4)\n",
            "Requirement already satisfied: rsa<5,>=3.1.4 in /usr/local/lib/python3.7/dist-packages (from google-auth>=1.0.1->kubernetes>=18.20.0->jina) (4.8)\n",
            "Requirement already satisfied: pyasn1<0.5.0,>=0.4.6 in /usr/local/lib/python3.7/dist-packages (from pyasn1-modules>=0.2.1->google-auth>=1.0.1->kubernetes>=18.20.0->jina) (0.4.8)\n",
            "Requirement already satisfied: asgiref>=3.4.0 in /usr/local/lib/python3.7/dist-packages (from uvicorn[standard]>=0.14.0->jina) (3.5.0)\n",
            "Requirement already satisfied: click>=7.0 in /usr/local/lib/python3.7/dist-packages (from uvicorn[standard]>=0.14.0->jina) (7.1.2)\n",
            "Requirement already satisfied: h11>=0.8 in /usr/local/lib/python3.7/dist-packages (from uvicorn[standard]>=0.14.0->jina) (0.13.0)\n",
            "Requirement already satisfied: typing-extensions in /usr/local/lib/python3.7/dist-packages (from uvicorn[standard]>=0.14.0->jina) (3.10.0.2)\n",
            "Requirement already satisfied: httptools<0.4.0,>=0.2.0 in /usr/local/lib/python3.7/dist-packages (from uvicorn[standard]>=0.14.0->jina) (0.3.0)\n",
            "Requirement already satisfied: watchgod>=0.6 in /usr/local/lib/python3.7/dist-packages (from uvicorn[standard]>=0.14.0->jina) (0.7)\n",
            "Requirement already satisfied: python-dotenv>=0.13 in /usr/local/lib/python3.7/dist-packages (from uvicorn[standard]>=0.14.0->jina) (0.19.2)\n",
            "Requirement already satisfied: aiosignal>=1.1.2 in /usr/local/lib/python3.7/dist-packages (from aiohttp->jina) (1.2.0)\n",
            "Requirement already satisfied: yarl<2.0,>=1.0 in /usr/local/lib/python3.7/dist-packages (from aiohttp->jina) (1.7.2)\n",
            "Requirement already satisfied: charset-normalizer<3.0,>=2.0 in /usr/local/lib/python3.7/dist-packages (from aiohttp->jina) (2.0.11)\n",
            "Requirement already satisfied: frozenlist>=1.1.1 in /usr/local/lib/python3.7/dist-packages (from aiohttp->jina) (1.3.0)\n",
            "Requirement already satisfied: asynctest==0.13.0 in /usr/local/lib/python3.7/dist-packages (from aiohttp->jina) (0.13.0)\n",
            "Requirement already satisfied: async-timeout<5.0,>=4.0.0a3 in /usr/local/lib/python3.7/dist-packages (from aiohttp->jina) (4.0.2)\n",
            "Requirement already satisfied: multidict<7.0,>=4.5 in /usr/local/lib/python3.7/dist-packages (from aiohttp->jina) (6.0.2)\n",
            "Requirement already satisfied: attrs>=17.3.0 in /usr/local/lib/python3.7/dist-packages (from aiohttp->jina) (21.4.0)\n",
            "Requirement already satisfied: idna>=2.0 in /usr/local/lib/python3.7/dist-packages (from yarl<2.0,>=1.0->aiohttp->jina) (2.10)\n",
            "Requirement already satisfied: cffi>=1.12 in /usr/local/lib/python3.7/dist-packages (from cryptography->jina) (1.15.0)\n",
            "Requirement already satisfied: pycparser in /usr/local/lib/python3.7/dist-packages (from cffi>=1.12->cryptography->jina) (2.21)\n",
            "Requirement already satisfied: chardet<4,>=3.0.2 in /usr/local/lib/python3.7/dist-packages (from requests->jina) (3.0.4)\n",
            "Requirement already satisfied: starlette==0.17.1 in /usr/local/lib/python3.7/dist-packages (from fastapi->jina) (0.17.1)\n",
            "Requirement already satisfied: anyio<4,>=3.0.0 in /usr/local/lib/python3.7/dist-packages (from starlette==0.17.1->fastapi->jina) (3.5.0)\n",
            "Requirement already satisfied: sniffio>=1.1 in /usr/local/lib/python3.7/dist-packages (from anyio<4,>=3.0.0->starlette==0.17.1->fastapi->jina) (1.2.0)\n",
            "Requirement already satisfied: oauthlib>=3.0.0 in /usr/local/lib/python3.7/dist-packages (from requests-oauthlib->kubernetes>=18.20.0->jina) (3.2.0)\n",
            "Requirement already satisfied: commonmark<0.10.0,>=0.9.0 in /usr/local/lib/python3.7/dist-packages (from rich->jina) (0.9.1)\n",
            "Requirement already satisfied: pygments<3.0.0,>=2.6.0 in /usr/local/lib/python3.7/dist-packages (from rich->jina) (2.6.1)\n",
            "Requirement already satisfied: colorama<0.5.0,>=0.4.0 in /usr/local/lib/python3.7/dist-packages (from rich->jina) (0.4.4)\n"
          ]
        }
      ],
      "source": [
        "!pip install jina"
      ]
    },
    {
      "cell_type": "code",
      "execution_count": 24,
      "metadata": {
        "colab": {
          "base_uri": "https://localhost:8080/"
        },
        "id": "52I4frUGu5_Q",
        "outputId": "ff6d3d14-b865-4bed-ca42-d12ade29ecb0"
      },
      "outputs": [
        {
          "output_type": "stream",
          "name": "stdout",
          "text": [
            "Requirement already satisfied: transformers in /usr/local/lib/python3.7/dist-packages (4.16.2)\n",
            "Requirement already satisfied: pytorch-lightning in /usr/local/lib/python3.7/dist-packages (1.5.10)\n",
            "Requirement already satisfied: filelock in /usr/local/lib/python3.7/dist-packages (from transformers) (3.4.2)\n",
            "Requirement already satisfied: pyyaml>=5.1 in /usr/local/lib/python3.7/dist-packages (from transformers) (6.0)\n",
            "Requirement already satisfied: tokenizers!=0.11.3,>=0.10.1 in /usr/local/lib/python3.7/dist-packages (from transformers) (0.11.4)\n",
            "Requirement already satisfied: importlib-metadata in /usr/local/lib/python3.7/dist-packages (from transformers) (4.10.1)\n",
            "Requirement already satisfied: requests in /usr/local/lib/python3.7/dist-packages (from transformers) (2.23.0)\n",
            "Requirement already satisfied: tqdm>=4.27 in /usr/local/lib/python3.7/dist-packages (from transformers) (4.62.3)\n",
            "Requirement already satisfied: regex!=2019.12.17 in /usr/local/lib/python3.7/dist-packages (from transformers) (2019.12.20)\n",
            "Requirement already satisfied: sacremoses in /usr/local/lib/python3.7/dist-packages (from transformers) (0.0.47)\n",
            "Requirement already satisfied: packaging>=20.0 in /usr/local/lib/python3.7/dist-packages (from transformers) (21.3)\n",
            "Requirement already satisfied: huggingface-hub<1.0,>=0.1.0 in /usr/local/lib/python3.7/dist-packages (from transformers) (0.4.0)\n",
            "Requirement already satisfied: numpy>=1.17 in /usr/local/lib/python3.7/dist-packages (from transformers) (1.19.5)\n",
            "Requirement already satisfied: typing-extensions>=3.7.4.3 in /usr/local/lib/python3.7/dist-packages (from huggingface-hub<1.0,>=0.1.0->transformers) (3.10.0.2)\n",
            "Requirement already satisfied: pyparsing!=3.0.5,>=2.0.2 in /usr/local/lib/python3.7/dist-packages (from packaging>=20.0->transformers) (3.0.7)\n",
            "Requirement already satisfied: fsspec[http]!=2021.06.0,>=2021.05.0 in /usr/local/lib/python3.7/dist-packages (from pytorch-lightning) (2022.1.0)\n",
            "Requirement already satisfied: setuptools==59.5.0 in /usr/local/lib/python3.7/dist-packages (from pytorch-lightning) (59.5.0)\n",
            "Requirement already satisfied: torchmetrics>=0.4.1 in /usr/local/lib/python3.7/dist-packages (from pytorch-lightning) (0.7.2)\n",
            "Requirement already satisfied: torch>=1.7.* in /usr/local/lib/python3.7/dist-packages (from pytorch-lightning) (1.10.0+cu111)\n",
            "Requirement already satisfied: future>=0.17.1 in /usr/local/lib/python3.7/dist-packages (from pytorch-lightning) (0.18.2)\n",
            "Requirement already satisfied: pyDeprecate==0.3.1 in /usr/local/lib/python3.7/dist-packages (from pytorch-lightning) (0.3.1)\n",
            "Requirement already satisfied: tensorboard>=2.2.0 in /usr/local/lib/python3.7/dist-packages (from pytorch-lightning) (2.7.0)\n",
            "Requirement already satisfied: aiohttp in /usr/local/lib/python3.7/dist-packages (from fsspec[http]!=2021.06.0,>=2021.05.0->pytorch-lightning) (3.8.1)\n",
            "Requirement already satisfied: markdown>=2.6.8 in /usr/local/lib/python3.7/dist-packages (from tensorboard>=2.2.0->pytorch-lightning) (3.3.6)\n",
            "Requirement already satisfied: wheel>=0.26 in /usr/local/lib/python3.7/dist-packages (from tensorboard>=2.2.0->pytorch-lightning) (0.37.1)\n",
            "Requirement already satisfied: protobuf>=3.6.0 in /usr/local/lib/python3.7/dist-packages (from tensorboard>=2.2.0->pytorch-lightning) (3.17.3)\n",
            "Requirement already satisfied: tensorboard-plugin-wit>=1.6.0 in /usr/local/lib/python3.7/dist-packages (from tensorboard>=2.2.0->pytorch-lightning) (1.8.1)\n",
            "Requirement already satisfied: grpcio>=1.24.3 in /usr/local/lib/python3.7/dist-packages (from tensorboard>=2.2.0->pytorch-lightning) (1.43.0)\n",
            "Requirement already satisfied: google-auth-oauthlib<0.5,>=0.4.1 in /usr/local/lib/python3.7/dist-packages (from tensorboard>=2.2.0->pytorch-lightning) (0.4.6)\n",
            "Requirement already satisfied: werkzeug>=0.11.15 in /usr/local/lib/python3.7/dist-packages (from tensorboard>=2.2.0->pytorch-lightning) (1.0.1)\n",
            "Requirement already satisfied: google-auth<3,>=1.6.3 in /usr/local/lib/python3.7/dist-packages (from tensorboard>=2.2.0->pytorch-lightning) (1.35.0)\n",
            "Requirement already satisfied: absl-py>=0.4 in /usr/local/lib/python3.7/dist-packages (from tensorboard>=2.2.0->pytorch-lightning) (1.0.0)\n",
            "Requirement already satisfied: tensorboard-data-server<0.7.0,>=0.6.0 in /usr/local/lib/python3.7/dist-packages (from tensorboard>=2.2.0->pytorch-lightning) (0.6.1)\n",
            "Requirement already satisfied: six in /usr/local/lib/python3.7/dist-packages (from absl-py>=0.4->tensorboard>=2.2.0->pytorch-lightning) (1.15.0)\n",
            "Requirement already satisfied: cachetools<5.0,>=2.0.0 in /usr/local/lib/python3.7/dist-packages (from google-auth<3,>=1.6.3->tensorboard>=2.2.0->pytorch-lightning) (4.2.4)\n",
            "Requirement already satisfied: rsa<5,>=3.1.4 in /usr/local/lib/python3.7/dist-packages (from google-auth<3,>=1.6.3->tensorboard>=2.2.0->pytorch-lightning) (4.8)\n",
            "Requirement already satisfied: pyasn1-modules>=0.2.1 in /usr/local/lib/python3.7/dist-packages (from google-auth<3,>=1.6.3->tensorboard>=2.2.0->pytorch-lightning) (0.2.8)\n",
            "Requirement already satisfied: requests-oauthlib>=0.7.0 in /usr/local/lib/python3.7/dist-packages (from google-auth-oauthlib<0.5,>=0.4.1->tensorboard>=2.2.0->pytorch-lightning) (1.3.1)\n",
            "Requirement already satisfied: zipp>=0.5 in /usr/local/lib/python3.7/dist-packages (from importlib-metadata->transformers) (3.7.0)\n",
            "Requirement already satisfied: pyasn1<0.5.0,>=0.4.6 in /usr/local/lib/python3.7/dist-packages (from pyasn1-modules>=0.2.1->google-auth<3,>=1.6.3->tensorboard>=2.2.0->pytorch-lightning) (0.4.8)\n",
            "Requirement already satisfied: certifi>=2017.4.17 in /usr/local/lib/python3.7/dist-packages (from requests->transformers) (2021.10.8)\n",
            "Requirement already satisfied: chardet<4,>=3.0.2 in /usr/local/lib/python3.7/dist-packages (from requests->transformers) (3.0.4)\n",
            "Requirement already satisfied: idna<3,>=2.5 in /usr/local/lib/python3.7/dist-packages (from requests->transformers) (2.10)\n",
            "Requirement already satisfied: urllib3!=1.25.0,!=1.25.1,<1.26,>=1.21.1 in /usr/local/lib/python3.7/dist-packages (from requests->transformers) (1.24.3)\n",
            "Requirement already satisfied: oauthlib>=3.0.0 in /usr/local/lib/python3.7/dist-packages (from requests-oauthlib>=0.7.0->google-auth-oauthlib<0.5,>=0.4.1->tensorboard>=2.2.0->pytorch-lightning) (3.2.0)\n",
            "Requirement already satisfied: charset-normalizer<3.0,>=2.0 in /usr/local/lib/python3.7/dist-packages (from aiohttp->fsspec[http]!=2021.06.0,>=2021.05.0->pytorch-lightning) (2.0.11)\n",
            "Requirement already satisfied: multidict<7.0,>=4.5 in /usr/local/lib/python3.7/dist-packages (from aiohttp->fsspec[http]!=2021.06.0,>=2021.05.0->pytorch-lightning) (6.0.2)\n",
            "Requirement already satisfied: frozenlist>=1.1.1 in /usr/local/lib/python3.7/dist-packages (from aiohttp->fsspec[http]!=2021.06.0,>=2021.05.0->pytorch-lightning) (1.3.0)\n",
            "Requirement already satisfied: asynctest==0.13.0 in /usr/local/lib/python3.7/dist-packages (from aiohttp->fsspec[http]!=2021.06.0,>=2021.05.0->pytorch-lightning) (0.13.0)\n",
            "Requirement already satisfied: async-timeout<5.0,>=4.0.0a3 in /usr/local/lib/python3.7/dist-packages (from aiohttp->fsspec[http]!=2021.06.0,>=2021.05.0->pytorch-lightning) (4.0.2)\n",
            "Requirement already satisfied: attrs>=17.3.0 in /usr/local/lib/python3.7/dist-packages (from aiohttp->fsspec[http]!=2021.06.0,>=2021.05.0->pytorch-lightning) (21.4.0)\n",
            "Requirement already satisfied: aiosignal>=1.1.2 in /usr/local/lib/python3.7/dist-packages (from aiohttp->fsspec[http]!=2021.06.0,>=2021.05.0->pytorch-lightning) (1.2.0)\n",
            "Requirement already satisfied: yarl<2.0,>=1.0 in /usr/local/lib/python3.7/dist-packages (from aiohttp->fsspec[http]!=2021.06.0,>=2021.05.0->pytorch-lightning) (1.7.2)\n",
            "Requirement already satisfied: joblib in /usr/local/lib/python3.7/dist-packages (from sacremoses->transformers) (1.1.0)\n",
            "Requirement already satisfied: click in /usr/local/lib/python3.7/dist-packages (from sacremoses->transformers) (7.1.2)\n"
          ]
        }
      ],
      "source": [
        "! pip install \"transformers\" \"pytorch-lightning\" "
      ]
    },
    {
      "cell_type": "code",
      "execution_count": 25,
      "metadata": {
        "colab": {
          "base_uri": "https://localhost:8080/"
        },
        "id": "cCtiGYEq7V1B",
        "outputId": "f45248c4-73d4-4c46-f5ec-506970a165cf"
      },
      "outputs": [
        {
          "output_type": "stream",
          "name": "stdout",
          "text": [
            "Reading package lists... Done\n",
            "Building dependency tree       \n",
            "Reading state information... Done\n",
            "libomp-dev is already the newest version (5.0.1-1).\n",
            "The following packages were automatically installed and are no longer required:\n",
            "  cuda-command-line-tools-10-0 cuda-command-line-tools-10-1\n",
            "  cuda-command-line-tools-11-0 cuda-compiler-10-0 cuda-compiler-10-1\n",
            "  cuda-compiler-11-0 cuda-cuobjdump-10-0 cuda-cuobjdump-10-1\n",
            "  cuda-cuobjdump-11-0 cuda-cupti-10-0 cuda-cupti-10-1 cuda-cupti-11-0\n",
            "  cuda-cupti-dev-11-0 cuda-documentation-10-0 cuda-documentation-10-1\n",
            "  cuda-documentation-11-0 cuda-documentation-11-1 cuda-gdb-10-0 cuda-gdb-10-1\n",
            "  cuda-gdb-11-0 cuda-gpu-library-advisor-10-0 cuda-gpu-library-advisor-10-1\n",
            "  cuda-libraries-10-0 cuda-libraries-10-1 cuda-libraries-11-0\n",
            "  cuda-memcheck-10-0 cuda-memcheck-10-1 cuda-memcheck-11-0 cuda-nsight-10-0\n",
            "  cuda-nsight-10-1 cuda-nsight-11-0 cuda-nsight-11-1 cuda-nsight-compute-10-0\n",
            "  cuda-nsight-compute-10-1 cuda-nsight-compute-11-0 cuda-nsight-compute-11-1\n",
            "  cuda-nsight-systems-10-1 cuda-nsight-systems-11-0 cuda-nsight-systems-11-1\n",
            "  cuda-nvcc-10-0 cuda-nvcc-10-1 cuda-nvcc-11-0 cuda-nvdisasm-10-0\n",
            "  cuda-nvdisasm-10-1 cuda-nvdisasm-11-0 cuda-nvml-dev-10-0 cuda-nvml-dev-10-1\n",
            "  cuda-nvml-dev-11-0 cuda-nvprof-10-0 cuda-nvprof-10-1 cuda-nvprof-11-0\n",
            "  cuda-nvprune-10-0 cuda-nvprune-10-1 cuda-nvprune-11-0 cuda-nvtx-10-0\n",
            "  cuda-nvtx-10-1 cuda-nvtx-11-0 cuda-nvvp-10-0 cuda-nvvp-10-1 cuda-nvvp-11-0\n",
            "  cuda-nvvp-11-1 cuda-samples-10-0 cuda-samples-10-1 cuda-samples-11-0\n",
            "  cuda-samples-11-1 cuda-sanitizer-11-0 cuda-sanitizer-api-10-1\n",
            "  cuda-toolkit-10-0 cuda-toolkit-10-1 cuda-toolkit-11-0 cuda-toolkit-11-1\n",
            "  cuda-tools-10-0 cuda-tools-10-1 cuda-tools-11-0 cuda-tools-11-1\n",
            "  cuda-visual-tools-10-0 cuda-visual-tools-10-1 cuda-visual-tools-11-0\n",
            "  cuda-visual-tools-11-1 default-jre dkms freeglut3 freeglut3-dev\n",
            "  keyboard-configuration libargon2-0 libcap2 libcryptsetup12\n",
            "  libdevmapper1.02.1 libfontenc1 libidn11 libip4tc0 libjansson4\n",
            "  libnvidia-cfg1-510 libnvidia-common-460 libnvidia-common-510\n",
            "  libnvidia-extra-510 libnvidia-fbc1-510 libnvidia-gl-510 libpam-systemd\n",
            "  libpolkit-agent-1-0 libpolkit-backend-1-0 libpolkit-gobject-1-0 libxfont2\n",
            "  libxi-dev libxkbfile1 libxmu-dev libxmu-headers libxnvctrl0 libxtst6\n",
            "  nsight-compute-2020.2.1 nsight-compute-2022.1.0 nsight-systems-2020.3.2\n",
            "  nsight-systems-2020.3.4 nsight-systems-2021.5.2 nvidia-dkms-510\n",
            "  nvidia-kernel-common-510 nvidia-kernel-source-510 nvidia-modprobe\n",
            "  nvidia-settings openjdk-11-jre policykit-1 policykit-1-gnome python3-xkit\n",
            "  screen-resolution-extra systemd systemd-sysv udev x11-xkb-utils\n",
            "  xserver-common xserver-xorg-core-hwe-18.04 xserver-xorg-video-nvidia-510\n",
            "Use 'apt autoremove' to remove them.\n",
            "0 upgraded, 0 newly installed, 0 to remove and 39 not upgraded.\n",
            "Requirement already satisfied: faiss in /usr/local/lib/python3.7/dist-packages (1.5.3)\n",
            "Requirement already satisfied: numpy in /usr/local/lib/python3.7/dist-packages (from faiss) (1.19.5)\n",
            "Requirement already satisfied: faiss-gpu in /usr/local/lib/python3.7/dist-packages (1.7.2)\n"
          ]
        }
      ],
      "source": [
        "!apt install libomp-dev\n",
        "!pip install faiss\n",
        "!pip install --upgrade faiss-gpu"
      ]
    },
    {
      "cell_type": "code",
      "execution_count": 26,
      "metadata": {
        "id": "0bif-D0NqnPx"
      },
      "outputs": [],
      "source": [
        "from transformers import AutoTokenizer, AutoModel\n",
        "import torch\n",
        "import torch.nn as nn\n",
        "from __future__ import division\n",
        "from math import ceil\n",
        "import numpy as np\n",
        "from jina import Flow, Executor, requests, Document, DocumentArray, DocumentArrayMemmap\n",
        "import faiss\n",
        "import time\n",
        "\n",
        "import warnings\n",
        "warnings.filterwarnings('ignore')"
      ]
    },
    {
      "cell_type": "code",
      "execution_count": 27,
      "metadata": {
        "colab": {
          "base_uri": "https://localhost:8080/"
        },
        "id": "frEE5DlmB6d1",
        "outputId": "4bf357eb-da3d-4f80-e6e6-91001d54abd7"
      },
      "outputs": [
        {
          "output_type": "stream",
          "name": "stdout",
          "text": [
            "There are 1 GPU(s) available.\n",
            "We will use the GPU: Tesla K80\n"
          ]
        }
      ],
      "source": [
        "device = 0\n",
        "if torch.cuda.is_available():    \n",
        "    # Tell PyTorch to use the GPU.    \n",
        "    device = torch.device(\"cuda\")\n",
        "    print('There are %d GPU(s) available.' % torch.cuda.device_count())\n",
        "    print('We will use the GPU:', torch.cuda.get_device_name(0))\n",
        "# If not...\n",
        "else:\n",
        "    print('No GPU available, using the CPU instead.')\n",
        "    device = torch.device(\"cpu\")"
      ]
    },
    {
      "cell_type": "markdown",
      "metadata": {
        "id": "piUtOfu_f5rH"
      },
      "source": [
        "The authors of CodeBert set the MAX_LENGTH for the sentences to 512(+2) so, if the input vector is too big, I can not compute the embeddings -> two possible solutions (https://github.com/microsoft/CodeBERT/issues/16):\n",
        "\n",
        "*   use an RNN over k representations to obtain a final embedding;\n",
        "*   take the average of the representations (https://towardsdatascience.com/how-to-do-average-and-max-word-embedding-for-long-sentences-f3531e99d998)\n",
        "\n",
        "To use the cosine distance we need vectors that have same length ->there are two ways to obtain a representation for the texts of the same length:\n",
        "\n",
        "*   use the [CLS] token;\n",
        "*   use the average of the vectors\n",
        "\n",
        "\n"
      ]
    },
    {
      "cell_type": "code",
      "execution_count": 49,
      "metadata": {
        "id": "b2TY3cvPj9FC"
      },
      "outputs": [],
      "source": [
        "class MyTransformer(Executor):\n",
        "    \"\"\"Transformer executor class \"\"\"\n",
        "\n",
        "    def __init__(\n",
        "            self,\n",
        "            pretrained_model_name_or_path: str = \"microsoft/codebert-base\",\n",
        "            *args,\n",
        "            device: str = 'cpu',\n",
        "            **kwargs,\n",
        "    ):\n",
        "        super().__init__(*args, **kwargs)\n",
        "        self.tokenizer = AutoTokenizer.from_pretrained(pretrained_model_name_or_path)\n",
        "        self.model = AutoModel.from_pretrained(pretrained_model_name_or_path)\n",
        "        self.model.to(device)\n",
        "        print(\"Device used: {}\".format(self.model.device))\n",
        "\n",
        "    def compute_embedding(self,tokens_ids):\n",
        "      if(len(tokens_ids) < 512):  \n",
        "        context_embeddings = self.model(torch.tensor(tokens_ids)[None,:].to(device))[0]\n",
        "      else:\n",
        "        k = ceil(len(tokens_ids) / 512.0)\n",
        "        chunks = np.array_split(tokens_ids, k)\n",
        "        chunks_tensor = torch.tensor(chunks[0])[None,:].to(device)\n",
        "        context_embeddings_list = self.model(chunks_tensor)[0].to(device)\n",
        "        for i in range(1, len(chunks)):\n",
        "          chunks_tensor = torch.tensor(chunks[i])[None,:].to(device)\n",
        "          context_embeddings_list = torch.cat((context_embeddings_list, self.model(chunks_tensor)[0]), 1)\n",
        "        dim = context_embeddings_list.shape[-1]\n",
        "        context_embeddings = context_embeddings_list.to(device)\n",
        "      #compute the average of the vectors\n",
        "      avg_embeddings = torch.mean(context_embeddings,1)[0]\n",
        "      return avg_embeddings\n",
        "\n",
        "    @requests\n",
        "    def encode(self, docs: 'DocumentArray', *args, **kwargs):\n",
        "        start = time.time()\n",
        "        tokens = [self.tokenizer.cls_token]\n",
        "        texts = docs.get_attributes(\"text\")\n",
        "        for idx, q in enumerate(texts): \n",
        "          cleaned_q = preprocess_data(q)\n",
        "          tokens = [self.tokenizer.cls_token]\n",
        "          for l in cleaned_q:\n",
        "            code_tokens = self.tokenizer.tokenize(l)\n",
        "            tokens += code_tokens\n",
        "            tokens += [self.tokenizer.sep_token]\n",
        "          tokens_ids = self.tokenizer.convert_tokens_to_ids(tokens)\n",
        "          docs[idx].embedding = self.compute_embedding(tokens_ids)\n",
        "        print(\"Time needed to encode {} documents: {}\".format(len(docs), time.time()-start))"
      ]
    },
    {
      "cell_type": "code",
      "execution_count": 29,
      "metadata": {
        "id": "mP9i-aWYkBK3"
      },
      "outputs": [],
      "source": [
        "class MyIndexer(Executor):\n",
        "    \"\"\"Simple indexer class \"\"\"\n",
        "\n",
        "    def __init__(self, **kwargs):\n",
        "        super().__init__(**kwargs)\n",
        "        self._docs = DocumentArrayMemmap() \n",
        "    \n",
        "    def print_index(self):\n",
        "      for d in self._docs:\n",
        "        print(\"Document id: {}\\nembedding: {} of shape: {}\".format(d.id, d.embedding, d.embedding.shape))\n",
        "        \n",
        "    @requests(on='/index')\n",
        "    def index(self, docs: DocumentArray, **kwargs):\n",
        "        self._docs.extend(docs)\n",
        "\n",
        "    def print_matches(self, docs):\n",
        "      for d in docs:\n",
        "        print(\"Query Id: {}\".format(d.id))\n",
        "        for i, r in enumerate(d.matches):\n",
        "          print(\"{}th result-> id: {} with cosine value: {}\".format(i+1, r.id, r.scores['cosine'].value))\n",
        "\n",
        "    @requests(on='/search')\n",
        "    def search(self, docs: DocumentArray, **kwargs):\n",
        "        \"\"\"Append best matches to each document in docs\"\"\"\n",
        "        docs.match(self._docs, metric='cosine', normalization=(1, 0), limit=2, only_id=True) #device=\"cuda\"\n",
        "        self.print_matches(docs)"
      ]
    },
    {
      "cell_type": "code",
      "execution_count": 66,
      "metadata": {
        "id": "SQMAhi2rnYnF"
      },
      "outputs": [],
      "source": [
        "class MyNewIndexer(Executor): #Indexer with Faiss library\n",
        "    \"\"\"Simple indexer class \"\"\"\n",
        "\n",
        "    def __init__(self, **kwargs):\n",
        "        super().__init__(**kwargs)\n",
        "        #self._docs = DocumentArrayMemmap() \n",
        "        self.index_output = None\n",
        "        self.index_file = None\n",
        "        for key, value in kwargs.items():\n",
        "          if (key == \"index_output\"):\n",
        "            self.index_output = value\n",
        "          elif(key == \"index_file\"):\n",
        "            self.index_file == value\n",
        "          \n",
        "    @requests(on='/index')\n",
        "    def index(self, docs: DocumentArray, operation: str = \"y\", **kwargs): \n",
        "      if(operation == \"y\"):\n",
        "        dim = docs.embeddings.shape[1]\n",
        "        nlist = 50  # how many cells\n",
        "        m = 8  # number of centroid IDs in final compressed vectors\n",
        "        bits = 8 # number of bits in each centroid\n",
        "\n",
        "        embeddings = docs.embeddings.cpu().detach().numpy()\n",
        "        quantizer = faiss.IndexFlatL2(dim)\n",
        "        self.my_index = faiss.IndexIVFFlat(quantizer, dim, nlist)\n",
        "\n",
        "        start = time.time()\n",
        "        self.my_index.train(embeddings)\n",
        "        self.my_index.add(embeddings)\n",
        "        print(\"Time needed to train and add {} texts to the index: {} s\".format(self.my_index.ntotal, time.time()-start))\n",
        "\n",
        "        #write index on disk\n",
        "        faiss.write_index(self.my_index, self.index_output)\n",
        "      else:\n",
        "        self.my_index = faiss.read_index(self.index_file)\n",
        "\n",
        "    def print_matches(self, docs): #write it again\n",
        "      for d in docs:\n",
        "        print(\"Query Id: {}\".format(d.id))\n",
        "        for i, r in enumerate(d.matches):\n",
        "          print(\"{}th result-> id: {} with cosine value: {}\".format(i+1, r.id, r.scores['cosine'].value))\n",
        "\n",
        "    @requests(on='/search')\n",
        "    def search(self, docs: DocumentArray, k:int = 4, **kwargs):\n",
        "        s, d = self.my_index.search(docs.embeddings.numpy(), k)\n",
        "        start = time.time()\n",
        "        print(\"Time needed to search {} query: {} s\".format(len(docs), time.time()-start))\n",
        "        print(\"Most similar documents: {}\\nwith distance: {}\".format(d,s))\n",
        "        return d[0]\n",
        "          \n",
        "    def print_index(self):\n",
        "      for d in self.index:\n",
        "        print(\"Document id: {}\\nembedding: {} of shape: {}\".format(d.id, d.embedding, d.embedding.shape))"
      ]
    },
    {
      "cell_type": "code",
      "source": [
        "def getKey(item):\n",
        "  return item[2]\n",
        "\n",
        "def get_answers(docIds: list, questions, answers):\n",
        "  for i, idx in enumerate(docIds):\n",
        "    print(\"{}th result:\".format(i+1))\n",
        "    #document\n",
        "    doc = questions.loc[idx]\n",
        "    doc_id = doc.Id\n",
        "    #question's title\n",
        "    title = doc[\"Title\"]\n",
        "    #question's body\n",
        "    body_q = doc[\"Body\"]\n",
        "    #answers\n",
        "    answers = answers.loc[answers[\"ParentId\"] == doc_id]\n",
        "    answers.drop(answers[answers.Score < 0].index, inplace=True)\n",
        "    if (answers.empty):\n",
        "      #skip this question on SO -> maybe add as feature the fact that other documents will be retrieved instead\n",
        "      print(\"Empty post\")\n",
        "      continue\n",
        "    answers_texts = []\n",
        "    for a in answers.itertuples():\n",
        "      answers_texts.append((a.Id, a.Body, a.Score))\n",
        "    answers_texts_sorted = sorted(answers_texts, key=getKey, reverse=True)\n",
        "    print(\"Doc Id: {}\\nTitle: {}\\nText:\\n{}\".format(doc_id, title, body_q))\n",
        "    for a in answers_texts_sorted:\n",
        "      print(\"Answer's Id: {}, with score: {} and text:\\n{}\".format(a[0], a[2], a[1]))\n",
        "    print(\"----------------------------\")"
      ],
      "metadata": {
        "id": "LHJ-SxjCOGxZ"
      },
      "execution_count": 96,
      "outputs": []
    },
    {
      "cell_type": "code",
      "source": [
        "def test_with_gpu(num_docs: int = 100, query:str = None):\n",
        "  start = time.time()\n",
        "  #documents in the index\n",
        "  docArray = DocumentArray([Document(id=questions.iloc[i].Id, text=questions.iloc[i].Body) for i in range(num_docs)])\n",
        "  print(\"Time needed to read {} texts: {} s\".format(num_docs, time.time()-start))\n",
        "  #embeddings\n",
        "  e = MyTransformer(device=device)\n",
        "  e.encode(docArray)\n",
        "  #query\n",
        "  if(query is None):\n",
        "    q = DocumentArray([Document(id=questions.iloc[0].Id, text=questions.iloc[0].Body)])\n",
        "    e.encode(q)\n",
        "  else:\n",
        "    q = DocumentArray([query])\n",
        "    e.encode(q)\n",
        "  #index\n",
        "  i = MyNewIndexer(index_output = index_outfile, index_file = index_outfile)\n",
        "  i.index(docArray) #pass operation='n' to load index from disk\n",
        "  #search\n",
        "  docs = i.search(q, k=5)\n",
        "  get_answers(docs, questions, answers)"
      ],
      "metadata": {
        "id": "ebleHJcnBTN1"
      },
      "execution_count": 99,
      "outputs": []
    },
    {
      "cell_type": "code",
      "execution_count": 43,
      "metadata": {
        "id": "PRws9l2ZkObO"
      },
      "outputs": [],
      "source": [
        "flow = (\n",
        "        Flow()\n",
        "            .add(name='MyTransformer', uses=MyTransformer, uses_with={'device': \"cuda:0\"}, gpus='all')\n",
        "            .add(name='MyNewIndexer', uses=MyNewIndexer)\n",
        "    )"
      ]
    },
    {
      "cell_type": "code",
      "execution_count": null,
      "metadata": {
        "id": "x4l1alya2TxK"
      },
      "outputs": [],
      "source": [
        "flow.plot()"
      ]
    },
    {
      "cell_type": "code",
      "execution_count": 100,
      "metadata": {
        "id": "pCgdQx04h-Zp",
        "colab": {
          "base_uri": "https://localhost:8080/"
        },
        "outputId": "6245bb48-d0c2-4f15-9eeb-62a4a85e56df"
      },
      "outputs": [
        {
          "output_type": "stream",
          "name": "stdout",
          "text": [
            "Time needed to read 1000 texts: 0.5322549343109131 s\n",
            "Device used: cuda:0\n"
          ]
        },
        {
          "output_type": "stream",
          "name": "stderr",
          "text": [
            "Token indices sequence length is longer than the specified maximum sequence length for this model (2312 > 512). Running this sequence through the model will result in indexing errors\n"
          ]
        },
        {
          "output_type": "stream",
          "name": "stdout",
          "text": [
            "Time needed to encode 1000 documents: 30.131226062774658\n",
            "Time needed to encode 1 documents: 0.10143613815307617\n",
            "Time needed to train and add 1000 texts to the index: 0.040457725524902344 s\n",
            "Time needed to search 1 query: 1.049041748046875e-05 s\n",
            "Most similar documents: [[  0  60 172 734 764]]\n",
            "with distance: [[0.        5.7456784 7.5724745 7.6316395 7.644066 ]]\n",
            "1th result:\n",
            "Doc Id: 80\n",
            "Title: SQLStatement.execute() - multiple queries in one statement\n",
            "Text:\n",
            "<p>I've written a database generation script in <a href=\"http://en.wikipedia.org/wiki/SQL\">SQL</a> and want to execute it in my <a href=\"http://en.wikipedia.org/wiki/Adobe_Integrated_Runtime\">Adobe AIR</a> application:</p>\n",
            "\n",
            "<pre><code>Create Table tRole (\n",
            "      roleID integer Primary Key\n",
            "      ,roleName varchar(40)\n",
            ");\n",
            "Create Table tFile (\n",
            "    fileID integer Primary Key\n",
            "    ,fileName varchar(50)\n",
            "    ,fileDescription varchar(500)\n",
            "    ,thumbnailID integer\n",
            "    ,fileFormatID integer\n",
            "    ,categoryID integer\n",
            "    ,isFavorite boolean\n",
            "    ,dateAdded date\n",
            "    ,globalAccessCount integer\n",
            "    ,lastAccessTime date\n",
            "    ,downloadComplete boolean\n",
            "    ,isNew boolean\n",
            "    ,isSpotlight boolean\n",
            "    ,duration varchar(30)\n",
            ");\n",
            "Create Table tCategory (\n",
            "    categoryID integer Primary Key\n",
            "    ,categoryName varchar(50)\n",
            "    ,parent_categoryID integer\n",
            ");\n",
            "...\n",
            "</code></pre>\n",
            "\n",
            "<p>I execute this in Adobe AIR using the following methods:</p>\n",
            "\n",
            "<pre><code>public static function RunSqlFromFile(fileName:String):void {\n",
            "    var file:File = File.applicationDirectory.resolvePath(fileName);\n",
            "    var stream:FileStream = new FileStream();\n",
            "    stream.open(file, FileMode.READ)\n",
            "    var strSql:String = stream.readUTFBytes(stream.bytesAvailable);\n",
            "    NonQuery(strSql);\n",
            "}\n",
            "\n",
            "public static function NonQuery(strSQL:String):void\n",
            "{\n",
            "    var sqlConnection:SQLConnection = new SQLConnection();\n",
            "    sqlConnection.open(File.applicationStorageDirectory.resolvePath(DBPATH);\n",
            "    var sqlStatement:SQLStatement = new SQLStatement();\n",
            "    sqlStatement.text = strSQL;\n",
            "    sqlStatement.sqlConnection = sqlConnection;\n",
            "    try\n",
            "    {\n",
            "        sqlStatement.execute();\n",
            "    }\n",
            "    catch (error:SQLError)\n",
            "    {\n",
            "        Alert.show(error.toString());\n",
            "    }\n",
            "}\n",
            "</code></pre>\n",
            "\n",
            "<p>No errors are generated, however only <code>tRole</code> exists. It seems that it only looks at the first query (up to the semicolon- if I remove it, the query fails). Is there a way to call multiple queries in one statement?</p>\n",
            "\n",
            "Answer's Id: 124, with score: 12 and text:\n",
            "<p>I wound up using this. It is a kind of a hack, but it actually works pretty well. The only thing is you have to be very careful with your semicolons. : D</p>\n",
            "\n",
            "<pre><code>var strSql:String = stream.readUTFBytes(stream.bytesAvailable);      \n",
            "var i:Number = 0;\n",
            "var strSqlSplit:Array = strSql.split(\";\");\n",
            "for (i = 0; i &lt; strSqlSplit.length; i++){\n",
            "    NonQuery(strSqlSplit[i].toString());\n",
            "}\n",
            "</code></pre>\n",
            "\n",
            "Answer's Id: 10008, with score: 6 and text:\n",
            "<p>The <a href=\"http://en.wikipedia.org/wiki/SQLite\" rel=\"nofollow\">SQLite</a> API has a function called something like <code>sqlite_prepare</code> which takes <em>one</em> statement and prepares it for execution, essentially parsing the SQL and storing it in memory. This means that the SQL only has to be sent once to the database engine even though the statement is executed many times.</p>\n",
            "\n",
            "<p>Anyway, a statement is a single SQL query, that's just the rule. The AIR SQL API doesn't allow sending raw SQL to SQLite, only single statements, and the reason is, likely, that AIR uses the <code>sqlite_prepare</code> function when it talks to SQLite.</p>\n",
            "\n",
            "Answer's Id: 3770976, with score: 1 and text:\n",
            "<p>What about making your delimiter something a little more complex like \";\\n\" which would not show up all that often. You just have to ensure when creating the file you have a line return or two in there. I end up putting two \"\\n\\n\" into the creation of my files which works well.</p>\n",
            "\n",
            "----------------------------\n",
            "2th result:\n",
            "Empty post\n",
            "3th result:\n",
            "Empty post\n",
            "4th result:\n",
            "Empty post\n",
            "5th result:\n",
            "Empty post\n"
          ]
        }
      ],
      "source": [
        "query_encoder = MyTransformer(device=device)\n",
        "\n",
        "if(device!=\"cpu\"):\n",
        "  test_with_gpu(1000) #or pass custom query \n",
        "else:\n",
        "  with flow, open(\"/content/drive/MyDrive/DM/Questions_10k.csv\", encoding=\"ISO-8859-1\") as fp:\n",
        "      #docs = flow.index(DocumentArray.from_csv(fp, field_resolver={'Body':'text', 'Id':'id'}), show_progress=True) #DocumentArray.from_csv(fp, field_resolver={'Id': 'Body'})\n",
        "      docArray = DocumentArray([Document(id=questions.iloc[i].Id, text=questions.iloc[i].Body) for i in range(100)])\n",
        "      flow.index(docArray, index_output = index_outfile, index_file = index_outfile)\n",
        "      while(True):\n",
        "        print(\"\\nInsert your query (q to quit): \")\n",
        "        q = input()\n",
        "        if (q == \"q\"):\n",
        "          print(\"\\n\\nGoodbye!\")\n",
        "          break\n",
        "        query_encoder.encode(DocumentArray([q]))\n",
        "        d = flow.search(\n",
        "            inputs=DocumentArray(q)\n",
        "            )\n",
        "        get_answers(d, questions, answers)"
      ]
    },
    {
      "cell_type": "code",
      "source": [
        "query_encoder = MyTransformer(device=device)\n",
        "\n",
        "with flow, open(\"/content/drive/MyDrive/DM/Questions_10k.csv\", encoding=\"ISO-8859-1\") as fp:\n",
        "    #docs = flow.index(DocumentArray.from_csv(fp, field_resolver={'Body':'text', 'Id':'id'}), show_progress=True) #DocumentArray.from_csv(fp, field_resolver={'Id': 'Body'})\n",
        "    docs = flow.index(docArray)\n",
        "    while(True):\n",
        "      print(\"\\nInsert your query (q to quit): \")\n",
        "      q = input()\n",
        "      if (q == \"q\"):\n",
        "        print(\"\\n\\nGoodbye!\")\n",
        "        break\n",
        "      query_encoder.encode(DocumentArray([q]))\n",
        "      flow.search(\n",
        "          inputs=DocumentArray(q)\n",
        "          )"
      ],
      "metadata": {
        "id": "zjVQtwS4q_MR"
      },
      "execution_count": null,
      "outputs": []
    }
  ],
  "metadata": {
    "accelerator": "GPU",
    "colab": {
      "collapsed_sections": [
        "0RbtMSoV-U_0",
        "rxw8aRjTWf9w"
      ],
      "name": "DM_project.ipynb",
      "provenance": [],
      "include_colab_link": true
    },
    "kernelspec": {
      "display_name": "Python 3",
      "name": "python3"
    },
    "language_info": {
      "name": "python"
    }
  },
  "nbformat": 4,
  "nbformat_minor": 0
}