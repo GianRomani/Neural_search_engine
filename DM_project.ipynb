{
  "cells": [
    {
      "cell_type": "markdown",
      "metadata": {
        "id": "view-in-github",
        "colab_type": "text"
      },
      "source": [
        "<a href=\"https://colab.research.google.com/github/GianRomani/Neural_search_engine/blob/main/DM_project.ipynb\" target=\"_parent\"><img src=\"https://colab.research.google.com/assets/colab-badge.svg\" alt=\"Open In Colab\"/></a>"
      ]
    },
    {
      "cell_type": "code",
      "execution_count": 1,
      "metadata": {
        "id": "btPirC-5-5B7",
        "colab": {
          "base_uri": "https://localhost:8080/"
        },
        "outputId": "d4705e5a-c43d-403b-9a91-1ea7ceaf82d4"
      },
      "outputs": [
        {
          "output_type": "stream",
          "name": "stdout",
          "text": [
            "Mounted at /content/drive\n"
          ]
        }
      ],
      "source": [
        "try: \n",
        "  #this will raise an error if you are not using Colab\n",
        "  from google.colab import drive\n",
        "  drive.mount('/content/drive')\n",
        "except:\n",
        "  print(\"You are not using Colab\")"
      ]
    },
    {
      "cell_type": "code",
      "execution_count": 2,
      "metadata": {
        "id": "Hl8Qz9SX-Rd9"
      },
      "outputs": [],
      "source": [
        "path = \"/content/drive/MyDrive/Data Mining/Project/archive.zip\""
      ]
    },
    {
      "cell_type": "code",
      "execution_count": null,
      "metadata": {
        "id": "CtBWDzSx_rpr"
      },
      "outputs": [],
      "source": [
        "#!unzip \"/content/drive/MyDrive/Data Mining/Project/archive.zip\" -d \"/content/drive/MyDrive/Data Mining/Project/\""
      ]
    },
    {
      "cell_type": "markdown",
      "metadata": {
        "id": "0RbtMSoV-U_0"
      },
      "source": [
        "# EDA"
      ]
    },
    {
      "cell_type": "markdown",
      "metadata": {
        "id": "zZCHmmjqvb0b"
      },
      "source": [
        "It can be interesting and helpful to analyze:\n",
        "\n",
        "*   the distribution of the scores among the questions,\n",
        "*   number of answers for question (and scores of those answers);\n",
        "*   creation dates for the posts;\n",
        "*   if a post was closed (and why);\n",
        "*   popular users (who answered a lot of questions)\n",
        "\n",
        "\n",
        "\n"
      ]
    },
    {
      "cell_type": "code",
      "execution_count": 3,
      "metadata": {
        "id": "p-1HyapB_rPx"
      },
      "outputs": [],
      "source": [
        "import pandas as pd"
      ]
    },
    {
      "cell_type": "markdown",
      "metadata": {
        "id": "1aMmDu1Dpj8q"
      },
      "source": [
        "<h2>Questions</h2>"
      ]
    },
    {
      "cell_type": "markdown",
      "metadata": {
        "id": "NupnZcXjyjfN"
      },
      "source": [
        "*   Id: id of the question;\n",
        "*   OwnerUserId: id of the account who post the question;\n",
        "*   CreationDate: when the question was posted;\n",
        "*   ClosedDate: when the question was closed;\n",
        "*   Score: upvotes - downvotes;\n",
        "*   Title: title of the question;\n",
        "*   Body: the question"
      ]
    },
    {
      "cell_type": "code",
      "execution_count": 4,
      "metadata": {
        "id": "tkAxz68mbUBs"
      },
      "outputs": [],
      "source": [
        "questions = pd.read_csv(\"/content/drive/MyDrive/Data Mining/Project/Questions.csv\",encoding=\"ISO-8859-1\") #utf-8 is not good in this case"
      ]
    },
    {
      "cell_type": "code",
      "execution_count": null,
      "metadata": {
        "colab": {
          "base_uri": "https://localhost:8080/",
          "height": 363
        },
        "id": "yEwlkjWtbWKK",
        "outputId": "b7492137-973e-4e8e-b0a1-99dd46dc7568"
      },
      "outputs": [
        {
          "data": {
            "text/html": [
              "\n",
              "  <div id=\"df-8587dba8-dee4-4938-bd62-0694698e348b\">\n",
              "    <div class=\"colab-df-container\">\n",
              "      <div>\n",
              "<style scoped>\n",
              "    .dataframe tbody tr th:only-of-type {\n",
              "        vertical-align: middle;\n",
              "    }\n",
              "\n",
              "    .dataframe tbody tr th {\n",
              "        vertical-align: top;\n",
              "    }\n",
              "\n",
              "    .dataframe thead th {\n",
              "        text-align: right;\n",
              "    }\n",
              "</style>\n",
              "<table border=\"1\" class=\"dataframe\">\n",
              "  <thead>\n",
              "    <tr style=\"text-align: right;\">\n",
              "      <th></th>\n",
              "      <th>Id</th>\n",
              "      <th>OwnerUserId</th>\n",
              "      <th>CreationDate</th>\n",
              "      <th>ClosedDate</th>\n",
              "      <th>Score</th>\n",
              "      <th>Title</th>\n",
              "      <th>Body</th>\n",
              "    </tr>\n",
              "  </thead>\n",
              "  <tbody>\n",
              "    <tr>\n",
              "      <th>0</th>\n",
              "      <td>80</td>\n",
              "      <td>26.0</td>\n",
              "      <td>2008-08-01T13:57:07Z</td>\n",
              "      <td>NaN</td>\n",
              "      <td>26</td>\n",
              "      <td>SQLStatement.execute() - multiple queries in o...</td>\n",
              "      <td>&lt;p&gt;I've written a database generation script i...</td>\n",
              "    </tr>\n",
              "    <tr>\n",
              "      <th>1</th>\n",
              "      <td>90</td>\n",
              "      <td>58.0</td>\n",
              "      <td>2008-08-01T14:41:24Z</td>\n",
              "      <td>2012-12-26T03:45:49Z</td>\n",
              "      <td>144</td>\n",
              "      <td>Good branching and merging tutorials for Torto...</td>\n",
              "      <td>&lt;p&gt;Are there any really good tutorials explain...</td>\n",
              "    </tr>\n",
              "    <tr>\n",
              "      <th>2</th>\n",
              "      <td>120</td>\n",
              "      <td>83.0</td>\n",
              "      <td>2008-08-01T15:50:08Z</td>\n",
              "      <td>NaN</td>\n",
              "      <td>21</td>\n",
              "      <td>ASP.NET Site Maps</td>\n",
              "      <td>&lt;p&gt;Has anyone got experience creating &lt;strong&gt;...</td>\n",
              "    </tr>\n",
              "    <tr>\n",
              "      <th>3</th>\n",
              "      <td>180</td>\n",
              "      <td>2089740.0</td>\n",
              "      <td>2008-08-01T18:42:19Z</td>\n",
              "      <td>NaN</td>\n",
              "      <td>53</td>\n",
              "      <td>Function for creating color wheels</td>\n",
              "      <td>&lt;p&gt;This is something I've pseudo-solved many t...</td>\n",
              "    </tr>\n",
              "    <tr>\n",
              "      <th>4</th>\n",
              "      <td>260</td>\n",
              "      <td>91.0</td>\n",
              "      <td>2008-08-01T23:22:08Z</td>\n",
              "      <td>NaN</td>\n",
              "      <td>49</td>\n",
              "      <td>Adding scripting functionality to .NET applica...</td>\n",
              "      <td>&lt;p&gt;I have a little game written in C#. It uses...</td>\n",
              "    </tr>\n",
              "    <tr>\n",
              "      <th>5</th>\n",
              "      <td>330</td>\n",
              "      <td>63.0</td>\n",
              "      <td>2008-08-02T02:51:36Z</td>\n",
              "      <td>NaN</td>\n",
              "      <td>29</td>\n",
              "      <td>Should I use nested classes in this case?</td>\n",
              "      <td>&lt;p&gt;I am working on a collection of classes use...</td>\n",
              "    </tr>\n",
              "    <tr>\n",
              "      <th>6</th>\n",
              "      <td>470</td>\n",
              "      <td>71.0</td>\n",
              "      <td>2008-08-02T15:11:47Z</td>\n",
              "      <td>2016-03-26T05:23:29Z</td>\n",
              "      <td>13</td>\n",
              "      <td>Homegrown consumption of web services</td>\n",
              "      <td>&lt;p&gt;I've been writing a few web services for a ...</td>\n",
              "    </tr>\n",
              "    <tr>\n",
              "      <th>7</th>\n",
              "      <td>580</td>\n",
              "      <td>91.0</td>\n",
              "      <td>2008-08-02T23:30:59Z</td>\n",
              "      <td>NaN</td>\n",
              "      <td>21</td>\n",
              "      <td>Deploying SQL Server Databases from Test to Live</td>\n",
              "      <td>&lt;p&gt;I wonder how you guys manage deployment of ...</td>\n",
              "    </tr>\n",
              "    <tr>\n",
              "      <th>8</th>\n",
              "      <td>650</td>\n",
              "      <td>143.0</td>\n",
              "      <td>2008-08-03T11:12:52Z</td>\n",
              "      <td>NaN</td>\n",
              "      <td>79</td>\n",
              "      <td>Automatically update version number</td>\n",
              "      <td>&lt;p&gt;I would like the version property of my app...</td>\n",
              "    </tr>\n",
              "    <tr>\n",
              "      <th>9</th>\n",
              "      <td>810</td>\n",
              "      <td>233.0</td>\n",
              "      <td>2008-08-03T20:35:01Z</td>\n",
              "      <td>NaN</td>\n",
              "      <td>9</td>\n",
              "      <td>Visual Studio Setup Project - Per User Registr...</td>\n",
              "      <td>&lt;p&gt;I'm trying to maintain a Setup Project in &lt;...</td>\n",
              "    </tr>\n",
              "  </tbody>\n",
              "</table>\n",
              "</div>\n",
              "      <button class=\"colab-df-convert\" onclick=\"convertToInteractive('df-8587dba8-dee4-4938-bd62-0694698e348b')\"\n",
              "              title=\"Convert this dataframe to an interactive table.\"\n",
              "              style=\"display:none;\">\n",
              "        \n",
              "  <svg xmlns=\"http://www.w3.org/2000/svg\" height=\"24px\"viewBox=\"0 0 24 24\"\n",
              "       width=\"24px\">\n",
              "    <path d=\"M0 0h24v24H0V0z\" fill=\"none\"/>\n",
              "    <path d=\"M18.56 5.44l.94 2.06.94-2.06 2.06-.94-2.06-.94-.94-2.06-.94 2.06-2.06.94zm-11 1L8.5 8.5l.94-2.06 2.06-.94-2.06-.94L8.5 2.5l-.94 2.06-2.06.94zm10 10l.94 2.06.94-2.06 2.06-.94-2.06-.94-.94-2.06-.94 2.06-2.06.94z\"/><path d=\"M17.41 7.96l-1.37-1.37c-.4-.4-.92-.59-1.43-.59-.52 0-1.04.2-1.43.59L10.3 9.45l-7.72 7.72c-.78.78-.78 2.05 0 2.83L4 21.41c.39.39.9.59 1.41.59.51 0 1.02-.2 1.41-.59l7.78-7.78 2.81-2.81c.8-.78.8-2.07 0-2.86zM5.41 20L4 18.59l7.72-7.72 1.47 1.35L5.41 20z\"/>\n",
              "  </svg>\n",
              "      </button>\n",
              "      \n",
              "  <style>\n",
              "    .colab-df-container {\n",
              "      display:flex;\n",
              "      flex-wrap:wrap;\n",
              "      gap: 12px;\n",
              "    }\n",
              "\n",
              "    .colab-df-convert {\n",
              "      background-color: #E8F0FE;\n",
              "      border: none;\n",
              "      border-radius: 50%;\n",
              "      cursor: pointer;\n",
              "      display: none;\n",
              "      fill: #1967D2;\n",
              "      height: 32px;\n",
              "      padding: 0 0 0 0;\n",
              "      width: 32px;\n",
              "    }\n",
              "\n",
              "    .colab-df-convert:hover {\n",
              "      background-color: #E2EBFA;\n",
              "      box-shadow: 0px 1px 2px rgba(60, 64, 67, 0.3), 0px 1px 3px 1px rgba(60, 64, 67, 0.15);\n",
              "      fill: #174EA6;\n",
              "    }\n",
              "\n",
              "    [theme=dark] .colab-df-convert {\n",
              "      background-color: #3B4455;\n",
              "      fill: #D2E3FC;\n",
              "    }\n",
              "\n",
              "    [theme=dark] .colab-df-convert:hover {\n",
              "      background-color: #434B5C;\n",
              "      box-shadow: 0px 1px 3px 1px rgba(0, 0, 0, 0.15);\n",
              "      filter: drop-shadow(0px 1px 2px rgba(0, 0, 0, 0.3));\n",
              "      fill: #FFFFFF;\n",
              "    }\n",
              "  </style>\n",
              "\n",
              "      <script>\n",
              "        const buttonEl =\n",
              "          document.querySelector('#df-8587dba8-dee4-4938-bd62-0694698e348b button.colab-df-convert');\n",
              "        buttonEl.style.display =\n",
              "          google.colab.kernel.accessAllowed ? 'block' : 'none';\n",
              "\n",
              "        async function convertToInteractive(key) {\n",
              "          const element = document.querySelector('#df-8587dba8-dee4-4938-bd62-0694698e348b');\n",
              "          const dataTable =\n",
              "            await google.colab.kernel.invokeFunction('convertToInteractive',\n",
              "                                                     [key], {});\n",
              "          if (!dataTable) return;\n",
              "\n",
              "          const docLinkHtml = 'Like what you see? Visit the ' +\n",
              "            '<a target=\"_blank\" href=https://colab.research.google.com/notebooks/data_table.ipynb>data table notebook</a>'\n",
              "            + ' to learn more about interactive tables.';\n",
              "          element.innerHTML = '';\n",
              "          dataTable['output_type'] = 'display_data';\n",
              "          await google.colab.output.renderOutput(dataTable, element);\n",
              "          const docLink = document.createElement('div');\n",
              "          docLink.innerHTML = docLinkHtml;\n",
              "          element.appendChild(docLink);\n",
              "        }\n",
              "      </script>\n",
              "    </div>\n",
              "  </div>\n",
              "  "
            ],
            "text/plain": [
              "    Id  ...                                               Body\n",
              "0   80  ...  <p>I've written a database generation script i...\n",
              "1   90  ...  <p>Are there any really good tutorials explain...\n",
              "2  120  ...  <p>Has anyone got experience creating <strong>...\n",
              "3  180  ...  <p>This is something I've pseudo-solved many t...\n",
              "4  260  ...  <p>I have a little game written in C#. It uses...\n",
              "5  330  ...  <p>I am working on a collection of classes use...\n",
              "6  470  ...  <p>I've been writing a few web services for a ...\n",
              "7  580  ...  <p>I wonder how you guys manage deployment of ...\n",
              "8  650  ...  <p>I would like the version property of my app...\n",
              "9  810  ...  <p>I'm trying to maintain a Setup Project in <...\n",
              "\n",
              "[10 rows x 7 columns]"
            ]
          },
          "execution_count": 6,
          "metadata": {},
          "output_type": "execute_result"
        }
      ],
      "source": [
        "questions.head(10)"
      ]
    },
    {
      "cell_type": "code",
      "execution_count": null,
      "metadata": {
        "colab": {
          "base_uri": "https://localhost:8080/",
          "height": 300
        },
        "id": "wspAqCIigkdV",
        "outputId": "a2aada74-4239-4464-c8c8-7a2b8d1afff8"
      },
      "outputs": [
        {
          "data": {
            "text/html": [
              "\n",
              "  <div id=\"df-043fc0b5-8b7a-444d-8dbd-bab9189c2dbd\">\n",
              "    <div class=\"colab-df-container\">\n",
              "      <div>\n",
              "<style scoped>\n",
              "    .dataframe tbody tr th:only-of-type {\n",
              "        vertical-align: middle;\n",
              "    }\n",
              "\n",
              "    .dataframe tbody tr th {\n",
              "        vertical-align: top;\n",
              "    }\n",
              "\n",
              "    .dataframe thead th {\n",
              "        text-align: right;\n",
              "    }\n",
              "</style>\n",
              "<table border=\"1\" class=\"dataframe\">\n",
              "  <thead>\n",
              "    <tr style=\"text-align: right;\">\n",
              "      <th></th>\n",
              "      <th>Id</th>\n",
              "      <th>OwnerUserId</th>\n",
              "      <th>Score</th>\n",
              "    </tr>\n",
              "  </thead>\n",
              "  <tbody>\n",
              "    <tr>\n",
              "      <th>count</th>\n",
              "      <td>1.264216e+06</td>\n",
              "      <td>1.249762e+06</td>\n",
              "      <td>1.264216e+06</td>\n",
              "    </tr>\n",
              "    <tr>\n",
              "      <th>mean</th>\n",
              "      <td>2.132745e+07</td>\n",
              "      <td>2.155177e+06</td>\n",
              "      <td>1.781537e+00</td>\n",
              "    </tr>\n",
              "    <tr>\n",
              "      <th>std</th>\n",
              "      <td>1.151445e+07</td>\n",
              "      <td>1.801265e+06</td>\n",
              "      <td>1.366389e+01</td>\n",
              "    </tr>\n",
              "    <tr>\n",
              "      <th>min</th>\n",
              "      <td>8.000000e+01</td>\n",
              "      <td>1.000000e+00</td>\n",
              "      <td>-7.300000e+01</td>\n",
              "    </tr>\n",
              "    <tr>\n",
              "      <th>25%</th>\n",
              "      <td>1.142598e+07</td>\n",
              "      <td>6.589110e+05</td>\n",
              "      <td>0.000000e+00</td>\n",
              "    </tr>\n",
              "    <tr>\n",
              "      <th>50%</th>\n",
              "      <td>2.172542e+07</td>\n",
              "      <td>1.611830e+06</td>\n",
              "      <td>0.000000e+00</td>\n",
              "    </tr>\n",
              "    <tr>\n",
              "      <th>75%</th>\n",
              "      <td>3.154542e+07</td>\n",
              "      <td>3.353792e+06</td>\n",
              "      <td>1.000000e+00</td>\n",
              "    </tr>\n",
              "    <tr>\n",
              "      <th>max</th>\n",
              "      <td>4.014338e+07</td>\n",
              "      <td>7.046594e+06</td>\n",
              "      <td>5.190000e+03</td>\n",
              "    </tr>\n",
              "  </tbody>\n",
              "</table>\n",
              "</div>\n",
              "      <button class=\"colab-df-convert\" onclick=\"convertToInteractive('df-043fc0b5-8b7a-444d-8dbd-bab9189c2dbd')\"\n",
              "              title=\"Convert this dataframe to an interactive table.\"\n",
              "              style=\"display:none;\">\n",
              "        \n",
              "  <svg xmlns=\"http://www.w3.org/2000/svg\" height=\"24px\"viewBox=\"0 0 24 24\"\n",
              "       width=\"24px\">\n",
              "    <path d=\"M0 0h24v24H0V0z\" fill=\"none\"/>\n",
              "    <path d=\"M18.56 5.44l.94 2.06.94-2.06 2.06-.94-2.06-.94-.94-2.06-.94 2.06-2.06.94zm-11 1L8.5 8.5l.94-2.06 2.06-.94-2.06-.94L8.5 2.5l-.94 2.06-2.06.94zm10 10l.94 2.06.94-2.06 2.06-.94-2.06-.94-.94-2.06-.94 2.06-2.06.94z\"/><path d=\"M17.41 7.96l-1.37-1.37c-.4-.4-.92-.59-1.43-.59-.52 0-1.04.2-1.43.59L10.3 9.45l-7.72 7.72c-.78.78-.78 2.05 0 2.83L4 21.41c.39.39.9.59 1.41.59.51 0 1.02-.2 1.41-.59l7.78-7.78 2.81-2.81c.8-.78.8-2.07 0-2.86zM5.41 20L4 18.59l7.72-7.72 1.47 1.35L5.41 20z\"/>\n",
              "  </svg>\n",
              "      </button>\n",
              "      \n",
              "  <style>\n",
              "    .colab-df-container {\n",
              "      display:flex;\n",
              "      flex-wrap:wrap;\n",
              "      gap: 12px;\n",
              "    }\n",
              "\n",
              "    .colab-df-convert {\n",
              "      background-color: #E8F0FE;\n",
              "      border: none;\n",
              "      border-radius: 50%;\n",
              "      cursor: pointer;\n",
              "      display: none;\n",
              "      fill: #1967D2;\n",
              "      height: 32px;\n",
              "      padding: 0 0 0 0;\n",
              "      width: 32px;\n",
              "    }\n",
              "\n",
              "    .colab-df-convert:hover {\n",
              "      background-color: #E2EBFA;\n",
              "      box-shadow: 0px 1px 2px rgba(60, 64, 67, 0.3), 0px 1px 3px 1px rgba(60, 64, 67, 0.15);\n",
              "      fill: #174EA6;\n",
              "    }\n",
              "\n",
              "    [theme=dark] .colab-df-convert {\n",
              "      background-color: #3B4455;\n",
              "      fill: #D2E3FC;\n",
              "    }\n",
              "\n",
              "    [theme=dark] .colab-df-convert:hover {\n",
              "      background-color: #434B5C;\n",
              "      box-shadow: 0px 1px 3px 1px rgba(0, 0, 0, 0.15);\n",
              "      filter: drop-shadow(0px 1px 2px rgba(0, 0, 0, 0.3));\n",
              "      fill: #FFFFFF;\n",
              "    }\n",
              "  </style>\n",
              "\n",
              "      <script>\n",
              "        const buttonEl =\n",
              "          document.querySelector('#df-043fc0b5-8b7a-444d-8dbd-bab9189c2dbd button.colab-df-convert');\n",
              "        buttonEl.style.display =\n",
              "          google.colab.kernel.accessAllowed ? 'block' : 'none';\n",
              "\n",
              "        async function convertToInteractive(key) {\n",
              "          const element = document.querySelector('#df-043fc0b5-8b7a-444d-8dbd-bab9189c2dbd');\n",
              "          const dataTable =\n",
              "            await google.colab.kernel.invokeFunction('convertToInteractive',\n",
              "                                                     [key], {});\n",
              "          if (!dataTable) return;\n",
              "\n",
              "          const docLinkHtml = 'Like what you see? Visit the ' +\n",
              "            '<a target=\"_blank\" href=https://colab.research.google.com/notebooks/data_table.ipynb>data table notebook</a>'\n",
              "            + ' to learn more about interactive tables.';\n",
              "          element.innerHTML = '';\n",
              "          dataTable['output_type'] = 'display_data';\n",
              "          await google.colab.output.renderOutput(dataTable, element);\n",
              "          const docLink = document.createElement('div');\n",
              "          docLink.innerHTML = docLinkHtml;\n",
              "          element.appendChild(docLink);\n",
              "        }\n",
              "      </script>\n",
              "    </div>\n",
              "  </div>\n",
              "  "
            ],
            "text/plain": [
              "                 Id   OwnerUserId         Score\n",
              "count  1.264216e+06  1.249762e+06  1.264216e+06\n",
              "mean   2.132745e+07  2.155177e+06  1.781537e+00\n",
              "std    1.151445e+07  1.801265e+06  1.366389e+01\n",
              "min    8.000000e+01  1.000000e+00 -7.300000e+01\n",
              "25%    1.142598e+07  6.589110e+05  0.000000e+00\n",
              "50%    2.172542e+07  1.611830e+06  0.000000e+00\n",
              "75%    3.154542e+07  3.353792e+06  1.000000e+00\n",
              "max    4.014338e+07  7.046594e+06  5.190000e+03"
            ]
          },
          "execution_count": 7,
          "metadata": {},
          "output_type": "execute_result"
        }
      ],
      "source": [
        "questions.describe()"
      ]
    },
    {
      "cell_type": "code",
      "execution_count": null,
      "metadata": {
        "colab": {
          "base_uri": "https://localhost:8080/"
        },
        "id": "wgynb7ZUflJN",
        "outputId": "366d8b46-d4c4-47ba-eee2-624c311d8c1a"
      },
      "outputs": [
        {
          "data": {
            "text/plain": [
              "(-78.26400000000001, 190.15]    1263601\n",
              "(190.15, 453.3]                     478\n",
              "(453.3, 716.45]                      78\n",
              "(716.45, 979.6]                      30\n",
              "(979.6, 1242.75]                     11\n",
              "(1505.9, 1769.05]                     9\n",
              "(1242.75, 1505.9]                     4\n",
              "(2295.35, 2558.5]                     3\n",
              "(3611.1, 3874.25]                     1\n",
              "(4926.85, 5190.0]                     1\n",
              "(2032.2, 2295.35]                     0\n",
              "(2821.65, 3084.8]                     0\n",
              "(3084.8, 3347.95]                     0\n",
              "(3347.95, 3611.1]                     0\n",
              "(1769.05, 2032.2]                     0\n",
              "(3874.25, 4137.4]                     0\n",
              "(4137.4, 4400.55]                     0\n",
              "(4400.55, 4663.7]                     0\n",
              "(4663.7, 4926.85]                     0\n",
              "(2558.5, 2821.65]                     0\n",
              "Name: Score, dtype: int64"
            ]
          },
          "execution_count": 8,
          "metadata": {},
          "output_type": "execute_result"
        }
      ],
      "source": [
        "#What is the distribution of the scores among the questions?\n",
        "score_distribution = questions[\"Score\"].value_counts(bins=20)\n",
        "score_distribution"
      ]
    },
    {
      "cell_type": "code",
      "execution_count": null,
      "metadata": {
        "colab": {
          "base_uri": "https://localhost:8080/",
          "height": 424
        },
        "id": "GBVv6gSHq1PG",
        "outputId": "97a168ec-305d-4b1c-a5a4-dcd8d82628fb"
      },
      "outputs": [
        {
          "data": {
            "text/html": [
              "\n",
              "  <div id=\"df-977561f2-6694-4c33-ba02-d47bdc492e73\">\n",
              "    <div class=\"colab-df-container\">\n",
              "      <div>\n",
              "<style scoped>\n",
              "    .dataframe tbody tr th:only-of-type {\n",
              "        vertical-align: middle;\n",
              "    }\n",
              "\n",
              "    .dataframe tbody tr th {\n",
              "        vertical-align: top;\n",
              "    }\n",
              "\n",
              "    .dataframe thead th {\n",
              "        text-align: right;\n",
              "    }\n",
              "</style>\n",
              "<table border=\"1\" class=\"dataframe\">\n",
              "  <thead>\n",
              "    <tr style=\"text-align: right;\">\n",
              "      <th></th>\n",
              "      <th>Id</th>\n",
              "      <th>OwnerUserId</th>\n",
              "      <th>CreationDate</th>\n",
              "      <th>ClosedDate</th>\n",
              "      <th>Score</th>\n",
              "      <th>Title</th>\n",
              "      <th>Body</th>\n",
              "    </tr>\n",
              "  </thead>\n",
              "  <tbody>\n",
              "    <tr>\n",
              "      <th>487</th>\n",
              "      <td>43960</td>\n",
              "      <td>3262.0</td>\n",
              "      <td>2008-09-04T15:07:30Z</td>\n",
              "      <td>NaN</td>\n",
              "      <td>-1</td>\n",
              "      <td>COTS Workshop Registration System</td>\n",
              "      <td>&lt;p&gt;Does anyone have any experience with any CO...</td>\n",
              "    </tr>\n",
              "    <tr>\n",
              "      <th>890</th>\n",
              "      <td>73260</td>\n",
              "      <td>12550.0</td>\n",
              "      <td>2008-09-16T14:57:37Z</td>\n",
              "      <td>NaN</td>\n",
              "      <td>-1</td>\n",
              "      <td>What is your choice for a Time Managment Solut...</td>\n",
              "      <td>&lt;p&gt;I've come across a few different applicatio...</td>\n",
              "    </tr>\n",
              "    <tr>\n",
              "      <th>904</th>\n",
              "      <td>74570</td>\n",
              "      <td>7709.0</td>\n",
              "      <td>2008-09-16T17:02:14Z</td>\n",
              "      <td>NaN</td>\n",
              "      <td>-1</td>\n",
              "      <td>CSS : Bad Gray Line to the side of the Navigat...</td>\n",
              "      <td>&lt;p&gt;I'm maintaining &lt;a href=\"http://perl-begin....</td>\n",
              "    </tr>\n",
              "    <tr>\n",
              "      <th>949</th>\n",
              "      <td>79350</td>\n",
              "      <td>NaN</td>\n",
              "      <td>2008-09-17T02:37:37Z</td>\n",
              "      <td>2015-06-23T23:33:20Z</td>\n",
              "      <td>-1</td>\n",
              "      <td>What open source virtual private server progra...</td>\n",
              "      <td>&lt;p&gt;I am looking to have 4 Virtual servers(vari...</td>\n",
              "    </tr>\n",
              "    <tr>\n",
              "      <th>1017</th>\n",
              "      <td>85370</td>\n",
              "      <td>6992.0</td>\n",
              "      <td>2008-09-17T17:01:08Z</td>\n",
              "      <td>NaN</td>\n",
              "      <td>-2</td>\n",
              "      <td>Most common cause of \"java.lang.NullPointerExc...</td>\n",
              "      <td>&lt;p&gt;My strongest lead is that the code who deal...</td>\n",
              "    </tr>\n",
              "    <tr>\n",
              "      <th>...</th>\n",
              "      <td>...</td>\n",
              "      <td>...</td>\n",
              "      <td>...</td>\n",
              "      <td>...</td>\n",
              "      <td>...</td>\n",
              "      <td>...</td>\n",
              "      <td>...</td>\n",
              "    </tr>\n",
              "    <tr>\n",
              "      <th>1264187</th>\n",
              "      <td>40142600</td>\n",
              "      <td>7044841.0</td>\n",
              "      <td>2016-10-19T22:33:00Z</td>\n",
              "      <td>2016-10-19T22:34:48Z</td>\n",
              "      <td>-10</td>\n",
              "      <td>Remove white spaces without replace()</td>\n",
              "      <td>&lt;pre&gt;&lt;code&gt;def compress(s):\\n    âââ(str...</td>\n",
              "    </tr>\n",
              "    <tr>\n",
              "      <th>1264188</th>\n",
              "      <td>40142610</td>\n",
              "      <td>7037290.0</td>\n",
              "      <td>2016-10-19T22:34:23Z</td>\n",
              "      <td>NaN</td>\n",
              "      <td>-1</td>\n",
              "      <td>How to get a direct, secure url (XXX.mp3) for ...</td>\n",
              "      <td>&lt;p&gt;So I can pull the url for a track from the ...</td>\n",
              "    </tr>\n",
              "    <tr>\n",
              "      <th>1264193</th>\n",
              "      <td>40142780</td>\n",
              "      <td>4957922.0</td>\n",
              "      <td>2016-10-19T22:52:04Z</td>\n",
              "      <td>NaN</td>\n",
              "      <td>-4</td>\n",
              "      <td>Sparse Arrays in Data Structure</td>\n",
              "      <td>&lt;p&gt;I am solving the following problem in C : \\...</td>\n",
              "    </tr>\n",
              "    <tr>\n",
              "      <th>1264194</th>\n",
              "      <td>40142790</td>\n",
              "      <td>7044882.0</td>\n",
              "      <td>2016-10-19T22:52:53Z</td>\n",
              "      <td>2016-10-19T23:05:09Z</td>\n",
              "      <td>-5</td>\n",
              "      <td>Why is my switch statement giving me constant ...</td>\n",
              "      <td>&lt;p&gt;Sorry in advance for the weird format of th...</td>\n",
              "    </tr>\n",
              "    <tr>\n",
              "      <th>1264203</th>\n",
              "      <td>40142940</td>\n",
              "      <td>6819989.0</td>\n",
              "      <td>2016-10-19T23:08:42Z</td>\n",
              "      <td>NaN</td>\n",
              "      <td>-1</td>\n",
              "      <td>Drawing an iscosceles triangle of asteriks on C++</td>\n",
              "      <td>&lt;p&gt;I am learning c++ and I'm trying draw an is...</td>\n",
              "    </tr>\n",
              "  </tbody>\n",
              "</table>\n",
              "<p>78449 rows × 7 columns</p>\n",
              "</div>\n",
              "      <button class=\"colab-df-convert\" onclick=\"convertToInteractive('df-977561f2-6694-4c33-ba02-d47bdc492e73')\"\n",
              "              title=\"Convert this dataframe to an interactive table.\"\n",
              "              style=\"display:none;\">\n",
              "        \n",
              "  <svg xmlns=\"http://www.w3.org/2000/svg\" height=\"24px\"viewBox=\"0 0 24 24\"\n",
              "       width=\"24px\">\n",
              "    <path d=\"M0 0h24v24H0V0z\" fill=\"none\"/>\n",
              "    <path d=\"M18.56 5.44l.94 2.06.94-2.06 2.06-.94-2.06-.94-.94-2.06-.94 2.06-2.06.94zm-11 1L8.5 8.5l.94-2.06 2.06-.94-2.06-.94L8.5 2.5l-.94 2.06-2.06.94zm10 10l.94 2.06.94-2.06 2.06-.94-2.06-.94-.94-2.06-.94 2.06-2.06.94z\"/><path d=\"M17.41 7.96l-1.37-1.37c-.4-.4-.92-.59-1.43-.59-.52 0-1.04.2-1.43.59L10.3 9.45l-7.72 7.72c-.78.78-.78 2.05 0 2.83L4 21.41c.39.39.9.59 1.41.59.51 0 1.02-.2 1.41-.59l7.78-7.78 2.81-2.81c.8-.78.8-2.07 0-2.86zM5.41 20L4 18.59l7.72-7.72 1.47 1.35L5.41 20z\"/>\n",
              "  </svg>\n",
              "      </button>\n",
              "      \n",
              "  <style>\n",
              "    .colab-df-container {\n",
              "      display:flex;\n",
              "      flex-wrap:wrap;\n",
              "      gap: 12px;\n",
              "    }\n",
              "\n",
              "    .colab-df-convert {\n",
              "      background-color: #E8F0FE;\n",
              "      border: none;\n",
              "      border-radius: 50%;\n",
              "      cursor: pointer;\n",
              "      display: none;\n",
              "      fill: #1967D2;\n",
              "      height: 32px;\n",
              "      padding: 0 0 0 0;\n",
              "      width: 32px;\n",
              "    }\n",
              "\n",
              "    .colab-df-convert:hover {\n",
              "      background-color: #E2EBFA;\n",
              "      box-shadow: 0px 1px 2px rgba(60, 64, 67, 0.3), 0px 1px 3px 1px rgba(60, 64, 67, 0.15);\n",
              "      fill: #174EA6;\n",
              "    }\n",
              "\n",
              "    [theme=dark] .colab-df-convert {\n",
              "      background-color: #3B4455;\n",
              "      fill: #D2E3FC;\n",
              "    }\n",
              "\n",
              "    [theme=dark] .colab-df-convert:hover {\n",
              "      background-color: #434B5C;\n",
              "      box-shadow: 0px 1px 3px 1px rgba(0, 0, 0, 0.15);\n",
              "      filter: drop-shadow(0px 1px 2px rgba(0, 0, 0, 0.3));\n",
              "      fill: #FFFFFF;\n",
              "    }\n",
              "  </style>\n",
              "\n",
              "      <script>\n",
              "        const buttonEl =\n",
              "          document.querySelector('#df-977561f2-6694-4c33-ba02-d47bdc492e73 button.colab-df-convert');\n",
              "        buttonEl.style.display =\n",
              "          google.colab.kernel.accessAllowed ? 'block' : 'none';\n",
              "\n",
              "        async function convertToInteractive(key) {\n",
              "          const element = document.querySelector('#df-977561f2-6694-4c33-ba02-d47bdc492e73');\n",
              "          const dataTable =\n",
              "            await google.colab.kernel.invokeFunction('convertToInteractive',\n",
              "                                                     [key], {});\n",
              "          if (!dataTable) return;\n",
              "\n",
              "          const docLinkHtml = 'Like what you see? Visit the ' +\n",
              "            '<a target=\"_blank\" href=https://colab.research.google.com/notebooks/data_table.ipynb>data table notebook</a>'\n",
              "            + ' to learn more about interactive tables.';\n",
              "          element.innerHTML = '';\n",
              "          dataTable['output_type'] = 'display_data';\n",
              "          await google.colab.output.renderOutput(dataTable, element);\n",
              "          const docLink = document.createElement('div');\n",
              "          docLink.innerHTML = docLinkHtml;\n",
              "          element.appendChild(docLink);\n",
              "        }\n",
              "      </script>\n",
              "    </div>\n",
              "  </div>\n",
              "  "
            ],
            "text/plain": [
              "               Id  ...                                               Body\n",
              "487         43960  ...  <p>Does anyone have any experience with any CO...\n",
              "890         73260  ...  <p>I've come across a few different applicatio...\n",
              "904         74570  ...  <p>I'm maintaining <a href=\"http://perl-begin....\n",
              "949         79350  ...  <p>I am looking to have 4 Virtual servers(vari...\n",
              "1017        85370  ...  <p>My strongest lead is that the code who deal...\n",
              "...           ...  ...                                                ...\n",
              "1264187  40142600  ...  <pre><code>def compress(s):\\n    âââ(str...\n",
              "1264188  40142610  ...  <p>So I can pull the url for a track from the ...\n",
              "1264193  40142780  ...  <p>I am solving the following problem in C : \\...\n",
              "1264194  40142790  ...  <p>Sorry in advance for the weird format of th...\n",
              "1264203  40142940  ...  <p>I am learning c++ and I'm trying draw an is...\n",
              "\n",
              "[78449 rows x 7 columns]"
            ]
          },
          "execution_count": 9,
          "metadata": {},
          "output_type": "execute_result"
        }
      ],
      "source": [
        "#negative scores\n",
        "negative_scores_questions = questions[questions[\"Score\"] < 0]\n",
        "negative_scores_questions"
      ]
    },
    {
      "cell_type": "code",
      "execution_count": null,
      "metadata": {
        "colab": {
          "base_uri": "https://localhost:8080/",
          "height": 81
        },
        "id": "cXPO7_PqiAqV",
        "outputId": "294c7856-3101-4cf7-b95a-de319579e85c"
      },
      "outputs": [
        {
          "data": {
            "text/html": [
              "\n",
              "  <div id=\"df-93cb63e2-f81d-4843-979a-7035c61eb9bc\">\n",
              "    <div class=\"colab-df-container\">\n",
              "      <div>\n",
              "<style scoped>\n",
              "    .dataframe tbody tr th:only-of-type {\n",
              "        vertical-align: middle;\n",
              "    }\n",
              "\n",
              "    .dataframe tbody tr th {\n",
              "        vertical-align: top;\n",
              "    }\n",
              "\n",
              "    .dataframe thead th {\n",
              "        text-align: right;\n",
              "    }\n",
              "</style>\n",
              "<table border=\"1\" class=\"dataframe\">\n",
              "  <thead>\n",
              "    <tr style=\"text-align: right;\">\n",
              "      <th></th>\n",
              "      <th>Id</th>\n",
              "      <th>OwnerUserId</th>\n",
              "      <th>CreationDate</th>\n",
              "      <th>ClosedDate</th>\n",
              "      <th>Score</th>\n",
              "      <th>Title</th>\n",
              "      <th>Body</th>\n",
              "    </tr>\n",
              "  </thead>\n",
              "  <tbody>\n",
              "    <tr>\n",
              "      <th>4907</th>\n",
              "      <td>348170</td>\n",
              "      <td>14069.0</td>\n",
              "      <td>2008-12-07T21:57:46Z</td>\n",
              "      <td>NaN</td>\n",
              "      <td>5190</td>\n",
              "      <td>How to undo 'git add' before commit?</td>\n",
              "      <td>&lt;p&gt;I mistakenly added files using the command:...</td>\n",
              "    </tr>\n",
              "  </tbody>\n",
              "</table>\n",
              "</div>\n",
              "      <button class=\"colab-df-convert\" onclick=\"convertToInteractive('df-93cb63e2-f81d-4843-979a-7035c61eb9bc')\"\n",
              "              title=\"Convert this dataframe to an interactive table.\"\n",
              "              style=\"display:none;\">\n",
              "        \n",
              "  <svg xmlns=\"http://www.w3.org/2000/svg\" height=\"24px\"viewBox=\"0 0 24 24\"\n",
              "       width=\"24px\">\n",
              "    <path d=\"M0 0h24v24H0V0z\" fill=\"none\"/>\n",
              "    <path d=\"M18.56 5.44l.94 2.06.94-2.06 2.06-.94-2.06-.94-.94-2.06-.94 2.06-2.06.94zm-11 1L8.5 8.5l.94-2.06 2.06-.94-2.06-.94L8.5 2.5l-.94 2.06-2.06.94zm10 10l.94 2.06.94-2.06 2.06-.94-2.06-.94-.94-2.06-.94 2.06-2.06.94z\"/><path d=\"M17.41 7.96l-1.37-1.37c-.4-.4-.92-.59-1.43-.59-.52 0-1.04.2-1.43.59L10.3 9.45l-7.72 7.72c-.78.78-.78 2.05 0 2.83L4 21.41c.39.39.9.59 1.41.59.51 0 1.02-.2 1.41-.59l7.78-7.78 2.81-2.81c.8-.78.8-2.07 0-2.86zM5.41 20L4 18.59l7.72-7.72 1.47 1.35L5.41 20z\"/>\n",
              "  </svg>\n",
              "      </button>\n",
              "      \n",
              "  <style>\n",
              "    .colab-df-container {\n",
              "      display:flex;\n",
              "      flex-wrap:wrap;\n",
              "      gap: 12px;\n",
              "    }\n",
              "\n",
              "    .colab-df-convert {\n",
              "      background-color: #E8F0FE;\n",
              "      border: none;\n",
              "      border-radius: 50%;\n",
              "      cursor: pointer;\n",
              "      display: none;\n",
              "      fill: #1967D2;\n",
              "      height: 32px;\n",
              "      padding: 0 0 0 0;\n",
              "      width: 32px;\n",
              "    }\n",
              "\n",
              "    .colab-df-convert:hover {\n",
              "      background-color: #E2EBFA;\n",
              "      box-shadow: 0px 1px 2px rgba(60, 64, 67, 0.3), 0px 1px 3px 1px rgba(60, 64, 67, 0.15);\n",
              "      fill: #174EA6;\n",
              "    }\n",
              "\n",
              "    [theme=dark] .colab-df-convert {\n",
              "      background-color: #3B4455;\n",
              "      fill: #D2E3FC;\n",
              "    }\n",
              "\n",
              "    [theme=dark] .colab-df-convert:hover {\n",
              "      background-color: #434B5C;\n",
              "      box-shadow: 0px 1px 3px 1px rgba(0, 0, 0, 0.15);\n",
              "      filter: drop-shadow(0px 1px 2px rgba(0, 0, 0, 0.3));\n",
              "      fill: #FFFFFF;\n",
              "    }\n",
              "  </style>\n",
              "\n",
              "      <script>\n",
              "        const buttonEl =\n",
              "          document.querySelector('#df-93cb63e2-f81d-4843-979a-7035c61eb9bc button.colab-df-convert');\n",
              "        buttonEl.style.display =\n",
              "          google.colab.kernel.accessAllowed ? 'block' : 'none';\n",
              "\n",
              "        async function convertToInteractive(key) {\n",
              "          const element = document.querySelector('#df-93cb63e2-f81d-4843-979a-7035c61eb9bc');\n",
              "          const dataTable =\n",
              "            await google.colab.kernel.invokeFunction('convertToInteractive',\n",
              "                                                     [key], {});\n",
              "          if (!dataTable) return;\n",
              "\n",
              "          const docLinkHtml = 'Like what you see? Visit the ' +\n",
              "            '<a target=\"_blank\" href=https://colab.research.google.com/notebooks/data_table.ipynb>data table notebook</a>'\n",
              "            + ' to learn more about interactive tables.';\n",
              "          element.innerHTML = '';\n",
              "          dataTable['output_type'] = 'display_data';\n",
              "          await google.colab.output.renderOutput(dataTable, element);\n",
              "          const docLink = document.createElement('div');\n",
              "          docLink.innerHTML = docLinkHtml;\n",
              "          element.appendChild(docLink);\n",
              "        }\n",
              "      </script>\n",
              "    </div>\n",
              "  </div>\n",
              "  "
            ],
            "text/plain": [
              "          Id  ...                                               Body\n",
              "4907  348170  ...  <p>I mistakenly added files using the command:...\n",
              "\n",
              "[1 rows x 7 columns]"
            ]
          },
          "execution_count": 10,
          "metadata": {},
          "output_type": "execute_result"
        }
      ],
      "source": [
        "#Posts with a score greater than 4000\n",
        "best_posts = questions[questions[\"Score\"] >4000]\n",
        "best_posts"
      ]
    },
    {
      "cell_type": "code",
      "execution_count": null,
      "metadata": {
        "colab": {
          "base_uri": "https://localhost:8080/"
        },
        "id": "2nRsYk40qI-q",
        "outputId": "b204a5e5-305a-42a3-f1aa-1db8823f85fa"
      },
      "outputs": [
        {
          "data": {
            "text/plain": [
              "Id                    0\n",
              "OwnerUserId       14454\n",
              "CreationDate          0\n",
              "ClosedDate      1208257\n",
              "Score                 0\n",
              "Title                 0\n",
              "Body                  0\n",
              "dtype: int64"
            ]
          },
          "execution_count": 11,
          "metadata": {},
          "output_type": "execute_result"
        }
      ],
      "source": [
        "#Count NaN values -> most of them in ClosedDate\n",
        "questions.isna().sum()"
      ]
    },
    {
      "cell_type": "markdown",
      "metadata": {
        "id": "dugxDhRlpezf"
      },
      "source": [
        "<h2>Answers</h2>"
      ]
    },
    {
      "cell_type": "markdown",
      "metadata": {
        "id": "tjCVejxuyFPl"
      },
      "source": [
        "\n",
        "*   Id: id of the answer;\n",
        "*   OwnerUserId: id of the account who post the answer;\n",
        "*   CreationDate: when the answer was posted;\n",
        "*   ParentId: Id of the question;\n",
        "*   Score: upvotes - downvotes;\n",
        "*   Body: the answer\n",
        "\n"
      ]
    },
    {
      "cell_type": "code",
      "execution_count": null,
      "metadata": {
        "id": "3J2x9cgeFORD"
      },
      "outputs": [],
      "source": [
        "answers = pd.read_csv(\"/content/drive/MyDrive/Data Mining/Project/Answers.csv\",encoding=\"ISO-8859-1\") #utf-8 is not good in this case"
      ]
    },
    {
      "cell_type": "code",
      "execution_count": null,
      "metadata": {
        "colab": {
          "base_uri": "https://localhost:8080/",
          "height": 363
        },
        "id": "pHzWWfaNFggg",
        "outputId": "ce82e239-f1f2-452b-e012-3e985e3c5784"
      },
      "outputs": [
        {
          "data": {
            "text/html": [
              "\n",
              "  <div id=\"df-99389aac-0e1d-4830-b2d9-8e1b75b76c04\">\n",
              "    <div class=\"colab-df-container\">\n",
              "      <div>\n",
              "<style scoped>\n",
              "    .dataframe tbody tr th:only-of-type {\n",
              "        vertical-align: middle;\n",
              "    }\n",
              "\n",
              "    .dataframe tbody tr th {\n",
              "        vertical-align: top;\n",
              "    }\n",
              "\n",
              "    .dataframe thead th {\n",
              "        text-align: right;\n",
              "    }\n",
              "</style>\n",
              "<table border=\"1\" class=\"dataframe\">\n",
              "  <thead>\n",
              "    <tr style=\"text-align: right;\">\n",
              "      <th></th>\n",
              "      <th>Id</th>\n",
              "      <th>OwnerUserId</th>\n",
              "      <th>CreationDate</th>\n",
              "      <th>ParentId</th>\n",
              "      <th>Score</th>\n",
              "      <th>Body</th>\n",
              "    </tr>\n",
              "  </thead>\n",
              "  <tbody>\n",
              "    <tr>\n",
              "      <th>0</th>\n",
              "      <td>92</td>\n",
              "      <td>61.0</td>\n",
              "      <td>2008-08-01T14:45:37Z</td>\n",
              "      <td>90</td>\n",
              "      <td>13</td>\n",
              "      <td>&lt;p&gt;&lt;a href=\"http://svnbook.red-bean.com/\"&gt;Vers...</td>\n",
              "    </tr>\n",
              "    <tr>\n",
              "      <th>1</th>\n",
              "      <td>124</td>\n",
              "      <td>26.0</td>\n",
              "      <td>2008-08-01T16:09:47Z</td>\n",
              "      <td>80</td>\n",
              "      <td>12</td>\n",
              "      <td>&lt;p&gt;I wound up using this. It is a kind of a ha...</td>\n",
              "    </tr>\n",
              "    <tr>\n",
              "      <th>2</th>\n",
              "      <td>199</td>\n",
              "      <td>50.0</td>\n",
              "      <td>2008-08-01T19:36:46Z</td>\n",
              "      <td>180</td>\n",
              "      <td>1</td>\n",
              "      <td>&lt;p&gt;I've read somewhere the human eye can't dis...</td>\n",
              "    </tr>\n",
              "    <tr>\n",
              "      <th>3</th>\n",
              "      <td>269</td>\n",
              "      <td>91.0</td>\n",
              "      <td>2008-08-01T23:49:57Z</td>\n",
              "      <td>260</td>\n",
              "      <td>4</td>\n",
              "      <td>&lt;p&gt;Yes, I thought about that, but I soon figur...</td>\n",
              "    </tr>\n",
              "    <tr>\n",
              "      <th>4</th>\n",
              "      <td>307</td>\n",
              "      <td>49.0</td>\n",
              "      <td>2008-08-02T01:49:46Z</td>\n",
              "      <td>260</td>\n",
              "      <td>28</td>\n",
              "      <td>&lt;p&gt;&lt;a href=\"http://www.codeproject.com/Article...</td>\n",
              "    </tr>\n",
              "    <tr>\n",
              "      <th>5</th>\n",
              "      <td>332</td>\n",
              "      <td>59.0</td>\n",
              "      <td>2008-08-02T03:00:24Z</td>\n",
              "      <td>330</td>\n",
              "      <td>19</td>\n",
              "      <td>&lt;p&gt;I would be a bit reluctant to use nested cl...</td>\n",
              "    </tr>\n",
              "    <tr>\n",
              "      <th>6</th>\n",
              "      <td>344</td>\n",
              "      <td>100.0</td>\n",
              "      <td>2008-08-02T04:18:15Z</td>\n",
              "      <td>260</td>\n",
              "      <td>6</td>\n",
              "      <td>&lt;p&gt;You might be able to use IronRuby for that....</td>\n",
              "    </tr>\n",
              "    <tr>\n",
              "      <th>7</th>\n",
              "      <td>359</td>\n",
              "      <td>119.0</td>\n",
              "      <td>2008-08-02T06:16:23Z</td>\n",
              "      <td>260</td>\n",
              "      <td>5</td>\n",
              "      <td>&lt;P&gt;You could use any of the DLR languages, whi...</td>\n",
              "    </tr>\n",
              "    <tr>\n",
              "      <th>8</th>\n",
              "      <td>473</td>\n",
              "      <td>49.0</td>\n",
              "      <td>2008-08-02T15:33:13Z</td>\n",
              "      <td>470</td>\n",
              "      <td>8</td>\n",
              "      <td>&lt;p&gt;No, what you're doing is fine. Don't let th...</td>\n",
              "    </tr>\n",
              "    <tr>\n",
              "      <th>9</th>\n",
              "      <td>529</td>\n",
              "      <td>86.0</td>\n",
              "      <td>2008-08-02T18:16:07Z</td>\n",
              "      <td>180</td>\n",
              "      <td>3</td>\n",
              "      <td>&lt;p&gt;Isn't it also a factor which order you set ...</td>\n",
              "    </tr>\n",
              "  </tbody>\n",
              "</table>\n",
              "</div>\n",
              "      <button class=\"colab-df-convert\" onclick=\"convertToInteractive('df-99389aac-0e1d-4830-b2d9-8e1b75b76c04')\"\n",
              "              title=\"Convert this dataframe to an interactive table.\"\n",
              "              style=\"display:none;\">\n",
              "        \n",
              "  <svg xmlns=\"http://www.w3.org/2000/svg\" height=\"24px\"viewBox=\"0 0 24 24\"\n",
              "       width=\"24px\">\n",
              "    <path d=\"M0 0h24v24H0V0z\" fill=\"none\"/>\n",
              "    <path d=\"M18.56 5.44l.94 2.06.94-2.06 2.06-.94-2.06-.94-.94-2.06-.94 2.06-2.06.94zm-11 1L8.5 8.5l.94-2.06 2.06-.94-2.06-.94L8.5 2.5l-.94 2.06-2.06.94zm10 10l.94 2.06.94-2.06 2.06-.94-2.06-.94-.94-2.06-.94 2.06-2.06.94z\"/><path d=\"M17.41 7.96l-1.37-1.37c-.4-.4-.92-.59-1.43-.59-.52 0-1.04.2-1.43.59L10.3 9.45l-7.72 7.72c-.78.78-.78 2.05 0 2.83L4 21.41c.39.39.9.59 1.41.59.51 0 1.02-.2 1.41-.59l7.78-7.78 2.81-2.81c.8-.78.8-2.07 0-2.86zM5.41 20L4 18.59l7.72-7.72 1.47 1.35L5.41 20z\"/>\n",
              "  </svg>\n",
              "      </button>\n",
              "      \n",
              "  <style>\n",
              "    .colab-df-container {\n",
              "      display:flex;\n",
              "      flex-wrap:wrap;\n",
              "      gap: 12px;\n",
              "    }\n",
              "\n",
              "    .colab-df-convert {\n",
              "      background-color: #E8F0FE;\n",
              "      border: none;\n",
              "      border-radius: 50%;\n",
              "      cursor: pointer;\n",
              "      display: none;\n",
              "      fill: #1967D2;\n",
              "      height: 32px;\n",
              "      padding: 0 0 0 0;\n",
              "      width: 32px;\n",
              "    }\n",
              "\n",
              "    .colab-df-convert:hover {\n",
              "      background-color: #E2EBFA;\n",
              "      box-shadow: 0px 1px 2px rgba(60, 64, 67, 0.3), 0px 1px 3px 1px rgba(60, 64, 67, 0.15);\n",
              "      fill: #174EA6;\n",
              "    }\n",
              "\n",
              "    [theme=dark] .colab-df-convert {\n",
              "      background-color: #3B4455;\n",
              "      fill: #D2E3FC;\n",
              "    }\n",
              "\n",
              "    [theme=dark] .colab-df-convert:hover {\n",
              "      background-color: #434B5C;\n",
              "      box-shadow: 0px 1px 3px 1px rgba(0, 0, 0, 0.15);\n",
              "      filter: drop-shadow(0px 1px 2px rgba(0, 0, 0, 0.3));\n",
              "      fill: #FFFFFF;\n",
              "    }\n",
              "  </style>\n",
              "\n",
              "      <script>\n",
              "        const buttonEl =\n",
              "          document.querySelector('#df-99389aac-0e1d-4830-b2d9-8e1b75b76c04 button.colab-df-convert');\n",
              "        buttonEl.style.display =\n",
              "          google.colab.kernel.accessAllowed ? 'block' : 'none';\n",
              "\n",
              "        async function convertToInteractive(key) {\n",
              "          const element = document.querySelector('#df-99389aac-0e1d-4830-b2d9-8e1b75b76c04');\n",
              "          const dataTable =\n",
              "            await google.colab.kernel.invokeFunction('convertToInteractive',\n",
              "                                                     [key], {});\n",
              "          if (!dataTable) return;\n",
              "\n",
              "          const docLinkHtml = 'Like what you see? Visit the ' +\n",
              "            '<a target=\"_blank\" href=https://colab.research.google.com/notebooks/data_table.ipynb>data table notebook</a>'\n",
              "            + ' to learn more about interactive tables.';\n",
              "          element.innerHTML = '';\n",
              "          dataTable['output_type'] = 'display_data';\n",
              "          await google.colab.output.renderOutput(dataTable, element);\n",
              "          const docLink = document.createElement('div');\n",
              "          docLink.innerHTML = docLinkHtml;\n",
              "          element.appendChild(docLink);\n",
              "        }\n",
              "      </script>\n",
              "    </div>\n",
              "  </div>\n",
              "  "
            ],
            "text/plain": [
              "    Id  OwnerUserId  ... Score                                               Body\n",
              "0   92         61.0  ...    13  <p><a href=\"http://svnbook.red-bean.com/\">Vers...\n",
              "1  124         26.0  ...    12  <p>I wound up using this. It is a kind of a ha...\n",
              "2  199         50.0  ...     1  <p>I've read somewhere the human eye can't dis...\n",
              "3  269         91.0  ...     4  <p>Yes, I thought about that, but I soon figur...\n",
              "4  307         49.0  ...    28  <p><a href=\"http://www.codeproject.com/Article...\n",
              "5  332         59.0  ...    19  <p>I would be a bit reluctant to use nested cl...\n",
              "6  344        100.0  ...     6  <p>You might be able to use IronRuby for that....\n",
              "7  359        119.0  ...     5  <P>You could use any of the DLR languages, whi...\n",
              "8  473         49.0  ...     8  <p>No, what you're doing is fine. Don't let th...\n",
              "9  529         86.0  ...     3  <p>Isn't it also a factor which order you set ...\n",
              "\n",
              "[10 rows x 6 columns]"
            ]
          },
          "execution_count": 13,
          "metadata": {},
          "output_type": "execute_result"
        }
      ],
      "source": [
        "answers.head(10)"
      ]
    },
    {
      "cell_type": "code",
      "execution_count": null,
      "metadata": {
        "colab": {
          "base_uri": "https://localhost:8080/",
          "height": 300
        },
        "id": "pfTUfpAEFSSV",
        "outputId": "e7531fba-68a3-4d7b-c758-dd8cbfc1e58a"
      },
      "outputs": [
        {
          "data": {
            "text/html": [
              "\n",
              "  <div id=\"df-d8ce4c8c-feb0-4e11-a884-029322bb891a\">\n",
              "    <div class=\"colab-df-container\">\n",
              "      <div>\n",
              "<style scoped>\n",
              "    .dataframe tbody tr th:only-of-type {\n",
              "        vertical-align: middle;\n",
              "    }\n",
              "\n",
              "    .dataframe tbody tr th {\n",
              "        vertical-align: top;\n",
              "    }\n",
              "\n",
              "    .dataframe thead th {\n",
              "        text-align: right;\n",
              "    }\n",
              "</style>\n",
              "<table border=\"1\" class=\"dataframe\">\n",
              "  <thead>\n",
              "    <tr style=\"text-align: right;\">\n",
              "      <th></th>\n",
              "      <th>Id</th>\n",
              "      <th>OwnerUserId</th>\n",
              "      <th>ParentId</th>\n",
              "      <th>Score</th>\n",
              "    </tr>\n",
              "  </thead>\n",
              "  <tbody>\n",
              "    <tr>\n",
              "      <th>count</th>\n",
              "      <td>2.014516e+06</td>\n",
              "      <td>2.001316e+06</td>\n",
              "      <td>2.014516e+06</td>\n",
              "      <td>2.014516e+06</td>\n",
              "    </tr>\n",
              "    <tr>\n",
              "      <th>mean</th>\n",
              "      <td>1.915490e+07</td>\n",
              "      <td>1.487613e+06</td>\n",
              "      <td>1.808390e+07</td>\n",
              "      <td>2.480563e+00</td>\n",
              "    </tr>\n",
              "    <tr>\n",
              "      <th>std</th>\n",
              "      <td>1.168713e+07</td>\n",
              "      <td>1.549051e+06</td>\n",
              "      <td>1.169152e+07</td>\n",
              "      <td>1.590938e+01</td>\n",
              "    </tr>\n",
              "    <tr>\n",
              "      <th>min</th>\n",
              "      <td>9.200000e+01</td>\n",
              "      <td>1.000000e+00</td>\n",
              "      <td>8.000000e+01</td>\n",
              "      <td>-4.200000e+01</td>\n",
              "    </tr>\n",
              "    <tr>\n",
              "      <th>25%</th>\n",
              "      <td>8.854490e+06</td>\n",
              "      <td>2.818680e+05</td>\n",
              "      <td>7.692900e+06</td>\n",
              "      <td>0.000000e+00</td>\n",
              "    </tr>\n",
              "    <tr>\n",
              "      <th>50%</th>\n",
              "      <td>1.866246e+07</td>\n",
              "      <td>9.546430e+05</td>\n",
              "      <td>1.712404e+07</td>\n",
              "      <td>1.000000e+00</td>\n",
              "    </tr>\n",
              "    <tr>\n",
              "      <th>75%</th>\n",
              "      <td>2.929756e+07</td>\n",
              "      <td>2.197072e+06</td>\n",
              "      <td>2.804977e+07</td>\n",
              "      <td>2.000000e+00</td>\n",
              "    </tr>\n",
              "    <tr>\n",
              "      <th>max</th>\n",
              "      <td>4.014339e+07</td>\n",
              "      <td>7.045028e+06</td>\n",
              "      <td>4.014319e+07</td>\n",
              "      <td>5.718000e+03</td>\n",
              "    </tr>\n",
              "  </tbody>\n",
              "</table>\n",
              "</div>\n",
              "      <button class=\"colab-df-convert\" onclick=\"convertToInteractive('df-d8ce4c8c-feb0-4e11-a884-029322bb891a')\"\n",
              "              title=\"Convert this dataframe to an interactive table.\"\n",
              "              style=\"display:none;\">\n",
              "        \n",
              "  <svg xmlns=\"http://www.w3.org/2000/svg\" height=\"24px\"viewBox=\"0 0 24 24\"\n",
              "       width=\"24px\">\n",
              "    <path d=\"M0 0h24v24H0V0z\" fill=\"none\"/>\n",
              "    <path d=\"M18.56 5.44l.94 2.06.94-2.06 2.06-.94-2.06-.94-.94-2.06-.94 2.06-2.06.94zm-11 1L8.5 8.5l.94-2.06 2.06-.94-2.06-.94L8.5 2.5l-.94 2.06-2.06.94zm10 10l.94 2.06.94-2.06 2.06-.94-2.06-.94-.94-2.06-.94 2.06-2.06.94z\"/><path d=\"M17.41 7.96l-1.37-1.37c-.4-.4-.92-.59-1.43-.59-.52 0-1.04.2-1.43.59L10.3 9.45l-7.72 7.72c-.78.78-.78 2.05 0 2.83L4 21.41c.39.39.9.59 1.41.59.51 0 1.02-.2 1.41-.59l7.78-7.78 2.81-2.81c.8-.78.8-2.07 0-2.86zM5.41 20L4 18.59l7.72-7.72 1.47 1.35L5.41 20z\"/>\n",
              "  </svg>\n",
              "      </button>\n",
              "      \n",
              "  <style>\n",
              "    .colab-df-container {\n",
              "      display:flex;\n",
              "      flex-wrap:wrap;\n",
              "      gap: 12px;\n",
              "    }\n",
              "\n",
              "    .colab-df-convert {\n",
              "      background-color: #E8F0FE;\n",
              "      border: none;\n",
              "      border-radius: 50%;\n",
              "      cursor: pointer;\n",
              "      display: none;\n",
              "      fill: #1967D2;\n",
              "      height: 32px;\n",
              "      padding: 0 0 0 0;\n",
              "      width: 32px;\n",
              "    }\n",
              "\n",
              "    .colab-df-convert:hover {\n",
              "      background-color: #E2EBFA;\n",
              "      box-shadow: 0px 1px 2px rgba(60, 64, 67, 0.3), 0px 1px 3px 1px rgba(60, 64, 67, 0.15);\n",
              "      fill: #174EA6;\n",
              "    }\n",
              "\n",
              "    [theme=dark] .colab-df-convert {\n",
              "      background-color: #3B4455;\n",
              "      fill: #D2E3FC;\n",
              "    }\n",
              "\n",
              "    [theme=dark] .colab-df-convert:hover {\n",
              "      background-color: #434B5C;\n",
              "      box-shadow: 0px 1px 3px 1px rgba(0, 0, 0, 0.15);\n",
              "      filter: drop-shadow(0px 1px 2px rgba(0, 0, 0, 0.3));\n",
              "      fill: #FFFFFF;\n",
              "    }\n",
              "  </style>\n",
              "\n",
              "      <script>\n",
              "        const buttonEl =\n",
              "          document.querySelector('#df-d8ce4c8c-feb0-4e11-a884-029322bb891a button.colab-df-convert');\n",
              "        buttonEl.style.display =\n",
              "          google.colab.kernel.accessAllowed ? 'block' : 'none';\n",
              "\n",
              "        async function convertToInteractive(key) {\n",
              "          const element = document.querySelector('#df-d8ce4c8c-feb0-4e11-a884-029322bb891a');\n",
              "          const dataTable =\n",
              "            await google.colab.kernel.invokeFunction('convertToInteractive',\n",
              "                                                     [key], {});\n",
              "          if (!dataTable) return;\n",
              "\n",
              "          const docLinkHtml = 'Like what you see? Visit the ' +\n",
              "            '<a target=\"_blank\" href=https://colab.research.google.com/notebooks/data_table.ipynb>data table notebook</a>'\n",
              "            + ' to learn more about interactive tables.';\n",
              "          element.innerHTML = '';\n",
              "          dataTable['output_type'] = 'display_data';\n",
              "          await google.colab.output.renderOutput(dataTable, element);\n",
              "          const docLink = document.createElement('div');\n",
              "          docLink.innerHTML = docLinkHtml;\n",
              "          element.appendChild(docLink);\n",
              "        }\n",
              "      </script>\n",
              "    </div>\n",
              "  </div>\n",
              "  "
            ],
            "text/plain": [
              "                 Id   OwnerUserId      ParentId         Score\n",
              "count  2.014516e+06  2.001316e+06  2.014516e+06  2.014516e+06\n",
              "mean   1.915490e+07  1.487613e+06  1.808390e+07  2.480563e+00\n",
              "std    1.168713e+07  1.549051e+06  1.169152e+07  1.590938e+01\n",
              "min    9.200000e+01  1.000000e+00  8.000000e+01 -4.200000e+01\n",
              "25%    8.854490e+06  2.818680e+05  7.692900e+06  0.000000e+00\n",
              "50%    1.866246e+07  9.546430e+05  1.712404e+07  1.000000e+00\n",
              "75%    2.929756e+07  2.197072e+06  2.804977e+07  2.000000e+00\n",
              "max    4.014339e+07  7.045028e+06  4.014319e+07  5.718000e+03"
            ]
          },
          "execution_count": 14,
          "metadata": {},
          "output_type": "execute_result"
        }
      ],
      "source": [
        "answers.describe()"
      ]
    },
    {
      "cell_type": "code",
      "execution_count": null,
      "metadata": {
        "colab": {
          "base_uri": "https://localhost:8080/"
        },
        "id": "6Ni0sADlFrMb",
        "outputId": "d90ac022-ea5e-40c4-abce-a1bca11578ed"
      },
      "outputs": [
        {
          "data": {
            "text/plain": [
              "(-47.760999999999996, 246.0]    2013578\n",
              "(246.0, 534.0]                      708\n",
              "(534.0, 822.0]                      150\n",
              "(822.0, 1110.0]                      34\n",
              "(1398.0, 1686.0]                     17\n",
              "(1110.0, 1398.0]                      8\n",
              "(1686.0, 1974.0]                      6\n",
              "(2262.0, 2550.0]                      4\n",
              "(2838.0, 3126.0]                      4\n",
              "(1974.0, 2262.0]                      3\n",
              "(3414.0, 3702.0]                      2\n",
              "(2550.0, 2838.0]                      1\n",
              "(5430.0, 5718.0]                      1\n",
              "(3126.0, 3414.0]                      0\n",
              "(3702.0, 3990.0]                      0\n",
              "(3990.0, 4278.0]                      0\n",
              "(4278.0, 4566.0]                      0\n",
              "(4566.0, 4854.0]                      0\n",
              "(4854.0, 5142.0]                      0\n",
              "(5142.0, 5430.0]                      0\n",
              "Name: Score, dtype: int64"
            ]
          },
          "execution_count": 15,
          "metadata": {},
          "output_type": "execute_result"
        }
      ],
      "source": [
        "#Distribution for the scores of the answers\n",
        "score_distribution = answers[\"Score\"].value_counts(bins=20)\n",
        "score_distribution"
      ]
    },
    {
      "cell_type": "code",
      "execution_count": null,
      "metadata": {
        "colab": {
          "base_uri": "https://localhost:8080/",
          "height": 424
        },
        "id": "HQ4-a09Iw0DO",
        "outputId": "acfe91ab-8442-4d85-f487-b34d5fb45bc4"
      },
      "outputs": [
        {
          "data": {
            "text/html": [
              "\n",
              "  <div id=\"df-378f861d-2928-484b-9c85-d05b1e6c410c\">\n",
              "    <div class=\"colab-df-container\">\n",
              "      <div>\n",
              "<style scoped>\n",
              "    .dataframe tbody tr th:only-of-type {\n",
              "        vertical-align: middle;\n",
              "    }\n",
              "\n",
              "    .dataframe tbody tr th {\n",
              "        vertical-align: top;\n",
              "    }\n",
              "\n",
              "    .dataframe thead th {\n",
              "        text-align: right;\n",
              "    }\n",
              "</style>\n",
              "<table border=\"1\" class=\"dataframe\">\n",
              "  <thead>\n",
              "    <tr style=\"text-align: right;\">\n",
              "      <th></th>\n",
              "      <th>Id</th>\n",
              "      <th>OwnerUserId</th>\n",
              "      <th>CreationDate</th>\n",
              "      <th>ParentId</th>\n",
              "      <th>Score</th>\n",
              "      <th>Body</th>\n",
              "    </tr>\n",
              "  </thead>\n",
              "  <tbody>\n",
              "    <tr>\n",
              "      <th>259</th>\n",
              "      <td>7896</td>\n",
              "      <td>268.0</td>\n",
              "      <td>2008-08-11T16:07:31Z</td>\n",
              "      <td>7880</td>\n",
              "      <td>-2</td>\n",
              "      <td>&lt;p&gt;fstream are great but I will go a little de...</td>\n",
              "    </tr>\n",
              "    <tr>\n",
              "      <th>284</th>\n",
              "      <td>8421</td>\n",
              "      <td>785.0</td>\n",
              "      <td>2008-08-12T02:37:15Z</td>\n",
              "      <td>6430</td>\n",
              "      <td>-2</td>\n",
              "      <td>&lt;p&gt;Aha, I was really just testing everyone onc...</td>\n",
              "    </tr>\n",
              "    <tr>\n",
              "      <th>386</th>\n",
              "      <td>10687</td>\n",
              "      <td>234.0</td>\n",
              "      <td>2008-08-14T05:03:34Z</td>\n",
              "      <td>10610</td>\n",
              "      <td>-1</td>\n",
              "      <td>&lt;p&gt;e-texteditor hilights what you're searching...</td>\n",
              "    </tr>\n",
              "    <tr>\n",
              "      <th>483</th>\n",
              "      <td>12098</td>\n",
              "      <td>198.0</td>\n",
              "      <td>2008-08-15T09:24:51Z</td>\n",
              "      <td>10980</td>\n",
              "      <td>-2</td>\n",
              "      <td>&lt;p&gt;I'm not a lawyer but all licenses mentioned...</td>\n",
              "    </tr>\n",
              "    <tr>\n",
              "      <th>498</th>\n",
              "      <td>12885</td>\n",
              "      <td>872.0</td>\n",
              "      <td>2008-08-15T23:27:13Z</td>\n",
              "      <td>12870</td>\n",
              "      <td>-1</td>\n",
              "      <td>&lt;p&gt;There is no pretty solution.  Java just doe...</td>\n",
              "    </tr>\n",
              "    <tr>\n",
              "      <th>...</th>\n",
              "      <td>...</td>\n",
              "      <td>...</td>\n",
              "      <td>...</td>\n",
              "      <td>...</td>\n",
              "      <td>...</td>\n",
              "      <td>...</td>\n",
              "    </tr>\n",
              "    <tr>\n",
              "      <th>2014340</th>\n",
              "      <td>40139542</td>\n",
              "      <td>541038.0</td>\n",
              "      <td>2016-10-19T19:02:35Z</td>\n",
              "      <td>40139460</td>\n",
              "      <td>-1</td>\n",
              "      <td>&lt;pre&gt;&lt;code&gt;CHUNKSIZE=1024 # read 1024 bytes at...</td>\n",
              "    </tr>\n",
              "    <tr>\n",
              "      <th>2014343</th>\n",
              "      <td>40139568</td>\n",
              "      <td>3220135.0</td>\n",
              "      <td>2016-10-19T19:04:27Z</td>\n",
              "      <td>40139460</td>\n",
              "      <td>-1</td>\n",
              "      <td>&lt;p&gt;depending on how your particular data is br...</td>\n",
              "    </tr>\n",
              "    <tr>\n",
              "      <th>2014347</th>\n",
              "      <td>40139589</td>\n",
              "      <td>5912548.0</td>\n",
              "      <td>2016-10-19T19:06:08Z</td>\n",
              "      <td>40137060</td>\n",
              "      <td>-1</td>\n",
              "      <td>&lt;p&gt;I don't have ggplot installed, but maybe a ...</td>\n",
              "    </tr>\n",
              "    <tr>\n",
              "      <th>2014360</th>\n",
              "      <td>40139866</td>\n",
              "      <td>3831435.0</td>\n",
              "      <td>2016-10-19T19:21:27Z</td>\n",
              "      <td>40139500</td>\n",
              "      <td>-1</td>\n",
              "      <td>&lt;p&gt;Try this:&lt;/p&gt;\\n\\n&lt;pre&gt;&lt;code&gt;#include \"stdaf...</td>\n",
              "    </tr>\n",
              "    <tr>\n",
              "      <th>2014382</th>\n",
              "      <td>40140367</td>\n",
              "      <td>1461850.0</td>\n",
              "      <td>2016-10-19T19:52:48Z</td>\n",
              "      <td>40139460</td>\n",
              "      <td>-1</td>\n",
              "      <td>&lt;p&gt;You could use &lt;a href=\"http://docs.scipy.or...</td>\n",
              "    </tr>\n",
              "  </tbody>\n",
              "</table>\n",
              "<p>35046 rows × 6 columns</p>\n",
              "</div>\n",
              "      <button class=\"colab-df-convert\" onclick=\"convertToInteractive('df-378f861d-2928-484b-9c85-d05b1e6c410c')\"\n",
              "              title=\"Convert this dataframe to an interactive table.\"\n",
              "              style=\"display:none;\">\n",
              "        \n",
              "  <svg xmlns=\"http://www.w3.org/2000/svg\" height=\"24px\"viewBox=\"0 0 24 24\"\n",
              "       width=\"24px\">\n",
              "    <path d=\"M0 0h24v24H0V0z\" fill=\"none\"/>\n",
              "    <path d=\"M18.56 5.44l.94 2.06.94-2.06 2.06-.94-2.06-.94-.94-2.06-.94 2.06-2.06.94zm-11 1L8.5 8.5l.94-2.06 2.06-.94-2.06-.94L8.5 2.5l-.94 2.06-2.06.94zm10 10l.94 2.06.94-2.06 2.06-.94-2.06-.94-.94-2.06-.94 2.06-2.06.94z\"/><path d=\"M17.41 7.96l-1.37-1.37c-.4-.4-.92-.59-1.43-.59-.52 0-1.04.2-1.43.59L10.3 9.45l-7.72 7.72c-.78.78-.78 2.05 0 2.83L4 21.41c.39.39.9.59 1.41.59.51 0 1.02-.2 1.41-.59l7.78-7.78 2.81-2.81c.8-.78.8-2.07 0-2.86zM5.41 20L4 18.59l7.72-7.72 1.47 1.35L5.41 20z\"/>\n",
              "  </svg>\n",
              "      </button>\n",
              "      \n",
              "  <style>\n",
              "    .colab-df-container {\n",
              "      display:flex;\n",
              "      flex-wrap:wrap;\n",
              "      gap: 12px;\n",
              "    }\n",
              "\n",
              "    .colab-df-convert {\n",
              "      background-color: #E8F0FE;\n",
              "      border: none;\n",
              "      border-radius: 50%;\n",
              "      cursor: pointer;\n",
              "      display: none;\n",
              "      fill: #1967D2;\n",
              "      height: 32px;\n",
              "      padding: 0 0 0 0;\n",
              "      width: 32px;\n",
              "    }\n",
              "\n",
              "    .colab-df-convert:hover {\n",
              "      background-color: #E2EBFA;\n",
              "      box-shadow: 0px 1px 2px rgba(60, 64, 67, 0.3), 0px 1px 3px 1px rgba(60, 64, 67, 0.15);\n",
              "      fill: #174EA6;\n",
              "    }\n",
              "\n",
              "    [theme=dark] .colab-df-convert {\n",
              "      background-color: #3B4455;\n",
              "      fill: #D2E3FC;\n",
              "    }\n",
              "\n",
              "    [theme=dark] .colab-df-convert:hover {\n",
              "      background-color: #434B5C;\n",
              "      box-shadow: 0px 1px 3px 1px rgba(0, 0, 0, 0.15);\n",
              "      filter: drop-shadow(0px 1px 2px rgba(0, 0, 0, 0.3));\n",
              "      fill: #FFFFFF;\n",
              "    }\n",
              "  </style>\n",
              "\n",
              "      <script>\n",
              "        const buttonEl =\n",
              "          document.querySelector('#df-378f861d-2928-484b-9c85-d05b1e6c410c button.colab-df-convert');\n",
              "        buttonEl.style.display =\n",
              "          google.colab.kernel.accessAllowed ? 'block' : 'none';\n",
              "\n",
              "        async function convertToInteractive(key) {\n",
              "          const element = document.querySelector('#df-378f861d-2928-484b-9c85-d05b1e6c410c');\n",
              "          const dataTable =\n",
              "            await google.colab.kernel.invokeFunction('convertToInteractive',\n",
              "                                                     [key], {});\n",
              "          if (!dataTable) return;\n",
              "\n",
              "          const docLinkHtml = 'Like what you see? Visit the ' +\n",
              "            '<a target=\"_blank\" href=https://colab.research.google.com/notebooks/data_table.ipynb>data table notebook</a>'\n",
              "            + ' to learn more about interactive tables.';\n",
              "          element.innerHTML = '';\n",
              "          dataTable['output_type'] = 'display_data';\n",
              "          await google.colab.output.renderOutput(dataTable, element);\n",
              "          const docLink = document.createElement('div');\n",
              "          docLink.innerHTML = docLinkHtml;\n",
              "          element.appendChild(docLink);\n",
              "        }\n",
              "      </script>\n",
              "    </div>\n",
              "  </div>\n",
              "  "
            ],
            "text/plain": [
              "               Id  ...                                               Body\n",
              "259          7896  ...  <p>fstream are great but I will go a little de...\n",
              "284          8421  ...  <p>Aha, I was really just testing everyone onc...\n",
              "386         10687  ...  <p>e-texteditor hilights what you're searching...\n",
              "483         12098  ...  <p>I'm not a lawyer but all licenses mentioned...\n",
              "498         12885  ...  <p>There is no pretty solution.  Java just doe...\n",
              "...           ...  ...                                                ...\n",
              "2014340  40139542  ...  <pre><code>CHUNKSIZE=1024 # read 1024 bytes at...\n",
              "2014343  40139568  ...  <p>depending on how your particular data is br...\n",
              "2014347  40139589  ...  <p>I don't have ggplot installed, but maybe a ...\n",
              "2014360  40139866  ...  <p>Try this:</p>\\n\\n<pre><code>#include \"stdaf...\n",
              "2014382  40140367  ...  <p>You could use <a href=\"http://docs.scipy.or...\n",
              "\n",
              "[35046 rows x 6 columns]"
            ]
          },
          "execution_count": 16,
          "metadata": {},
          "output_type": "execute_result"
        }
      ],
      "source": [
        "#negative scores\n",
        "negative_scores_answers = answers[answers[\"Score\"] < 0]\n",
        "negative_scores_answers"
      ]
    },
    {
      "cell_type": "code",
      "execution_count": null,
      "metadata": {
        "colab": {
          "base_uri": "https://localhost:8080/"
        },
        "id": "bBb1Bk8yGM3w",
        "outputId": "22a0b801-41ac-47d5-c013-577bb885e950"
      },
      "outputs": [
        {
          "data": {
            "text/plain": [
              "ParentId\n",
              "80          3\n",
              "90          3\n",
              "120         1\n",
              "180         9\n",
              "260         9\n",
              "           ..\n",
              "40142860    1\n",
              "40142900    1\n",
              "40142910    1\n",
              "40142940    2\n",
              "40143190    2\n",
              "Name: Id, Length: 1102568, dtype: int64"
            ]
          },
          "execution_count": 17,
          "metadata": {},
          "output_type": "execute_result"
        }
      ],
      "source": [
        "#Number of answers for question\n",
        "answers_for_post = answers.groupby([\"ParentId\"]).count()[\"Id\"]\n",
        "answers_for_post"
      ]
    },
    {
      "cell_type": "code",
      "execution_count": null,
      "metadata": {
        "colab": {
          "base_uri": "https://localhost:8080/"
        },
        "id": "DF1p9H25uNQN",
        "outputId": "e1b2cb36-800d-43bb-fe6e-58d3b959670a"
      },
      "outputs": [
        {
          "data": {
            "text/plain": [
              "408"
            ]
          },
          "execution_count": 18,
          "metadata": {},
          "output_type": "execute_result"
        }
      ],
      "source": [
        "#max number of answers for a post\n",
        "answers_for_post.max()"
      ]
    },
    {
      "cell_type": "code",
      "execution_count": null,
      "metadata": {
        "colab": {
          "base_uri": "https://localhost:8080/"
        },
        "id": "nH9S_AVPuFeQ",
        "outputId": "dc4f7086-6f5c-4da6-c0fd-79162de5b8d7"
      },
      "outputs": [
        {
          "name": "stdout",
          "output_type": "stream",
          "text": [
            "#answers   #questions\n"
          ]
        },
        {
          "data": {
            "text/plain": [
              "1      606272\n",
              "2      284868\n",
              "3      117396\n",
              "4       49255\n",
              "5       21767\n",
              "6       10005\n",
              "7        5132\n",
              "8        2760\n",
              "9        1553\n",
              "10        954\n",
              "11        702\n",
              "12        508\n",
              "13        311\n",
              "14        237\n",
              "15        187\n",
              "16        125\n",
              "17        100\n",
              "18         86\n",
              "19         54\n",
              "20         42\n",
              "21         31\n",
              "22         31\n",
              "23         29\n",
              "24         22\n",
              "25         17\n",
              "27         16\n",
              "26         15\n",
              "29         12\n",
              "31         11\n",
              "28         11\n",
              "30         11\n",
              "32          7\n",
              "34          5\n",
              "33          5\n",
              "38          3\n",
              "40          3\n",
              "36          3\n",
              "35          2\n",
              "39          2\n",
              "43          2\n",
              "49          1\n",
              "67          1\n",
              "42          1\n",
              "50          1\n",
              "41          1\n",
              "59          1\n",
              "408         1\n",
              "45          1\n",
              "100         1\n",
              "55          1\n",
              "51          1\n",
              "61          1\n",
              "69          1\n",
              "316         1\n",
              "129         1\n",
              "37          1\n",
              "Name: Id, dtype: int64"
            ]
          },
          "execution_count": 19,
          "metadata": {},
          "output_type": "execute_result"
        }
      ],
      "source": [
        "#How many questions have a certain number of answers?\n",
        "print(\"#answers   #questions\")\n",
        "answers_for_post.value_counts()"
      ]
    },
    {
      "cell_type": "code",
      "execution_count": null,
      "metadata": {
        "colab": {
          "base_uri": "https://localhost:8080/"
        },
        "id": "gEiYYRsyrql2",
        "outputId": "09e32fb0-0994-479a-bb1e-c4c321a00b56"
      },
      "outputs": [
        {
          "data": {
            "text/plain": [
              "Id                  0\n",
              "OwnerUserId     13200\n",
              "CreationDate        0\n",
              "ParentId            0\n",
              "Score               0\n",
              "Body                0\n",
              "dtype: int64"
            ]
          },
          "execution_count": 20,
          "metadata": {},
          "output_type": "execute_result"
        }
      ],
      "source": [
        "#How may NaN values?\n",
        "answers.isna().sum()"
      ]
    },
    {
      "cell_type": "code",
      "execution_count": null,
      "metadata": {
        "colab": {
          "base_uri": "https://localhost:8080/"
        },
        "id": "dhH_hoaHx4nS",
        "outputId": "af11b101-9a46-4044-bdae-b5c8c95521dc"
      },
      "outputs": [
        {
          "name": "stdout",
          "output_type": "stream",
          "text": [
            "UserId     #answers\n"
          ]
        },
        {
          "data": {
            "text/plain": [
              "22656.0      3270\n",
              "1144035.0    3009\n",
              "29407.0      2144\n",
              "548225.0     1924\n",
              "115145.0     1813\n",
              "             ... \n",
              "3072736.0       1\n",
              "155506.0        1\n",
              "2869216.0       1\n",
              "2713587.0       1\n",
              "4464432.0       1\n",
              "Name: OwnerUserId, Length: 468797, dtype: int64"
            ]
          },
          "execution_count": 21,
          "metadata": {},
          "output_type": "execute_result"
        }
      ],
      "source": [
        "#How many questions were answered by the users?\n",
        "users_and_number_of_answers = answers[\"OwnerUserId\"].value_counts()\n",
        "print(\"UserId     #answers\")\n",
        "users_and_number_of_answers"
      ]
    },
    {
      "cell_type": "code",
      "execution_count": null,
      "metadata": {
        "colab": {
          "base_uri": "https://localhost:8080/"
        },
        "id": "-UKM1Ol81yHo",
        "outputId": "8a7e26a6-85c8-4921-b61c-0572fa55253b"
      },
      "outputs": [
        {
          "name": "stdout",
          "output_type": "stream",
          "text": [
            "#answers    #users\n"
          ]
        },
        {
          "data": {
            "text/plain": [
              "1       262716\n",
              "2        72701\n",
              "3        35270\n",
              "4        21035\n",
              "5        13960\n",
              "         ...  \n",
              "411          1\n",
              "413          1\n",
              "415          1\n",
              "419          1\n",
              "3270         1\n",
              "Name: OwnerUserId, Length: 484, dtype: int64"
            ]
          },
          "execution_count": 22,
          "metadata": {},
          "output_type": "execute_result"
        }
      ],
      "source": [
        "#Distribution of the number of answers posted by different users\n",
        "print(\"#answers    #users\")\n",
        "users_and_number_of_answers.value_counts()"
      ]
    },
    {
      "cell_type": "markdown",
      "metadata": {
        "id": "wKi7XF15pqBw"
      },
      "source": [
        "<h2>Tags</h2>"
      ]
    },
    {
      "cell_type": "markdown",
      "metadata": {
        "id": "0gcYNdLe40yH"
      },
      "source": [
        "\n",
        "*   Id: id of the question\n",
        "*   Tag: just the tag :)\n",
        "\n"
      ]
    },
    {
      "cell_type": "code",
      "execution_count": null,
      "metadata": {
        "id": "M21T5o2w4oJU"
      },
      "outputs": [],
      "source": [
        "tags = pd.read_csv(\"/content/drive/MyDrive/Data Mining/Project/Tags.csv\",encoding=\"ISO-8859-1\") #utf-8 is not good in this case"
      ]
    },
    {
      "cell_type": "code",
      "execution_count": null,
      "metadata": {
        "colab": {
          "base_uri": "https://localhost:8080/",
          "height": 363
        },
        "id": "pdfkaejx4oGi",
        "outputId": "0af76362-9458-4fe6-f5d3-36eb60509970"
      },
      "outputs": [
        {
          "data": {
            "text/html": [
              "\n",
              "  <div id=\"df-15b63d07-897f-4a21-8e43-9635c750982a\">\n",
              "    <div class=\"colab-df-container\">\n",
              "      <div>\n",
              "<style scoped>\n",
              "    .dataframe tbody tr th:only-of-type {\n",
              "        vertical-align: middle;\n",
              "    }\n",
              "\n",
              "    .dataframe tbody tr th {\n",
              "        vertical-align: top;\n",
              "    }\n",
              "\n",
              "    .dataframe thead th {\n",
              "        text-align: right;\n",
              "    }\n",
              "</style>\n",
              "<table border=\"1\" class=\"dataframe\">\n",
              "  <thead>\n",
              "    <tr style=\"text-align: right;\">\n",
              "      <th></th>\n",
              "      <th>Id</th>\n",
              "      <th>Tag</th>\n",
              "    </tr>\n",
              "  </thead>\n",
              "  <tbody>\n",
              "    <tr>\n",
              "      <th>0</th>\n",
              "      <td>80</td>\n",
              "      <td>flex</td>\n",
              "    </tr>\n",
              "    <tr>\n",
              "      <th>1</th>\n",
              "      <td>80</td>\n",
              "      <td>actionscript-3</td>\n",
              "    </tr>\n",
              "    <tr>\n",
              "      <th>2</th>\n",
              "      <td>80</td>\n",
              "      <td>air</td>\n",
              "    </tr>\n",
              "    <tr>\n",
              "      <th>3</th>\n",
              "      <td>90</td>\n",
              "      <td>svn</td>\n",
              "    </tr>\n",
              "    <tr>\n",
              "      <th>4</th>\n",
              "      <td>90</td>\n",
              "      <td>tortoisesvn</td>\n",
              "    </tr>\n",
              "    <tr>\n",
              "      <th>5</th>\n",
              "      <td>90</td>\n",
              "      <td>branch</td>\n",
              "    </tr>\n",
              "    <tr>\n",
              "      <th>6</th>\n",
              "      <td>90</td>\n",
              "      <td>branching-and-merging</td>\n",
              "    </tr>\n",
              "    <tr>\n",
              "      <th>7</th>\n",
              "      <td>120</td>\n",
              "      <td>sql</td>\n",
              "    </tr>\n",
              "    <tr>\n",
              "      <th>8</th>\n",
              "      <td>120</td>\n",
              "      <td>asp.net</td>\n",
              "    </tr>\n",
              "    <tr>\n",
              "      <th>9</th>\n",
              "      <td>120</td>\n",
              "      <td>sitemap</td>\n",
              "    </tr>\n",
              "  </tbody>\n",
              "</table>\n",
              "</div>\n",
              "      <button class=\"colab-df-convert\" onclick=\"convertToInteractive('df-15b63d07-897f-4a21-8e43-9635c750982a')\"\n",
              "              title=\"Convert this dataframe to an interactive table.\"\n",
              "              style=\"display:none;\">\n",
              "        \n",
              "  <svg xmlns=\"http://www.w3.org/2000/svg\" height=\"24px\"viewBox=\"0 0 24 24\"\n",
              "       width=\"24px\">\n",
              "    <path d=\"M0 0h24v24H0V0z\" fill=\"none\"/>\n",
              "    <path d=\"M18.56 5.44l.94 2.06.94-2.06 2.06-.94-2.06-.94-.94-2.06-.94 2.06-2.06.94zm-11 1L8.5 8.5l.94-2.06 2.06-.94-2.06-.94L8.5 2.5l-.94 2.06-2.06.94zm10 10l.94 2.06.94-2.06 2.06-.94-2.06-.94-.94-2.06-.94 2.06-2.06.94z\"/><path d=\"M17.41 7.96l-1.37-1.37c-.4-.4-.92-.59-1.43-.59-.52 0-1.04.2-1.43.59L10.3 9.45l-7.72 7.72c-.78.78-.78 2.05 0 2.83L4 21.41c.39.39.9.59 1.41.59.51 0 1.02-.2 1.41-.59l7.78-7.78 2.81-2.81c.8-.78.8-2.07 0-2.86zM5.41 20L4 18.59l7.72-7.72 1.47 1.35L5.41 20z\"/>\n",
              "  </svg>\n",
              "      </button>\n",
              "      \n",
              "  <style>\n",
              "    .colab-df-container {\n",
              "      display:flex;\n",
              "      flex-wrap:wrap;\n",
              "      gap: 12px;\n",
              "    }\n",
              "\n",
              "    .colab-df-convert {\n",
              "      background-color: #E8F0FE;\n",
              "      border: none;\n",
              "      border-radius: 50%;\n",
              "      cursor: pointer;\n",
              "      display: none;\n",
              "      fill: #1967D2;\n",
              "      height: 32px;\n",
              "      padding: 0 0 0 0;\n",
              "      width: 32px;\n",
              "    }\n",
              "\n",
              "    .colab-df-convert:hover {\n",
              "      background-color: #E2EBFA;\n",
              "      box-shadow: 0px 1px 2px rgba(60, 64, 67, 0.3), 0px 1px 3px 1px rgba(60, 64, 67, 0.15);\n",
              "      fill: #174EA6;\n",
              "    }\n",
              "\n",
              "    [theme=dark] .colab-df-convert {\n",
              "      background-color: #3B4455;\n",
              "      fill: #D2E3FC;\n",
              "    }\n",
              "\n",
              "    [theme=dark] .colab-df-convert:hover {\n",
              "      background-color: #434B5C;\n",
              "      box-shadow: 0px 1px 3px 1px rgba(0, 0, 0, 0.15);\n",
              "      filter: drop-shadow(0px 1px 2px rgba(0, 0, 0, 0.3));\n",
              "      fill: #FFFFFF;\n",
              "    }\n",
              "  </style>\n",
              "\n",
              "      <script>\n",
              "        const buttonEl =\n",
              "          document.querySelector('#df-15b63d07-897f-4a21-8e43-9635c750982a button.colab-df-convert');\n",
              "        buttonEl.style.display =\n",
              "          google.colab.kernel.accessAllowed ? 'block' : 'none';\n",
              "\n",
              "        async function convertToInteractive(key) {\n",
              "          const element = document.querySelector('#df-15b63d07-897f-4a21-8e43-9635c750982a');\n",
              "          const dataTable =\n",
              "            await google.colab.kernel.invokeFunction('convertToInteractive',\n",
              "                                                     [key], {});\n",
              "          if (!dataTable) return;\n",
              "\n",
              "          const docLinkHtml = 'Like what you see? Visit the ' +\n",
              "            '<a target=\"_blank\" href=https://colab.research.google.com/notebooks/data_table.ipynb>data table notebook</a>'\n",
              "            + ' to learn more about interactive tables.';\n",
              "          element.innerHTML = '';\n",
              "          dataTable['output_type'] = 'display_data';\n",
              "          await google.colab.output.renderOutput(dataTable, element);\n",
              "          const docLink = document.createElement('div');\n",
              "          docLink.innerHTML = docLinkHtml;\n",
              "          element.appendChild(docLink);\n",
              "        }\n",
              "      </script>\n",
              "    </div>\n",
              "  </div>\n",
              "  "
            ],
            "text/plain": [
              "    Id                    Tag\n",
              "0   80                   flex\n",
              "1   80         actionscript-3\n",
              "2   80                    air\n",
              "3   90                    svn\n",
              "4   90            tortoisesvn\n",
              "5   90                 branch\n",
              "6   90  branching-and-merging\n",
              "7  120                    sql\n",
              "8  120                asp.net\n",
              "9  120                sitemap"
            ]
          },
          "execution_count": 24,
          "metadata": {},
          "output_type": "execute_result"
        }
      ],
      "source": [
        "tags.head(10)"
      ]
    },
    {
      "cell_type": "code",
      "execution_count": null,
      "metadata": {
        "colab": {
          "base_uri": "https://localhost:8080/"
        },
        "id": "suT2aso54w2v",
        "outputId": "491dd646-2628-4366-c213-aa29c81c0faf"
      },
      "outputs": [
        {
          "data": {
            "text/plain": [
              "3750994"
            ]
          },
          "execution_count": 25,
          "metadata": {},
          "output_type": "execute_result"
        }
      ],
      "source": [
        "#How many rows?\n",
        "tags.shape[0]"
      ]
    },
    {
      "cell_type": "code",
      "execution_count": null,
      "metadata": {
        "colab": {
          "base_uri": "https://localhost:8080/"
        },
        "id": "r8bgqlxp7FtF",
        "outputId": "ca0d7744-cd57-4f33-98f4-9c4eb57eac5b"
      },
      "outputs": [
        {
          "data": {
            "text/plain": [
              "Id        0\n",
              "Tag    1113\n",
              "dtype: int64"
            ]
          },
          "execution_count": 26,
          "metadata": {},
          "output_type": "execute_result"
        }
      ],
      "source": [
        "#Check if there are some null values\n",
        "tags.isna().sum()"
      ]
    },
    {
      "cell_type": "code",
      "execution_count": null,
      "metadata": {
        "colab": {
          "base_uri": "https://localhost:8080/"
        },
        "id": "JRmlKKwW5L8W",
        "outputId": "8ea9e86b-114a-46c1-a7e7-6178e7d20363"
      },
      "outputs": [
        {
          "name": "stdout",
          "output_type": "stream",
          "text": [
            "Post     #tags\n"
          ]
        },
        {
          "data": {
            "text/plain": [
              "11053790    5\n",
              "5221980     5\n",
              "25573000    5\n",
              "25573010    5\n",
              "16468060    5\n",
              "           ..\n",
              "8240020     1\n",
              "11770790    1\n",
              "21883080    1\n",
              "3949000     1\n",
              "34943370    1\n",
              "Name: Id, Length: 1264216, dtype: int64"
            ]
          },
          "execution_count": 27,
          "metadata": {},
          "output_type": "execute_result"
        }
      ],
      "source": [
        "#Number of tags for post\n",
        "number_of_tags_for_post = tags[\"Id\"].value_counts()\n",
        "print(\"Post     #tags\")\n",
        "number_of_tags_for_post"
      ]
    },
    {
      "cell_type": "code",
      "execution_count": null,
      "metadata": {
        "colab": {
          "base_uri": "https://localhost:8080/",
          "height": 284
        },
        "id": "kGqbH65N70B9",
        "outputId": "140c7f9f-5207-4876-ffef-9d85dad27fa5"
      },
      "outputs": [
        {
          "data": {
            "text/plain": [
              "<matplotlib.axes._subplots.AxesSubplot at 0x7f38a1283310>"
            ]
          },
          "execution_count": 28,
          "metadata": {},
          "output_type": "execute_result"
        },
        {
          "data": {
            "image/png": "[encoded data removed]",
            "text/plain": [
              "<Figure size 432x288 with 1 Axes>"
            ]
          },
          "metadata": {},
          "output_type": "display_data"
        }
      ],
      "source": [
        "#Distribution of number of tags\n",
        "number_of_tags_for_post.hist()"
      ]
    },
    {
      "cell_type": "code",
      "execution_count": null,
      "metadata": {
        "colab": {
          "base_uri": "https://localhost:8080/"
        },
        "id": "InKl0Ru19ilk",
        "outputId": "ee1f9056-0840-4a75-80fc-0058ac46d26a"
      },
      "outputs": [
        {
          "data": {
            "text/plain": [
              "javascript           124155\n",
              "java                 115212\n",
              "c#                   101186\n",
              "php                   98808\n",
              "android               90659\n",
              "                      ...  \n",
              "testcasesource            1\n",
              "google-floodlight         1\n",
              "iecapt                    1\n",
              "netfs                     1\n",
              "docker-windows            1\n",
              "Name: Tag, Length: 37034, dtype: int64"
            ]
          },
          "execution_count": 29,
          "metadata": {},
          "output_type": "execute_result"
        }
      ],
      "source": [
        "#Number of tags for post\n",
        "tags_used = tags[\"Tag\"].value_counts()\n",
        "tags_used"
      ]
    },
    {
      "cell_type": "code",
      "execution_count": null,
      "metadata": {
        "colab": {
          "base_uri": "https://localhost:8080/"
        },
        "id": "BJAHeGyPrI3i",
        "outputId": "23822828-b930-4ba7-86b6-93db8121214f"
      },
      "outputs": [
        {
          "data": {
            "text/plain": [
              "14177"
            ]
          },
          "execution_count": 30,
          "metadata": {},
          "output_type": "execute_result"
        }
      ],
      "source": [
        "counter = 0\n",
        "for i in tags_used:\n",
        "  if i > 10:\n",
        "    counter+=1\n",
        "counter"
      ]
    },
    {
      "cell_type": "code",
      "execution_count": null,
      "metadata": {
        "colab": {
          "base_uri": "https://localhost:8080/"
        },
        "id": "e0pGmlDf-QvZ",
        "outputId": "0f2895fe-4ce4-41ed-cada-33c8321f67a3"
      },
      "outputs": [
        {
          "name": "stdout",
          "output_type": "stream",
          "text": [
            "#occurrences #tags\n"
          ]
        },
        {
          "data": {
            "text/plain": [
              "1       6427\n",
              "2       4148\n",
              "3       2989\n",
              "4       2245\n",
              "5       1697\n",
              "        ... \n",
              "1143       1\n",
              "1139       1\n",
              "1137       1\n",
              "1136       1\n",
              "671        1\n",
              "Name: Tag, Length: 1193, dtype: int64"
            ]
          },
          "execution_count": 31,
          "metadata": {},
          "output_type": "execute_result"
        }
      ],
      "source": [
        "#How many tags appear a certain number of times\n",
        "print(\"#occurrences #tags\")\n",
        "occ_tags = tags_used.value_counts()\n",
        "occ_tags"
      ]
    },
    {
      "cell_type": "code",
      "execution_count": null,
      "metadata": {
        "colab": {
          "base_uri": "https://localhost:8080/"
        },
        "id": "LTMq1mah8-nC",
        "outputId": "3e99df29-d995-4928-9b8d-62bcc7c6bd27"
      },
      "outputs": [
        {
          "data": {
            "text/plain": [
              "(-123.155, 6208.7]      36973\n",
              "(6208.7, 12416.4]          29\n",
              "(12416.4, 18624.1]         11\n",
              "(18624.1, 24831.8]          5\n",
              "(24831.8, 31039.5]          3\n",
              "(37247.2, 43454.9]          2\n",
              "(43454.9, 49662.6]          2\n",
              "(74493.4, 80701.1]          1\n",
              "(111739.6, 117947.3]        1\n",
              "(99324.2, 105531.9]         1\n",
              "(93116.5, 99324.2]          1\n",
              "(86908.8, 93116.5]          1\n",
              "(62078.0, 68285.7]          1\n",
              "(55870.3, 62078.0]          1\n",
              "(31039.5, 37247.2]          1\n",
              "(117947.3, 124155.0]        1\n",
              "(80701.1, 86908.8]          0\n",
              "(68285.7, 74493.4]          0\n",
              "(49662.6, 55870.3]          0\n",
              "(105531.9, 111739.6]        0\n",
              "Name: Tag, dtype: int64"
            ]
          },
          "execution_count": 32,
          "metadata": {},
          "output_type": "execute_result"
        }
      ],
      "source": [
        "#distribution of how many tags appear a certain number of times\n",
        "tags_used_groups = tags_used.value_counts(bins=20)\n",
        "tags_used_groups"
      ]
    },
    {
      "cell_type": "markdown",
      "metadata": {
        "id": "rxw8aRjTWf9w"
      },
      "source": [
        "# Preprocessing"
      ]
    },
    {
      "cell_type": "markdown",
      "metadata": {
        "id": "KAinZNvHGmmo"
      },
      "source": [
        "*As* shown in the next cell, the body of the questions have a lot of things that I have to elaborate in the preprocessing phase: HTML tags, punctuation, stop words, URLs and programming code. Right now I think I will remove HTML tags, punctuation and stop words. Programming code can be handled by CodeBERT, so I will leave it there. Still unsure what to do with URLs. "
      ]
    },
    {
      "cell_type": "code",
      "execution_count": 5,
      "metadata": {
        "colab": {
          "base_uri": "https://localhost:8080/"
        },
        "id": "c2UUCjgl4ndC",
        "outputId": "506550a5-2b7b-4d4e-b0ec-adfb5ba4f277"
      },
      "outputs": [
        {
          "output_type": "stream",
          "name": "stdout",
          "text": [
            "[nltk_data] Downloading package stopwords to /root/nltk_data...\n",
            "[nltk_data]   Unzipping corpora/stopwords.zip.\n"
          ]
        }
      ],
      "source": [
        "import re\n",
        "from bs4 import BeautifulSoup as soup\n",
        "import nltk\n",
        "nltk.download('stopwords')\n",
        "from nltk.corpus import stopwords\n",
        "import string"
      ]
    },
    {
      "cell_type": "code",
      "execution_count": 6,
      "metadata": {
        "colab": {
          "base_uri": "https://localhost:8080/",
          "height": 127
        },
        "id": "YATZAFvBFR02",
        "outputId": "1f77e75a-3164-4388-8e61-834efc60d9b3"
      },
      "outputs": [
        {
          "output_type": "execute_result",
          "data": {
            "application/vnd.google.colaboratory.intrinsic+json": {
              "type": "string"
            },
            "text/plain": [
              "'<p>I\\'ve written a database generation script in <a href=\"http://en.wikipedia.org/wiki/SQL\">SQL</a> and want to execute it in my <a href=\"http://en.wikipedia.org/wiki/Adobe_Integrated_Runtime\">Adobe AIR</a> application:</p>\\n\\n<pre><code>Create Table tRole (\\n      roleID integer Primary Key\\n      ,roleName varchar(40)\\n);\\nCreate Table tFile (\\n    fileID integer Primary Key\\n    ,fileName varchar(50)\\n    ,fileDescription varchar(500)\\n    ,thumbnailID integer\\n    ,fileFormatID integer\\n    ,categoryID integer\\n    ,isFavorite boolean\\n    ,dateAdded date\\n    ,globalAccessCount integer\\n    ,lastAccessTime date\\n    ,downloadComplete boolean\\n    ,isNew boolean\\n    ,isSpotlight boolean\\n    ,duration varchar(30)\\n);\\nCreate Table tCategory (\\n    categoryID integer Primary Key\\n    ,categoryName varchar(50)\\n    ,parent_categoryID integer\\n);\\n...\\n</code></pre>\\n\\n<p>I execute this in Adobe AIR using the following methods:</p>\\n\\n<pre><code>public static function RunSqlFromFile(fileName:String):void {\\n    var file:File = File.applicationDirectory.resolvePath(fileName);\\n    var stream:FileStream = new FileStream();\\n    stream.open(file, FileMode.READ)\\n    var strSql:String = stream.readUTFBytes(stream.bytesAvailable);\\n    NonQuery(strSql);\\n}\\n\\npublic static function NonQuery(strSQL:String):void\\n{\\n    var sqlConnection:SQLConnection = new SQLConnection();\\n    sqlConnection.open(File.applicationStorageDirectory.resolvePath(DBPATH);\\n    var sqlStatement:SQLStatement = new SQLStatement();\\n    sqlStatement.text = strSQL;\\n    sqlStatement.sqlConnection = sqlConnection;\\n    try\\n    {\\n        sqlStatement.execute();\\n    }\\n    catch (error:SQLError)\\n    {\\n        Alert.show(error.toString());\\n    }\\n}\\n</code></pre>\\n\\n<p>No errors are generated, however only <code>tRole</code> exists. It seems that it only looks at the first query (up to the semicolon- if I remove it, the query fails). Is there a way to call multiple queries in one statement?</p>\\n'"
            ]
          },
          "metadata": {},
          "execution_count": 6
        }
      ],
      "source": [
        "q = questions[\"Body\"].iloc[0]\n",
        "q"
      ]
    },
    {
      "cell_type": "code",
      "execution_count": 7,
      "metadata": {
        "id": "aQn-C3y14OcC"
      },
      "outputs": [],
      "source": [
        "def cleanpunc(sentence): \n",
        "    no_punct = sentence.translate(str.maketrans('', '', string.punctuation))\n",
        "    return  no_punct"
      ]
    },
    {
      "cell_type": "code",
      "execution_count": 8,
      "metadata": {
        "id": "JcP2XtWi4l1a"
      },
      "outputs": [],
      "source": [
        "def decontracted(phrase):\n",
        "    # specific\n",
        "    phrase = re.sub(r\"won't\", \"will not\", phrase)\n",
        "    phrase = re.sub(r\"can\\'t\", \"can not\", phrase)\n",
        "\n",
        "    # general\n",
        "    phrase = re.sub(r\"n\\'t\", \" not\", phrase)\n",
        "    phrase = re.sub(r\"\\'re\", \" are\", phrase)\n",
        "    phrase = re.sub(r\"\\'s\", \" is\", phrase)\n",
        "    phrase = re.sub(r\"\\'d\", \" would\", phrase)\n",
        "    phrase = re.sub(r\"\\'ll\", \" will\", phrase)\n",
        "    phrase = re.sub(r\"\\'t\", \" not\", phrase)\n",
        "    phrase = re.sub(r\"\\'ve\", \" have\", phrase)\n",
        "    phrase = re.sub(r\"\\'m\", \" am\", phrase)\n",
        "    phrase = re.sub(r\"\\n\", \" \", phrase)\n",
        "    return phrase"
      ]
    },
    {
      "cell_type": "code",
      "execution_count": 9,
      "metadata": {
        "colab": {
          "base_uri": "https://localhost:8080/"
        },
        "id": "0YMCznUT5PTR",
        "outputId": "c7ad06bb-25b6-47a3-c198-c07353cf9c76"
      },
      "outputs": [
        {
          "output_type": "stream",
          "name": "stdout",
          "text": [
            "list of stop words: {\"wouldn't\", 'it', 'is', 'most', 'and', 'o', 't', 'not', 'through', 'i', 'when', 'only', 'some', 'its', 'whom', 'yourself', 'before', \"haven't\", 'your', 'yourselves', 'hers', 'into', 'himself', 'am', \"you'd\", 'them', 'does', 'now', 'hasn', 'for', 'herself', 'as', 'ain', 'there', 're', 'on', 'over', 'during', 'shan', 'doing', 'out', 'again', \"doesn't\", 'him', 'between', 'we', 'off', 'what', \"you'll\", \"aren't\", 'my', 'y', 'me', 'about', \"needn't\", \"shan't\", 'an', 'with', \"isn't\", 'theirs', 'from', \"that'll\", 'themselves', 'doesn', 've', 'own', \"it's\", 'her', 'll', 'those', 'can', 'you', 'below', 'at', \"hadn't\", 'being', 'in', 'why', 'the', 'then', 'too', 'm', 'd', 'myself', \"mightn't\", 'have', 'shouldn', 'or', 'very', 'so', 'should', \"weren't\", 'any', 'same', 'itself', 'was', 'been', 'won', 'ma', 'than', 'aren', \"didn't\", 'be', \"should've\", 'don', 'all', 'which', 'do', 'under', 'ourselves', 'didn', 'our', 'because', \"couldn't\", 'that', 'wouldn', 'up', 'while', 'mustn', 'he', 'after', 'by', 'if', 'where', 'once', 'down', 'few', 'are', 'will', 'had', 'each', 'mightn', 's', 'nor', 'wasn', 'of', 'such', 'they', 'his', \"don't\", 'to', 'yours', 'more', 'here', 'ours', 'other', \"won't\", 'how', 'weren', 'has', 'couldn', \"wasn't\", \"you're\", 'did', 'against', 'hadn', 'no', 'haven', 'until', \"she's\", 'a', 'but', 'their', \"shouldn't\", 'she', 'needn', \"you've\", 'both', 'isn', 'just', \"hasn't\", \"mustn't\", 'this', 'further', 'were', 'above', 'who', 'having', 'these'}\n"
          ]
        }
      ],
      "source": [
        "stop_words = set(stopwords.words('english'))\n",
        "print ('list of stop words:', stop_words)\n",
        "\n",
        "def clean_stop_words(total_text):\n",
        "    if type(total_text) is not int:\n",
        "        string = \"\"\n",
        "        for word in total_text.split():\n",
        "            if not word in stop_words:\n",
        "                string += word + \" \"\n",
        "        return string  "
      ]
    },
    {
      "cell_type": "code",
      "execution_count": 26,
      "metadata": {
        "id": "mgb-nStZFVoy"
      },
      "outputs": [],
      "source": [
        "def preprocessing_operations(text):\n",
        "  splitted_text_code = re.split('<pre><code>|</code></pre>', text)\n",
        "  res = []\n",
        "  for idx, text in enumerate(splitted_text_code):\n",
        "    if idx%2 == 0:\n",
        "      no_html = soup(text, \"lxml\").text\n",
        "      no_punctuation = cleanpunc(no_html)\n",
        "      no_contractions = decontracted(no_punctuation)\n",
        "      no_stopwords = clean_stop_words(no_contractions)\n",
        "      res.append(no_stopwords)\n",
        "    else:\n",
        "      res.append(text)\n",
        "  return res\n",
        "\n",
        "def preprocess_data(data):\n",
        "  cleaned_text = []\n",
        "  if type(data)==type(\"string\"):\n",
        "    cleaned_text = preprocessing_operations(data)\n",
        "  else:\n",
        "    body = data[\"Body\"]\n",
        "    for q in body:\n",
        "      cleaned_text.append(preprocessing_operations(q))\n",
        "  return cleaned_text"
      ]
    },
    {
      "cell_type": "code",
      "execution_count": 28,
      "metadata": {
        "colab": {
          "base_uri": "https://localhost:8080/"
        },
        "id": "DDiVsqeiG-qA",
        "outputId": "e08f1fe7-752b-48e2-a112-8de47aed0ab2"
      },
      "outputs": [
        {
          "output_type": "execute_result",
          "data": {
            "text/plain": [
              "['Ive written database generation script SQL want execute Adobe AIR application ',\n",
              " 'Create Table tRole (\\n      roleID integer Primary Key\\n      ,roleName varchar(40)\\n);\\nCreate Table tFile (\\n    fileID integer Primary Key\\n    ,fileName varchar(50)\\n    ,fileDescription varchar(500)\\n    ,thumbnailID integer\\n    ,fileFormatID integer\\n    ,categoryID integer\\n    ,isFavorite boolean\\n    ,dateAdded date\\n    ,globalAccessCount integer\\n    ,lastAccessTime date\\n    ,downloadComplete boolean\\n    ,isNew boolean\\n    ,isSpotlight boolean\\n    ,duration varchar(30)\\n);\\nCreate Table tCategory (\\n    categoryID integer Primary Key\\n    ,categoryName varchar(50)\\n    ,parent_categoryID integer\\n);\\n...\\n',\n",
              " 'I execute Adobe AIR using following methods ',\n",
              " 'public static function RunSqlFromFile(fileName:String):void {\\n    var file:File = File.applicationDirectory.resolvePath(fileName);\\n    var stream:FileStream = new FileStream();\\n    stream.open(file, FileMode.READ)\\n    var strSql:String = stream.readUTFBytes(stream.bytesAvailable);\\n    NonQuery(strSql);\\n}\\n\\npublic static function NonQuery(strSQL:String):void\\n{\\n    var sqlConnection:SQLConnection = new SQLConnection();\\n    sqlConnection.open(File.applicationStorageDirectory.resolvePath(DBPATH);\\n    var sqlStatement:SQLStatement = new SQLStatement();\\n    sqlStatement.text = strSQL;\\n    sqlStatement.sqlConnection = sqlConnection;\\n    try\\n    {\\n        sqlStatement.execute();\\n    }\\n    catch (error:SQLError)\\n    {\\n        Alert.show(error.toString());\\n    }\\n}\\n',\n",
              " 'No errors generated however tRole exists It seems looks first query semicolon I remove query fails Is way call multiple queries one statement ']"
            ]
          },
          "metadata": {},
          "execution_count": 28
        }
      ],
      "source": [
        "cleaned_data = preprocess_data(questions.iloc[0].Body)\n",
        "cleaned_data"
      ]
    },
    {
      "cell_type": "markdown",
      "metadata": {
        "id": "j6drfPZBqbFI"
      },
      "source": [
        "# Embeddings"
      ]
    },
    {
      "cell_type": "code",
      "execution_count": 16,
      "metadata": {
        "colab": {
          "base_uri": "https://localhost:8080/",
          "height": 1000
        },
        "id": "52I4frUGu5_Q",
        "outputId": "99b1d48e-754d-4fb0-95e5-dcda1476420c"
      },
      "outputs": [
        {
          "output_type": "stream",
          "name": "stdout",
          "text": [
            "Collecting transformers\n",
            "  Downloading transformers-4.16.2-py3-none-any.whl (3.5 MB)\n",
            "\u001b[K     |████████████████████████████████| 3.5 MB 21.7 MB/s \n",
            "\u001b[?25hCollecting pytorch-lightning\n",
            "  Downloading pytorch_lightning-1.5.9-py3-none-any.whl (527 kB)\n",
            "\u001b[K     |████████████████████████████████| 527 kB 41.3 MB/s \n",
            "\u001b[?25hRequirement already satisfied: requests in /usr/local/lib/python3.7/dist-packages (from transformers) (2.23.0)\n",
            "Collecting sacremoses\n",
            "  Downloading sacremoses-0.0.47-py2.py3-none-any.whl (895 kB)\n",
            "\u001b[K     |████████████████████████████████| 895 kB 35.2 MB/s \n",
            "\u001b[?25hRequirement already satisfied: importlib-metadata in /usr/local/lib/python3.7/dist-packages (from transformers) (4.10.1)\n",
            "Requirement already satisfied: packaging>=20.0 in /usr/local/lib/python3.7/dist-packages (from transformers) (21.3)\n",
            "Collecting huggingface-hub<1.0,>=0.1.0\n",
            "  Downloading huggingface_hub-0.4.0-py3-none-any.whl (67 kB)\n",
            "\u001b[K     |████████████████████████████████| 67 kB 3.6 MB/s \n",
            "\u001b[?25hRequirement already satisfied: pyyaml>=5.1 in /usr/local/lib/python3.7/dist-packages (from transformers) (6.0)\n",
            "Requirement already satisfied: tqdm>=4.27 in /usr/local/lib/python3.7/dist-packages (from transformers) (4.62.3)\n",
            "Requirement already satisfied: numpy>=1.17 in /usr/local/lib/python3.7/dist-packages (from transformers) (1.19.5)\n",
            "Collecting tokenizers!=0.11.3,>=0.10.1\n",
            "  Downloading tokenizers-0.11.4-cp37-cp37m-manylinux_2_12_x86_64.manylinux2010_x86_64.whl (6.8 MB)\n",
            "\u001b[K     |████████████████████████████████| 6.8 MB 47.5 MB/s \n",
            "\u001b[?25hRequirement already satisfied: regex!=2019.12.17 in /usr/local/lib/python3.7/dist-packages (from transformers) (2019.12.20)\n",
            "Requirement already satisfied: filelock in /usr/local/lib/python3.7/dist-packages (from transformers) (3.4.2)\n",
            "Requirement already satisfied: typing-extensions>=3.7.4.3 in /usr/local/lib/python3.7/dist-packages (from huggingface-hub<1.0,>=0.1.0->transformers) (3.10.0.2)\n",
            "Requirement already satisfied: pyparsing!=3.0.5,>=2.0.2 in /usr/local/lib/python3.7/dist-packages (from packaging>=20.0->transformers) (3.0.7)\n",
            "Collecting future>=0.17.1\n",
            "  Downloading future-0.18.2.tar.gz (829 kB)\n",
            "\u001b[K     |████████████████████████████████| 829 kB 46.9 MB/s \n",
            "\u001b[?25hCollecting fsspec[http]!=2021.06.0,>=2021.05.0\n",
            "  Downloading fsspec-2022.1.0-py3-none-any.whl (133 kB)\n",
            "\u001b[K     |████████████████████████████████| 133 kB 54.7 MB/s \n",
            "\u001b[?25hCollecting pyDeprecate==0.3.1\n",
            "  Downloading pyDeprecate-0.3.1-py3-none-any.whl (10 kB)\n",
            "Collecting setuptools==59.5.0\n",
            "  Downloading setuptools-59.5.0-py3-none-any.whl (952 kB)\n",
            "\u001b[K     |████████████████████████████████| 952 kB 40.3 MB/s \n",
            "\u001b[?25hRequirement already satisfied: torch>=1.7.* in /usr/local/lib/python3.7/dist-packages (from pytorch-lightning) (1.10.0+cu111)\n",
            "Collecting torchmetrics>=0.4.1\n",
            "  Downloading torchmetrics-0.7.1-py3-none-any.whl (397 kB)\n",
            "\u001b[K     |████████████████████████████████| 397 kB 57.1 MB/s \n",
            "\u001b[?25hRequirement already satisfied: tensorboard>=2.2.0 in /usr/local/lib/python3.7/dist-packages (from pytorch-lightning) (2.7.0)\n",
            "Requirement already satisfied: aiohttp in /usr/local/lib/python3.7/dist-packages (from fsspec[http]!=2021.06.0,>=2021.05.0->pytorch-lightning) (3.8.1)\n",
            "Requirement already satisfied: protobuf>=3.6.0 in /usr/local/lib/python3.7/dist-packages (from tensorboard>=2.2.0->pytorch-lightning) (3.17.3)\n",
            "Requirement already satisfied: google-auth-oauthlib<0.5,>=0.4.1 in /usr/local/lib/python3.7/dist-packages (from tensorboard>=2.2.0->pytorch-lightning) (0.4.6)\n",
            "Requirement already satisfied: markdown>=2.6.8 in /usr/local/lib/python3.7/dist-packages (from tensorboard>=2.2.0->pytorch-lightning) (3.3.6)\n",
            "Requirement already satisfied: tensorboard-plugin-wit>=1.6.0 in /usr/local/lib/python3.7/dist-packages (from tensorboard>=2.2.0->pytorch-lightning) (1.8.1)\n",
            "Requirement already satisfied: werkzeug>=0.11.15 in /usr/local/lib/python3.7/dist-packages (from tensorboard>=2.2.0->pytorch-lightning) (1.0.1)\n",
            "Requirement already satisfied: wheel>=0.26 in /usr/local/lib/python3.7/dist-packages (from tensorboard>=2.2.0->pytorch-lightning) (0.37.1)\n",
            "Requirement already satisfied: tensorboard-data-server<0.7.0,>=0.6.0 in /usr/local/lib/python3.7/dist-packages (from tensorboard>=2.2.0->pytorch-lightning) (0.6.1)\n",
            "Requirement already satisfied: grpcio>=1.24.3 in /usr/local/lib/python3.7/dist-packages (from tensorboard>=2.2.0->pytorch-lightning) (1.43.0)\n",
            "Requirement already satisfied: google-auth<3,>=1.6.3 in /usr/local/lib/python3.7/dist-packages (from tensorboard>=2.2.0->pytorch-lightning) (1.35.0)\n",
            "Requirement already satisfied: absl-py>=0.4 in /usr/local/lib/python3.7/dist-packages (from tensorboard>=2.2.0->pytorch-lightning) (1.0.0)\n",
            "Requirement already satisfied: six in /usr/local/lib/python3.7/dist-packages (from absl-py>=0.4->tensorboard>=2.2.0->pytorch-lightning) (1.15.0)\n",
            "Requirement already satisfied: rsa<5,>=3.1.4 in /usr/local/lib/python3.7/dist-packages (from google-auth<3,>=1.6.3->tensorboard>=2.2.0->pytorch-lightning) (4.8)\n",
            "Requirement already satisfied: pyasn1-modules>=0.2.1 in /usr/local/lib/python3.7/dist-packages (from google-auth<3,>=1.6.3->tensorboard>=2.2.0->pytorch-lightning) (0.2.8)\n",
            "Requirement already satisfied: cachetools<5.0,>=2.0.0 in /usr/local/lib/python3.7/dist-packages (from google-auth<3,>=1.6.3->tensorboard>=2.2.0->pytorch-lightning) (4.2.4)\n",
            "Requirement already satisfied: requests-oauthlib>=0.7.0 in /usr/local/lib/python3.7/dist-packages (from google-auth-oauthlib<0.5,>=0.4.1->tensorboard>=2.2.0->pytorch-lightning) (1.3.1)\n",
            "Requirement already satisfied: zipp>=0.5 in /usr/local/lib/python3.7/dist-packages (from importlib-metadata->transformers) (3.7.0)\n",
            "Requirement already satisfied: pyasn1<0.5.0,>=0.4.6 in /usr/local/lib/python3.7/dist-packages (from pyasn1-modules>=0.2.1->google-auth<3,>=1.6.3->tensorboard>=2.2.0->pytorch-lightning) (0.4.8)\n",
            "Requirement already satisfied: idna<3,>=2.5 in /usr/local/lib/python3.7/dist-packages (from requests->transformers) (2.10)\n",
            "Requirement already satisfied: certifi>=2017.4.17 in /usr/local/lib/python3.7/dist-packages (from requests->transformers) (2021.10.8)\n",
            "Requirement already satisfied: urllib3!=1.25.0,!=1.25.1,<1.26,>=1.21.1 in /usr/local/lib/python3.7/dist-packages (from requests->transformers) (1.24.3)\n",
            "Requirement already satisfied: chardet<4,>=3.0.2 in /usr/local/lib/python3.7/dist-packages (from requests->transformers) (3.0.4)\n",
            "Requirement already satisfied: oauthlib>=3.0.0 in /usr/local/lib/python3.7/dist-packages (from requests-oauthlib>=0.7.0->google-auth-oauthlib<0.5,>=0.4.1->tensorboard>=2.2.0->pytorch-lightning) (3.2.0)\n",
            "Requirement already satisfied: async-timeout<5.0,>=4.0.0a3 in /usr/local/lib/python3.7/dist-packages (from aiohttp->fsspec[http]!=2021.06.0,>=2021.05.0->pytorch-lightning) (4.0.2)\n",
            "Requirement already satisfied: aiosignal>=1.1.2 in /usr/local/lib/python3.7/dist-packages (from aiohttp->fsspec[http]!=2021.06.0,>=2021.05.0->pytorch-lightning) (1.2.0)\n",
            "Requirement already satisfied: frozenlist>=1.1.1 in /usr/local/lib/python3.7/dist-packages (from aiohttp->fsspec[http]!=2021.06.0,>=2021.05.0->pytorch-lightning) (1.3.0)\n",
            "Requirement already satisfied: attrs>=17.3.0 in /usr/local/lib/python3.7/dist-packages (from aiohttp->fsspec[http]!=2021.06.0,>=2021.05.0->pytorch-lightning) (21.4.0)\n",
            "Requirement already satisfied: charset-normalizer<3.0,>=2.0 in /usr/local/lib/python3.7/dist-packages (from aiohttp->fsspec[http]!=2021.06.0,>=2021.05.0->pytorch-lightning) (2.0.11)\n",
            "Requirement already satisfied: yarl<2.0,>=1.0 in /usr/local/lib/python3.7/dist-packages (from aiohttp->fsspec[http]!=2021.06.0,>=2021.05.0->pytorch-lightning) (1.7.2)\n",
            "Requirement already satisfied: asynctest==0.13.0 in /usr/local/lib/python3.7/dist-packages (from aiohttp->fsspec[http]!=2021.06.0,>=2021.05.0->pytorch-lightning) (0.13.0)\n",
            "Requirement already satisfied: multidict<7.0,>=4.5 in /usr/local/lib/python3.7/dist-packages (from aiohttp->fsspec[http]!=2021.06.0,>=2021.05.0->pytorch-lightning) (6.0.2)\n",
            "Requirement already satisfied: joblib in /usr/local/lib/python3.7/dist-packages (from sacremoses->transformers) (1.1.0)\n",
            "Requirement already satisfied: click in /usr/local/lib/python3.7/dist-packages (from sacremoses->transformers) (7.1.2)\n",
            "Building wheels for collected packages: future\n",
            "  Building wheel for future (setup.py) ... \u001b[?25l\u001b[?25hdone\n",
            "  Created wheel for future: filename=future-0.18.2-py3-none-any.whl size=491070 sha256=8776320064749e3ade39f098ba1742a015ee64eccdeae17f6bfb5572845f3dcc\n",
            "  Stored in directory: /root/.cache/pip/wheels/56/b0/fe/4410d17b32f1f0c3cf54cdfb2bc04d7b4b8f4ae377e2229ba0\n",
            "Successfully built future\n",
            "Installing collected packages: setuptools, pyDeprecate, fsspec, torchmetrics, tokenizers, sacremoses, huggingface-hub, future, transformers, pytorch-lightning\n",
            "  Attempting uninstall: setuptools\n",
            "    Found existing installation: setuptools 57.4.0\n",
            "    Uninstalling setuptools-57.4.0:\n",
            "      Successfully uninstalled setuptools-57.4.0\n",
            "  Attempting uninstall: future\n",
            "    Found existing installation: future 0.16.0\n",
            "    Uninstalling future-0.16.0:\n",
            "      Successfully uninstalled future-0.16.0\n",
            "\u001b[31mERROR: pip's dependency resolver does not currently take into account all the packages that are installed. This behaviour is the source of the following dependency conflicts.\n",
            "datascience 0.10.6 requires folium==0.2.1, but you have folium 0.8.3 which is incompatible.\u001b[0m\n",
            "Successfully installed fsspec-2022.1.0 future-0.18.2 huggingface-hub-0.4.0 pyDeprecate-0.3.1 pytorch-lightning-1.5.9 sacremoses-0.0.47 setuptools-59.5.0 tokenizers-0.11.4 torchmetrics-0.7.1 transformers-4.16.2\n"
          ]
        },
        {
          "output_type": "display_data",
          "data": {
            "application/vnd.colab-display-data+json": {
              "pip_warning": {
                "packages": [
                  "pkg_resources"
                ]
              }
            }
          },
          "metadata": {}
        }
      ],
      "source": [
        "! pip install \"transformers\" \"pytorch-lightning\" "
      ]
    },
    {
      "cell_type": "code",
      "execution_count": 17,
      "metadata": {
        "id": "0bif-D0NqnPx"
      },
      "outputs": [],
      "source": [
        "from transformers import AutoTokenizer, AutoModel\n",
        "import torch\n",
        "import torch.nn as nn\n",
        "from __future__ import division\n",
        "from math import ceil\n",
        "import numpy as np"
      ]
    },
    {
      "cell_type": "code",
      "execution_count": null,
      "metadata": {
        "colab": {
          "base_uri": "https://localhost:8080/",
          "height": 209,
          "referenced_widgets": [
            "fadf7ac84f5d4149a42edf7527d0c678",
            "d07158ba5a7f49ad8e120c26fb749a3b",
            "484db91e95194a94bfdf85bedb578ef3",
            "90295732ed6441da8fe837fad47e3b61",
            "5d0b9ff2e12f44bebf4a69094b765d38",
            "b11b4512e30a4ff0b097adbf13bdc926",
            "8b5044fe6256405dafd4877f14881065",
            "d805a3fc1a634174a2ecce3add05efe9",
            "901e99d1a7b049f2b3ce2d1f4edc7ceb",
            "cf4e82c21b384007860aa6f96a0207c7",
            "187304662c844d67986dcf9dc227f60b",
            "de8b8245af2b48cab019629eac70e0ef",
            "50df123f948c42cf9924da3a7810937e",
            "cbd9b9c7de4248aca4d52ce788902b7f",
            "95b8442ce0db4c1c8ec0c07a7e765826",
            "4ed0fa19b1154083905e0c53da7d60ba",
            "a5f96191b6c940ef98abd1d2b553f00d",
            "7006bf2b1c4245109481a80052576dc2",
            "77e4af6b8afe42c2b7be1d1e09d6d1f0",
            "b55d9742113a4856a0e2d6863b0fb113",
            "e66382b6fd7b4cc7af23eac200e7117d",
            "46d2ff6a427f49a9a7440a38d5756a93",
            "c5b3cb7f77534f5b83159e2dd5715c09",
            "028655d3cc914015b781714df46c0c1d",
            "bdaf5c15ed474afdb631642677be1ed0",
            "748f9a932d03414595ae1ecbc9f50c1e",
            "f7a6c7c35f884fbbafbad01e487f9421",
            "8197fbc3e56e4b178dfa85bd27ddc35a",
            "407db2891884482193b53fcee8675b31",
            "8f9c0e6927334906a7fa3d84350ad819",
            "b558a5ea8127496884241bd6822df090",
            "cf9cca59bd6a475b9581162d7ec41914",
            "53027007adc14d3cb46ef3c9d4395abd",
            "a2b5fcd4188b4d6c877eddd7a23a299a",
            "3b8f0ba6c09f458c94b521ef37666435",
            "a92cf552b2074a3fa0caaa73e6991ca8",
            "129f3b71990747e5b4cf35d44f102aba",
            "63ed558143ea47298339391a4464467f",
            "54298edde0f443539ea9e7f68085e561",
            "f3c72816c43c4e62a373f14b7caf0a0b",
            "ab1de527c8b6479ea23513205d0c9a58",
            "e02d8b685e974d508462e69e17678df8",
            "244273e962354509b4a2ae85c762e47e",
            "1ce35395cd2149c297a0f19631028ee2",
            "89d639f64a0a440fa37d436079f7170a",
            "17c2eae398544da4b7ae8d87a8cdd554",
            "9522bb1290914955a41b882b7e93e501",
            "4a80634ac6e84071bc4668f4ca8b5073",
            "e4d98f308fe14a39872876bea76f0a69",
            "a4ec76d198e447cca1b422938653d2e5",
            "4d2e76b343314308a3379a306d735952",
            "f0ba6004f8c84c799eff4a907a892f02",
            "ec03da40ffaa4c46b2e438c82a308e97",
            "0887608cf874457d97c12af349927ec3",
            "7b0374d1e5cf453fb46b2480e3262a24",
            "9d86b2c6805241959231da0059f66913",
            "1a618c734f4c4f9495920f177ec33a6e",
            "92a40daef9bc41959fcb1a2c6443c60f",
            "1698f62049d34bdc8e705c7c02d08067",
            "9d225748230842838a8e2e0003ef077e",
            "f3c44b6cd8fc4ea4bbc2a8ca650728d1",
            "49d584eeb79d4fddb53101761481b73f",
            "aca3ce6a120e4d0d8e3ce5dd1ccccee6",
            "c32fb7952f7e480f8e2897a0ec67e969",
            "1b13e775292f4a2380fd253198e9c2a9",
            "630f4a088661410db122af1dce30da4f"
          ]
        },
        "id": "BafdYq6yWlEj",
        "outputId": "22bcd1a3-d80f-4a5e-89fc-7ed30196c9c7"
      },
      "outputs": [
        {
          "data": {
            "application/vnd.jupyter.widget-view+json": {
              "model_id": "fadf7ac84f5d4149a42edf7527d0c678",
              "version_major": 2,
              "version_minor": 0
            },
            "text/plain": [
              "Downloading:   0%|          | 0.00/25.0 [00:00<?, ?B/s]"
            ]
          },
          "metadata": {},
          "output_type": "display_data"
        },
        {
          "data": {
            "application/vnd.jupyter.widget-view+json": {
              "model_id": "de8b8245af2b48cab019629eac70e0ef",
              "version_major": 2,
              "version_minor": 0
            },
            "text/plain": [
              "Downloading:   0%|          | 0.00/498 [00:00<?, ?B/s]"
            ]
          },
          "metadata": {},
          "output_type": "display_data"
        },
        {
          "data": {
            "application/vnd.jupyter.widget-view+json": {
              "model_id": "c5b3cb7f77534f5b83159e2dd5715c09",
              "version_major": 2,
              "version_minor": 0
            },
            "text/plain": [
              "Downloading:   0%|          | 0.00/878k [00:00<?, ?B/s]"
            ]
          },
          "metadata": {},
          "output_type": "display_data"
        },
        {
          "data": {
            "application/vnd.jupyter.widget-view+json": {
              "model_id": "a2b5fcd4188b4d6c877eddd7a23a299a",
              "version_major": 2,
              "version_minor": 0
            },
            "text/plain": [
              "Downloading:   0%|          | 0.00/446k [00:00<?, ?B/s]"
            ]
          },
          "metadata": {},
          "output_type": "display_data"
        },
        {
          "data": {
            "application/vnd.jupyter.widget-view+json": {
              "model_id": "89d639f64a0a440fa37d436079f7170a",
              "version_major": 2,
              "version_minor": 0
            },
            "text/plain": [
              "Downloading:   0%|          | 0.00/150 [00:00<?, ?B/s]"
            ]
          },
          "metadata": {},
          "output_type": "display_data"
        },
        {
          "data": {
            "application/vnd.jupyter.widget-view+json": {
              "model_id": "9d86b2c6805241959231da0059f66913",
              "version_major": 2,
              "version_minor": 0
            },
            "text/plain": [
              "Downloading:   0%|          | 0.00/476M [00:00<?, ?B/s]"
            ]
          },
          "metadata": {},
          "output_type": "display_data"
        }
      ],
      "source": [
        "tokenizer = AutoTokenizer.from_pretrained(\"microsoft/codebert-base\")\n",
        "model = AutoModel.from_pretrained(\"microsoft/codebert-base\")"
      ]
    },
    {
      "cell_type": "code",
      "execution_count": null,
      "metadata": {
        "colab": {
          "base_uri": "https://localhost:8080/"
        },
        "id": "Tf4c7_Z57z_n",
        "outputId": "d63fc258-9f19-49a3-e348-7c09e4c65226"
      },
      "outputs": [
        {
          "name": "stdout",
          "output_type": "stream",
          "text": [
            "536\n"
          ]
        }
      ],
      "source": [
        "#does not work for multiple questions -> if any(isinstance(x, list) for x in my_list) or auxiliary function\n",
        "tokens = [tokenizer.cls_token]\n",
        "for l in cleaned_data: \n",
        "  code_tokens=tokenizer.tokenize(l)\n",
        "  tokens += code_tokens\n",
        "  tokens += [tokenizer.sep_token]\n",
        "tokens_ids=tokenizer.convert_tokens_to_ids(tokens)\n",
        "print(len(tokens_ids))"
      ]
    },
    {
      "cell_type": "markdown",
      "metadata": {
        "id": "piUtOfu_f5rH"
      },
      "source": [
        "The authors of CodeBert set the MAX_LENGTH for the sentences to 512(+2) so, if the input vector is too big, I can not compute the embeddings -> two possible solutions (https://github.com/microsoft/CodeBERT/issues/16):\n",
        "\n",
        "*   use an RNN over k representations to obtain a final embedding;\n",
        "*   take the average of the representations (https://towardsdatascience.com/how-to-do-average-and-max-word-embedding-for-long-sentences-f3531e99d998)\n",
        "\n",
        "To use the cosine distance we need vectors that have same length ->there are two ways to obtain a representation for the texts of the same length:\n",
        "\n",
        "*   use the [CLS] token;\n",
        "*   use the average of the vectors\n",
        "\n",
        "\n"
      ]
    },
    {
      "cell_type": "code",
      "execution_count": null,
      "metadata": {
        "id": "hgqy3_O8TDlw"
      },
      "outputs": [],
      "source": [
        "try:  \n",
        "  context_embeddings = model(torch.tensor(tokens_ids)[None,:])[0]\n",
        "except:\n",
        "  k = ceil(len(tokens_ids) / 512.0)\n",
        "  chunks = np.array_split(tokens_ids, k)\n",
        "  context_embeddings_list = model(torch.tensor(chunks[0])[None,:])[0]\n",
        "  for i in range(1, len(chunks)):\n",
        "    context_embeddings_list = torch.cat((context_embeddings_list, model(torch.tensor(chunks[i])[None,:])[0]), 1)\n",
        "  #print(context_embeddings_list.shape)\n",
        "  dim = context_embeddings_list.shape[-1]\n",
        "  rnn = nn.RNN(dim, dim, 2) #number of hidden states = dimension of CodeBert's output, 2 layers\n",
        "  output, hn = rnn(context_embeddings_list)"
      ]
    },
    {
      "cell_type": "code",
      "execution_count": null,
      "metadata": {
        "colab": {
          "base_uri": "https://localhost:8080/"
        },
        "id": "MfoW1qhm8pfz",
        "outputId": "e69796bb-7229-4245-acc0-c6a4ac6f7054"
      },
      "outputs": [
        {
          "data": {
            "text/plain": [
              "torch.Size([1, 536, 768])"
            ]
          },
          "execution_count": 162,
          "metadata": {},
          "output_type": "execute_result"
        }
      ],
      "source": [
        "output.shape"
      ]
    },
    {
      "cell_type": "code",
      "execution_count": null,
      "metadata": {
        "colab": {
          "base_uri": "https://localhost:8080/"
        },
        "id": "a1y_aVrYsgwi",
        "outputId": "6ed79129-fbb9-44fe-a840-e87c9061b997"
      },
      "outputs": [
        {
          "data": {
            "text/plain": [
              "tensor([[[-0.1009,  0.3443,  0.0520,  ..., -0.0903,  0.1054, -0.0304],\n",
              "         [-0.3266,  0.3464,  0.0668,  ...,  0.0048,  0.2402, -0.1957],\n",
              "         [-0.2972,  0.4416, -0.0330,  ..., -0.0142,  0.2404, -0.0562],\n",
              "         ...,\n",
              "         [-0.2346,  0.4400, -0.0064,  ..., -0.0689,  0.2165, -0.0461],\n",
              "         [-0.1530,  0.4739,  0.0492,  ..., -0.0366,  0.0913, -0.1430],\n",
              "         [-0.1070,  0.3558,  0.0387,  ..., -0.0990,  0.1035, -0.0421]]],\n",
              "       grad_fn=<StackBackward0>)"
            ]
          },
          "execution_count": 163,
          "metadata": {},
          "output_type": "execute_result"
        }
      ],
      "source": [
        "output"
      ]
    },
    {
      "cell_type": "markdown",
      "metadata": {
        "id": "wus1mVOuh710"
      },
      "source": [
        "# Jina"
      ]
    },
    {
      "cell_type": "code",
      "execution_count": 12,
      "metadata": {
        "colab": {
          "base_uri": "https://localhost:8080/"
        },
        "id": "T95C16q5jmWT",
        "outputId": "4b4f0d73-f436-4fae-95ea-2c510cc57f8e"
      },
      "outputs": [
        {
          "output_type": "stream",
          "name": "stdout",
          "text": [
            "Collecting jina\n",
            "  Downloading jina-2.6.4.tar.gz (864 kB)\n",
            "\u001b[?25l\r\u001b[K     |▍                               | 10 kB 21.0 MB/s eta 0:00:01\r\u001b[K     |▊                               | 20 kB 26.8 MB/s eta 0:00:01\r\u001b[K     |█▏                              | 30 kB 32.7 MB/s eta 0:00:01\r\u001b[K     |█▌                              | 40 kB 35.9 MB/s eta 0:00:01\r\u001b[K     |██                              | 51 kB 39.5 MB/s eta 0:00:01\r\u001b[K     |██▎                             | 61 kB 32.8 MB/s eta 0:00:01\r\u001b[K     |██▋                             | 71 kB 25.6 MB/s eta 0:00:01\r\u001b[K     |███                             | 81 kB 23.0 MB/s eta 0:00:01\r\u001b[K     |███▍                            | 92 kB 24.6 MB/s eta 0:00:01\r\u001b[K     |███▉                            | 102 kB 26.5 MB/s eta 0:00:01\r\u001b[K     |████▏                           | 112 kB 26.5 MB/s eta 0:00:01\r\u001b[K     |████▌                           | 122 kB 26.5 MB/s eta 0:00:01\r\u001b[K     |█████                           | 133 kB 26.5 MB/s eta 0:00:01\r\u001b[K     |█████▎                          | 143 kB 26.5 MB/s eta 0:00:01\r\u001b[K     |█████▊                          | 153 kB 26.5 MB/s eta 0:00:01\r\u001b[K     |██████                          | 163 kB 26.5 MB/s eta 0:00:01\r\u001b[K     |██████▍                         | 174 kB 26.5 MB/s eta 0:00:01\r\u001b[K     |██████▉                         | 184 kB 26.5 MB/s eta 0:00:01\r\u001b[K     |███████▏                        | 194 kB 26.5 MB/s eta 0:00:01\r\u001b[K     |███████▋                        | 204 kB 26.5 MB/s eta 0:00:01\r\u001b[K     |████████                        | 215 kB 26.5 MB/s eta 0:00:01\r\u001b[K     |████████▍                       | 225 kB 26.5 MB/s eta 0:00:01\r\u001b[K     |████████▊                       | 235 kB 26.5 MB/s eta 0:00:01\r\u001b[K     |█████████                       | 245 kB 26.5 MB/s eta 0:00:01\r\u001b[K     |█████████▌                      | 256 kB 26.5 MB/s eta 0:00:01\r\u001b[K     |█████████▉                      | 266 kB 26.5 MB/s eta 0:00:01\r\u001b[K     |██████████▎                     | 276 kB 26.5 MB/s eta 0:00:01\r\u001b[K     |██████████▋                     | 286 kB 26.5 MB/s eta 0:00:01\r\u001b[K     |███████████                     | 296 kB 26.5 MB/s eta 0:00:01\r\u001b[K     |███████████▍                    | 307 kB 26.5 MB/s eta 0:00:01\r\u001b[K     |███████████▊                    | 317 kB 26.5 MB/s eta 0:00:01\r\u001b[K     |████████████▏                   | 327 kB 26.5 MB/s eta 0:00:01\r\u001b[K     |████████████▌                   | 337 kB 26.5 MB/s eta 0:00:01\r\u001b[K     |████████████▉                   | 348 kB 26.5 MB/s eta 0:00:01\r\u001b[K     |█████████████▎                  | 358 kB 26.5 MB/s eta 0:00:01\r\u001b[K     |█████████████▋                  | 368 kB 26.5 MB/s eta 0:00:01\r\u001b[K     |██████████████                  | 378 kB 26.5 MB/s eta 0:00:01\r\u001b[K     |██████████████▍                 | 389 kB 26.5 MB/s eta 0:00:01\r\u001b[K     |██████████████▉                 | 399 kB 26.5 MB/s eta 0:00:01\r\u001b[K     |███████████████▏                | 409 kB 26.5 MB/s eta 0:00:01\r\u001b[K     |███████████████▌                | 419 kB 26.5 MB/s eta 0:00:01\r\u001b[K     |████████████████                | 430 kB 26.5 MB/s eta 0:00:01\r\u001b[K     |████████████████▎               | 440 kB 26.5 MB/s eta 0:00:01\r\u001b[K     |████████████████▊               | 450 kB 26.5 MB/s eta 0:00:01\r\u001b[K     |█████████████████               | 460 kB 26.5 MB/s eta 0:00:01\r\u001b[K     |█████████████████▍              | 471 kB 26.5 MB/s eta 0:00:01\r\u001b[K     |█████████████████▉              | 481 kB 26.5 MB/s eta 0:00:01\r\u001b[K     |██████████████████▏             | 491 kB 26.5 MB/s eta 0:00:01\r\u001b[K     |██████████████████▋             | 501 kB 26.5 MB/s eta 0:00:01\r\u001b[K     |███████████████████             | 512 kB 26.5 MB/s eta 0:00:01\r\u001b[K     |███████████████████▎            | 522 kB 26.5 MB/s eta 0:00:01\r\u001b[K     |███████████████████▊            | 532 kB 26.5 MB/s eta 0:00:01\r\u001b[K     |████████████████████            | 542 kB 26.5 MB/s eta 0:00:01\r\u001b[K     |████████████████████▌           | 552 kB 26.5 MB/s eta 0:00:01\r\u001b[K     |████████████████████▉           | 563 kB 26.5 MB/s eta 0:00:01\r\u001b[K     |█████████████████████▎          | 573 kB 26.5 MB/s eta 0:00:01\r\u001b[K     |█████████████████████▋          | 583 kB 26.5 MB/s eta 0:00:01\r\u001b[K     |██████████████████████          | 593 kB 26.5 MB/s eta 0:00:01\r\u001b[K     |██████████████████████▍         | 604 kB 26.5 MB/s eta 0:00:01\r\u001b[K     |██████████████████████▊         | 614 kB 26.5 MB/s eta 0:00:01\r\u001b[K     |███████████████████████▏        | 624 kB 26.5 MB/s eta 0:00:01\r\u001b[K     |███████████████████████▌        | 634 kB 26.5 MB/s eta 0:00:01\r\u001b[K     |███████████████████████▉        | 645 kB 26.5 MB/s eta 0:00:01\r\u001b[K     |████████████████████████▎       | 655 kB 26.5 MB/s eta 0:00:01\r\u001b[K     |████████████████████████▋       | 665 kB 26.5 MB/s eta 0:00:01\r\u001b[K     |█████████████████████████       | 675 kB 26.5 MB/s eta 0:00:01\r\u001b[K     |█████████████████████████▍      | 686 kB 26.5 MB/s eta 0:00:01\r\u001b[K     |█████████████████████████▊      | 696 kB 26.5 MB/s eta 0:00:01\r\u001b[K     |██████████████████████████▏     | 706 kB 26.5 MB/s eta 0:00:01\r\u001b[K     |██████████████████████████▌     | 716 kB 26.5 MB/s eta 0:00:01\r\u001b[K     |███████████████████████████     | 727 kB 26.5 MB/s eta 0:00:01\r\u001b[K     |███████████████████████████▎    | 737 kB 26.5 MB/s eta 0:00:01\r\u001b[K     |███████████████████████████▊    | 747 kB 26.5 MB/s eta 0:00:01\r\u001b[K     |████████████████████████████    | 757 kB 26.5 MB/s eta 0:00:01\r\u001b[K     |████████████████████████████▍   | 768 kB 26.5 MB/s eta 0:00:01\r\u001b[K     |████████████████████████████▉   | 778 kB 26.5 MB/s eta 0:00:01\r\u001b[K     |█████████████████████████████▏  | 788 kB 26.5 MB/s eta 0:00:01\r\u001b[K     |█████████████████████████████▋  | 798 kB 26.5 MB/s eta 0:00:01\r\u001b[K     |██████████████████████████████  | 808 kB 26.5 MB/s eta 0:00:01\r\u001b[K     |██████████████████████████████▎ | 819 kB 26.5 MB/s eta 0:00:01\r\u001b[K     |██████████████████████████████▊ | 829 kB 26.5 MB/s eta 0:00:01\r\u001b[K     |███████████████████████████████ | 839 kB 26.5 MB/s eta 0:00:01\r\u001b[K     |███████████████████████████████▌| 849 kB 26.5 MB/s eta 0:00:01\r\u001b[K     |███████████████████████████████▉| 860 kB 26.5 MB/s eta 0:00:01\r\u001b[K     |████████████████████████████████| 864 kB 26.5 MB/s \n",
            "\u001b[?25hRequirement already satisfied: pyzmq>=17.1.0 in /usr/local/lib/python3.7/dist-packages (from jina) (22.3.0)\n",
            "Requirement already satisfied: grpcio>=1.33.1 in /usr/local/lib/python3.7/dist-packages (from jina) (1.43.0)\n",
            "Collecting pyyaml>=5.3.1\n",
            "  Downloading PyYAML-6.0-cp37-cp37m-manylinux_2_5_x86_64.manylinux1_x86_64.manylinux_2_12_x86_64.manylinux2010_x86_64.whl (596 kB)\n",
            "\u001b[K     |████████████████████████████████| 596 kB 36.3 MB/s \n",
            "\u001b[?25hCollecting fastapi\n",
            "  Downloading fastapi-0.73.0-py3-none-any.whl (52 kB)\n",
            "\u001b[K     |████████████████████████████████| 52 kB 791 kB/s \n",
            "\u001b[?25hCollecting docker\n",
            "  Downloading docker-5.0.3-py2.py3-none-any.whl (146 kB)\n",
            "\u001b[K     |████████████████████████████████| 146 kB 55.2 MB/s \n",
            "\u001b[?25hCollecting uvicorn[standard]>=0.14.0\n",
            "  Downloading uvicorn-0.17.4-py3-none-any.whl (52 kB)\n",
            "\u001b[K     |████████████████████████████████| 52 kB 1.1 MB/s \n",
            "\u001b[?25hCollecting kubernetes>=18.20.0\n",
            "  Downloading kubernetes-21.7.0-py2.py3-none-any.whl (1.8 MB)\n",
            "\u001b[K     |████████████████████████████████| 1.8 MB 49.0 MB/s \n",
            "\u001b[?25hRequirement already satisfied: filelock in /usr/local/lib/python3.7/dist-packages (from jina) (3.4.2)\n",
            "Collecting pydantic\n",
            "  Downloading pydantic-1.9.0-cp37-cp37m-manylinux_2_17_x86_64.manylinux2014_x86_64.whl (10.9 MB)\n",
            "\u001b[K     |████████████████████████████████| 10.9 MB 56.3 MB/s \n",
            "\u001b[?25hCollecting websockets\n",
            "  Downloading websockets-10.1-cp37-cp37m-manylinux_2_5_x86_64.manylinux1_x86_64.manylinux_2_12_x86_64.manylinux2010_x86_64.whl (111 kB)\n",
            "\u001b[K     |████████████████████████████████| 111 kB 54.7 MB/s \n",
            "\u001b[?25hCollecting python-multipart\n",
            "  Downloading python-multipart-0.0.5.tar.gz (32 kB)\n",
            "Requirement already satisfied: requests in /usr/local/lib/python3.7/dist-packages (from jina) (2.23.0)\n",
            "Requirement already satisfied: numpy in /usr/local/lib/python3.7/dist-packages (from jina) (1.19.5)\n",
            "Collecting aiohttp\n",
            "  Downloading aiohttp-3.8.1-cp37-cp37m-manylinux_2_5_x86_64.manylinux1_x86_64.manylinux_2_12_x86_64.manylinux2010_x86_64.whl (1.1 MB)\n",
            "\u001b[K     |████████████████████████████████| 1.1 MB 46.1 MB/s \n",
            "\u001b[?25hCollecting cryptography\n",
            "  Downloading cryptography-36.0.1-cp36-abi3-manylinux_2_24_x86_64.whl (3.6 MB)\n",
            "\u001b[K     |████████████████████████████████| 3.6 MB 46.3 MB/s \n",
            "\u001b[?25hCollecting rich\n",
            "  Downloading rich-11.1.0-py3-none-any.whl (216 kB)\n",
            "\u001b[K     |████████████████████████████████| 216 kB 49.0 MB/s \n",
            "\u001b[?25hCollecting aiofiles\n",
            "  Downloading aiofiles-0.8.0-py3-none-any.whl (13 kB)\n",
            "Collecting uvloop\n",
            "  Downloading uvloop-0.16.0-cp37-cp37m-manylinux_2_12_x86_64.manylinux2010_x86_64.whl (3.8 MB)\n",
            "\u001b[K     |████████████████████████████████| 3.8 MB 55.3 MB/s \n",
            "\u001b[?25hRequirement already satisfied: protobuf>=3.13.0 in /usr/local/lib/python3.7/dist-packages (from jina) (3.17.3)\n",
            "Collecting lz4<3.1.2\n",
            "  Downloading lz4-3.1.1-cp37-cp37m-manylinux2010_x86_64.whl (1.8 MB)\n",
            "\u001b[K     |████████████████████████████████| 1.8 MB 46.5 MB/s \n",
            "\u001b[?25hCollecting pathspec\n",
            "  Downloading pathspec-0.9.0-py2.py3-none-any.whl (31 kB)\n",
            "Requirement already satisfied: tornado>=5.1.0 in /usr/local/lib/python3.7/dist-packages (from jina) (5.1.1)\n",
            "Collecting aiostream\n",
            "  Downloading aiostream-0.4.4.tar.gz (32 kB)\n",
            "Requirement already satisfied: six>=1.5.2 in /usr/local/lib/python3.7/dist-packages (from grpcio>=1.33.1->jina) (1.15.0)\n",
            "Requirement already satisfied: google-auth>=1.0.1 in /usr/local/lib/python3.7/dist-packages (from kubernetes>=18.20.0->jina) (1.35.0)\n",
            "Requirement already satisfied: certifi>=14.05.14 in /usr/local/lib/python3.7/dist-packages (from kubernetes>=18.20.0->jina) (2021.10.8)\n",
            "Collecting websocket-client!=0.40.0,!=0.41.*,!=0.42.*,>=0.32.0\n",
            "  Downloading websocket_client-1.2.3-py3-none-any.whl (53 kB)\n",
            "\u001b[K     |████████████████████████████████| 53 kB 1.6 MB/s \n",
            "\u001b[?25hRequirement already satisfied: requests-oauthlib in /usr/local/lib/python3.7/dist-packages (from kubernetes>=18.20.0->jina) (1.3.1)\n",
            "Requirement already satisfied: setuptools>=21.0.0 in /usr/local/lib/python3.7/dist-packages (from kubernetes>=18.20.0->jina) (57.4.0)\n",
            "Requirement already satisfied: python-dateutil>=2.5.3 in /usr/local/lib/python3.7/dist-packages (from kubernetes>=18.20.0->jina) (2.8.2)\n",
            "Requirement already satisfied: urllib3>=1.24.2 in /usr/local/lib/python3.7/dist-packages (from kubernetes>=18.20.0->jina) (1.24.3)\n",
            "Requirement already satisfied: rsa<5,>=3.1.4 in /usr/local/lib/python3.7/dist-packages (from google-auth>=1.0.1->kubernetes>=18.20.0->jina) (4.8)\n",
            "Requirement already satisfied: pyasn1-modules>=0.2.1 in /usr/local/lib/python3.7/dist-packages (from google-auth>=1.0.1->kubernetes>=18.20.0->jina) (0.2.8)\n",
            "Requirement already satisfied: cachetools<5.0,>=2.0.0 in /usr/local/lib/python3.7/dist-packages (from google-auth>=1.0.1->kubernetes>=18.20.0->jina) (4.2.4)\n",
            "Requirement already satisfied: pyasn1<0.5.0,>=0.4.6 in /usr/local/lib/python3.7/dist-packages (from pyasn1-modules>=0.2.1->google-auth>=1.0.1->kubernetes>=18.20.0->jina) (0.4.8)\n",
            "Collecting asgiref>=3.4.0\n",
            "  Downloading asgiref-3.5.0-py3-none-any.whl (22 kB)\n",
            "Requirement already satisfied: click>=7.0 in /usr/local/lib/python3.7/dist-packages (from uvicorn[standard]>=0.14.0->jina) (7.1.2)\n",
            "Collecting h11>=0.8\n",
            "  Downloading h11-0.13.0-py3-none-any.whl (58 kB)\n",
            "\u001b[K     |████████████████████████████████| 58 kB 5.3 MB/s \n",
            "\u001b[?25hRequirement already satisfied: typing-extensions in /usr/local/lib/python3.7/dist-packages (from uvicorn[standard]>=0.14.0->jina) (3.10.0.2)\n",
            "Collecting watchgod>=0.6\n",
            "  Downloading watchgod-0.7-py3-none-any.whl (11 kB)\n",
            "Collecting httptools<0.4.0,>=0.2.0\n",
            "  Downloading httptools-0.3.0-cp37-cp37m-manylinux_2_5_x86_64.manylinux1_x86_64.manylinux_2_12_x86_64.manylinux2010_x86_64.whl (402 kB)\n",
            "\u001b[K     |████████████████████████████████| 402 kB 53.4 MB/s \n",
            "\u001b[?25hCollecting python-dotenv>=0.13\n",
            "  Downloading python_dotenv-0.19.2-py2.py3-none-any.whl (17 kB)\n",
            "Collecting frozenlist>=1.1.1\n",
            "  Downloading frozenlist-1.3.0-cp37-cp37m-manylinux_2_5_x86_64.manylinux1_x86_64.manylinux_2_17_x86_64.manylinux2014_x86_64.whl (144 kB)\n",
            "\u001b[K     |████████████████████████████████| 144 kB 64.9 MB/s \n",
            "\u001b[?25hCollecting multidict<7.0,>=4.5\n",
            "  Downloading multidict-6.0.2-cp37-cp37m-manylinux_2_17_x86_64.manylinux2014_x86_64.whl (94 kB)\n",
            "\u001b[K     |████████████████████████████████| 94 kB 3.5 MB/s \n",
            "\u001b[?25hCollecting asynctest==0.13.0\n",
            "  Downloading asynctest-0.13.0-py3-none-any.whl (26 kB)\n",
            "Collecting async-timeout<5.0,>=4.0.0a3\n",
            "  Downloading async_timeout-4.0.2-py3-none-any.whl (5.8 kB)\n",
            "Collecting yarl<2.0,>=1.0\n",
            "  Downloading yarl-1.7.2-cp37-cp37m-manylinux_2_5_x86_64.manylinux1_x86_64.manylinux_2_12_x86_64.manylinux2010_x86_64.whl (271 kB)\n",
            "\u001b[K     |████████████████████████████████| 271 kB 73.5 MB/s \n",
            "\u001b[?25hRequirement already satisfied: charset-normalizer<3.0,>=2.0 in /usr/local/lib/python3.7/dist-packages (from aiohttp->jina) (2.0.11)\n",
            "Collecting aiosignal>=1.1.2\n",
            "  Downloading aiosignal-1.2.0-py3-none-any.whl (8.2 kB)\n",
            "Requirement already satisfied: attrs>=17.3.0 in /usr/local/lib/python3.7/dist-packages (from aiohttp->jina) (21.4.0)\n",
            "Requirement already satisfied: idna>=2.0 in /usr/local/lib/python3.7/dist-packages (from yarl<2.0,>=1.0->aiohttp->jina) (2.10)\n",
            "Requirement already satisfied: cffi>=1.12 in /usr/local/lib/python3.7/dist-packages (from cryptography->jina) (1.15.0)\n",
            "Requirement already satisfied: pycparser in /usr/local/lib/python3.7/dist-packages (from cffi>=1.12->cryptography->jina) (2.21)\n",
            "Requirement already satisfied: chardet<4,>=3.0.2 in /usr/local/lib/python3.7/dist-packages (from requests->jina) (3.0.4)\n",
            "Collecting starlette==0.17.1\n",
            "  Downloading starlette-0.17.1-py3-none-any.whl (58 kB)\n",
            "\u001b[K     |████████████████████████████████| 58 kB 6.0 MB/s \n",
            "\u001b[?25hCollecting anyio<4,>=3.0.0\n",
            "  Downloading anyio-3.5.0-py3-none-any.whl (79 kB)\n",
            "\u001b[K     |████████████████████████████████| 79 kB 7.7 MB/s \n",
            "\u001b[?25hCollecting sniffio>=1.1\n",
            "  Downloading sniffio-1.2.0-py3-none-any.whl (10 kB)\n",
            "Requirement already satisfied: oauthlib>=3.0.0 in /usr/local/lib/python3.7/dist-packages (from requests-oauthlib->kubernetes>=18.20.0->jina) (3.2.0)\n",
            "Requirement already satisfied: pygments<3.0.0,>=2.6.0 in /usr/local/lib/python3.7/dist-packages (from rich->jina) (2.6.1)\n",
            "Collecting commonmark<0.10.0,>=0.9.0\n",
            "  Downloading commonmark-0.9.1-py2.py3-none-any.whl (51 kB)\n",
            "\u001b[K     |████████████████████████████████| 51 kB 6.1 MB/s \n",
            "\u001b[?25hCollecting colorama<0.5.0,>=0.4.0\n",
            "  Downloading colorama-0.4.4-py2.py3-none-any.whl (16 kB)\n",
            "Building wheels for collected packages: jina, aiostream, python-multipart\n",
            "  Building wheel for jina (setup.py) ... \u001b[?25l\u001b[?25hdone\n",
            "  Created wheel for jina: filename=jina-2.6.4-py3-none-any.whl size=966764 sha256=62deb29d8aef6175ce4ae6dd3e2c12c81ddc3216ef3cfb24c188e8422ec0cb9e\n",
            "  Stored in directory: /root/.cache/pip/wheels/47/12/25/20bdf398b555a3c698b4974c6bc613878b8fab0f7863775b83\n",
            "  Building wheel for aiostream (setup.py) ... \u001b[?25l\u001b[?25hdone\n",
            "  Created wheel for aiostream: filename=aiostream-0.4.4-py3-none-any.whl size=35648 sha256=d92e5252b0c9f1b0f304c3c63c886af34cf0865cc95e4379a23c0f3175a3b902\n",
            "  Stored in directory: /root/.cache/pip/wheels/4f/21/19/0141f098b792ee743e77c609bc0d42e7742b1f66db58f56cd9\n",
            "  Building wheel for python-multipart (setup.py) ... \u001b[?25l\u001b[?25hdone\n",
            "  Created wheel for python-multipart: filename=python_multipart-0.0.5-py3-none-any.whl size=31678 sha256=6bbdc64cfdbc5d50aab76e5746bf4475355f4e7eb682a5e3b2caf28a8816a725\n",
            "  Stored in directory: /root/.cache/pip/wheels/2c/41/7c/bfd1c180534ffdcc0972f78c5758f89881602175d48a8bcd2c\n",
            "Successfully built jina aiostream python-multipart\n",
            "Installing collected packages: sniffio, multidict, h11, frozenlist, asgiref, anyio, yarl, websockets, websocket-client, watchgod, uvloop, uvicorn, starlette, pyyaml, python-dotenv, pydantic, httptools, commonmark, colorama, asynctest, async-timeout, aiosignal, rich, python-multipart, pathspec, lz4, kubernetes, fastapi, docker, cryptography, aiostream, aiohttp, aiofiles, jina\n",
            "  Attempting uninstall: pyyaml\n",
            "    Found existing installation: PyYAML 3.13\n",
            "    Uninstalling PyYAML-3.13:\n",
            "      Successfully uninstalled PyYAML-3.13\n",
            "Successfully installed aiofiles-0.8.0 aiohttp-3.8.1 aiosignal-1.2.0 aiostream-0.4.4 anyio-3.5.0 asgiref-3.5.0 async-timeout-4.0.2 asynctest-0.13.0 colorama-0.4.4 commonmark-0.9.1 cryptography-36.0.1 docker-5.0.3 fastapi-0.73.0 frozenlist-1.3.0 h11-0.13.0 httptools-0.3.0 jina-2.6.4 kubernetes-21.7.0 lz4-3.1.1 multidict-6.0.2 pathspec-0.9.0 pydantic-1.9.0 python-dotenv-0.19.2 python-multipart-0.0.5 pyyaml-6.0 rich-11.1.0 sniffio-1.2.0 starlette-0.17.1 uvicorn-0.17.4 uvloop-0.16.0 watchgod-0.7 websocket-client-1.2.3 websockets-10.1 yarl-1.7.2\n"
          ]
        }
      ],
      "source": [
        "!pip install jina\n",
        "#! pip install docarray"
      ]
    },
    {
      "cell_type": "code",
      "execution_count": 13,
      "metadata": {
        "id": "A-pkSLM8jKWv"
      },
      "outputs": [],
      "source": [
        "#import docarray import load_csv\n",
        "from jina import Flow, Executor, requests, Document, DocumentArray, DocumentArrayMemmap"
      ]
    },
    {
      "cell_type": "code",
      "execution_count": 91,
      "metadata": {
        "id": "b2TY3cvPj9FC"
      },
      "outputs": [],
      "source": [
        "class MyTransformer(Executor):\n",
        "    \"\"\"Transformer executor class \"\"\"\n",
        "\n",
        "    def __init__(\n",
        "            self,\n",
        "            pretrained_model_name_or_path: str = \"microsoft/codebert-base\",\n",
        "            device: str = 'cpu',\n",
        "            *args,\n",
        "            **kwargs,\n",
        "    ):\n",
        "        super().__init__(*args, **kwargs)\n",
        "        self.tokenizer = AutoTokenizer.from_pretrained(pretrained_model_name_or_path)\n",
        "        self.model = AutoModel.from_pretrained(pretrained_model_name_or_path)\n",
        "\n",
        "    def compute_embedding(self,tokens_ids):\n",
        "      try:  \n",
        "        context_embeddings = self.model(torch.tensor(tokens_ids)[None,:])[0]\n",
        "      except:\n",
        "        k = ceil(len(tokens_ids) / 512.0)\n",
        "        chunks = np.array_split(tokens_ids, k)\n",
        "        context_embeddings_list = self.model(torch.tensor(chunks[0])[None,:])[0]\n",
        "        for i in range(1, len(chunks)):\n",
        "          context_embeddings_list = torch.cat((context_embeddings_list, self.model(torch.tensor(chunks[i])[None,:])[0]), 1)\n",
        "        dim = context_embeddings_list.shape[-1]\n",
        "        rnn = nn.RNN(dim, dim, 2) #number of hidden states = dimension of CodeBert's output, 2 layers\n",
        "        context_embeddings, hn = rnn(context_embeddings_list)\n",
        "      #compute the average of the vectors\n",
        "      avg_embeddings = torch.mean(context_embeddings,1)[0]\n",
        "      return avg_embeddings\n",
        "\n",
        "    @requests\n",
        "    def encode(self, docs: 'DocumentArray', *args, **kwargs):\n",
        "        tokens = [self.tokenizer.cls_token]\n",
        "        texts = docs.get_attributes(\"text\")\n",
        "        for idx, q in enumerate(texts): \n",
        "          cleaned_q = preprocess_data(q)\n",
        "          tokens = [self.tokenizer.cls_token]\n",
        "          for l in cleaned_q:\n",
        "            code_tokens = self.tokenizer.tokenize(l)\n",
        "            tokens += code_tokens\n",
        "            tokens += [self.tokenizer.sep_token]\n",
        "          tokens_ids = self.tokenizer.convert_tokens_to_ids(tokens)\n",
        "          docs[idx].embedding = self.compute_embedding(tokens_ids)"
      ]
    },
    {
      "cell_type": "code",
      "source": [
        "docArray = DocumentArray([Document(id = questions.iloc[0].Id, text=questions.iloc[0].Body),\n",
        "                          Document(id=questions.iloc[1].Id, text=questions.iloc[1].Body),\n",
        "                          Document(id=questions.iloc[2].Id, text=questions.iloc[2].Body)])\n",
        "\n",
        "e = MyTransformer()\n",
        "e.encode(docArray)\n",
        "docArray"
      ],
      "metadata": {
        "colab": {
          "base_uri": "https://localhost:8080/"
        },
        "id": "V2Ou9dBdvjbN",
        "outputId": "f5024094-07cd-40b3-cf08-90e733f68365"
      },
      "execution_count": 92,
      "outputs": [
        {
          "output_type": "execute_result",
          "data": {
            "text/plain": [
              "<docarray.array.document.DocumentArray (length=3) at 140151451791120>"
            ]
          },
          "metadata": {},
          "execution_count": 92
        }
      ]
    },
    {
      "cell_type": "code",
      "source": [
        "# for d in docArray:\n",
        "#   print(\"Document id: {}\\nembedding: {} with size: {}\".format(d.id, d.embedding, d.embedding.shape))"
      ],
      "metadata": {
        "id": "cveEQNwvARBO"
      },
      "execution_count": null,
      "outputs": []
    },
    {
      "cell_type": "code",
      "source": [
        "docArray.plot_embeddings()"
      ],
      "metadata": {
        "id": "WDJrw1wye9-4"
      },
      "execution_count": null,
      "outputs": []
    },
    {
      "cell_type": "code",
      "execution_count": 101,
      "metadata": {
        "id": "mP9i-aWYkBK3"
      },
      "outputs": [],
      "source": [
        "class MyIndexer(Executor):\n",
        "    \"\"\"Simple indexer class \"\"\"\n",
        "\n",
        "    def __init__(self, **kwargs):\n",
        "        super().__init__(**kwargs)\n",
        "        self._docs = DocumentArrayMemmap() \n",
        "\n",
        "    @requests(on='/index')\n",
        "    def index(self, docs: DocumentArray, **kwargs):\n",
        "        self._docs.extend(docs)\n",
        "\n",
        "    def print_matches(self, docs):\n",
        "      for d in docs:\n",
        "        print(\"Query: {}\".format(d.text))\n",
        "        for i, r in enumerate(d.matches):\n",
        "          print(\"{}th result: {} with values: {}\".format(i+1, d.id, r.scores['cosine'].value))\n",
        "\n",
        "    @requests(on='/search')\n",
        "    def search(self, docs: DocumentArray, **kwargs):\n",
        "        \"\"\"Append best matches to each document in docs\"\"\"\n",
        "        print(self._docs)\n",
        "        docs.match(self._docs, metric='cosine', normalization=(1, 0), limit=1, only_id=True) #device=\"cuda\"\n",
        "        self.print_matches(docs)\n",
        "\n",
        "    def print_index(self):\n",
        "      for d in self._docs:\n",
        "        print(\"Document id: {}\\nembedding: {} of shape: {}\".format(d.id, d.embedding, d.embedding.shape))"
      ]
    },
    {
      "cell_type": "code",
      "source": [
        "i = MyIndexer()\n",
        "i.index(docArray) \n",
        "#i.print_index()\n",
        "i.search(docArray)"
      ],
      "metadata": {
        "id": "yMRX8KLq71fO"
      },
      "execution_count": null,
      "outputs": []
    },
    {
      "cell_type": "code",
      "execution_count": null,
      "metadata": {
        "id": "PRws9l2ZkObO"
      },
      "outputs": [],
      "source": [
        "flow = (\n",
        "        Flow(cors=True)\n",
        "            .add(name='MyTransformer', uses=MyTransformer)\n",
        "            .add(name='MyIndexer', uses=MyIndexer)\n",
        "    )"
      ]
    },
    {
      "cell_type": "code",
      "execution_count": null,
      "metadata": {
        "id": "pCgdQx04h-Zp"
      },
      "outputs": [],
      "source": [
        "with flow, open(\"/content/drive/MyDrive/Data Mining/Project/Questions.csv\", encoding=\"ISO-8859-1\") as fp:\n",
        "    docs = flow.index(DocumentArray.from_csv(fp, field_resolver={'Id': 'Body'}),show_progress=True)\n",
        "    flow.encode(docs)\n",
        "    flow.search(\"sql\")\n",
        "    #print(docs)"
      ]
    }
  ],
  "metadata": {
    "colab": {
      "collapsed_sections": [
        "0RbtMSoV-U_0"
      ],
      "name": "DM_project.ipynb",
      "toc_visible": true,
      "provenance": [],
      "authorship_tag": "ABX9TyMT/fmO1d6/0ynxptPPhZYU",
      "include_colab_link": true
    },
    "kernelspec": {
      "display_name": "Python 3",
      "name": "python3"
    },
    "language_info": {
      "name": "python"
    },
    "widgets": {
      "application/vnd.jupyter.widget-state+json": {
        "028655d3cc914015b781714df46c0c1d": {
          "model_module": "@jupyter-widgets/controls",
          "model_module_version": "1.5.0",
          "model_name": "HTMLModel",
          "state": {
            "_dom_classes": [],
            "_model_module": "@jupyter-widgets/controls",
            "_model_module_version": "1.5.0",
            "_model_name": "HTMLModel",
            "_view_count": null,
            "_view_module": "@jupyter-widgets/controls",
            "_view_module_version": "1.5.0",
            "_view_name": "HTMLView",
            "description": "",
            "description_tooltip": null,
            "layout": "IPY_MODEL_8197fbc3e56e4b178dfa85bd27ddc35a",
            "placeholder": "​",
            "style": "IPY_MODEL_407db2891884482193b53fcee8675b31",
            "value": "Downloading: 100%"
          }
        },
        "0887608cf874457d97c12af349927ec3": {
          "model_module": "@jupyter-widgets/base",
          "model_module_version": "1.2.0",
          "model_name": "LayoutModel",
          "state": {
            "_model_module": "@jupyter-widgets/base",
            "_model_module_version": "1.2.0",
            "_model_name": "LayoutModel",
            "_view_count": null,
            "_view_module": "@jupyter-widgets/base",
            "_view_module_version": "1.2.0",
            "_view_name": "LayoutView",
            "align_content": null,
            "align_items": null,
            "align_self": null,
            "border": null,
            "bottom": null,
            "display": null,
            "flex": null,
            "flex_flow": null,
            "grid_area": null,
            "grid_auto_columns": null,
            "grid_auto_flow": null,
            "grid_auto_rows": null,
            "grid_column": null,
            "grid_gap": null,
            "grid_row": null,
            "grid_template_areas": null,
            "grid_template_columns": null,
            "grid_template_rows": null,
            "height": null,
            "justify_content": null,
            "justify_items": null,
            "left": null,
            "margin": null,
            "max_height": null,
            "max_width": null,
            "min_height": null,
            "min_width": null,
            "object_fit": null,
            "object_position": null,
            "order": null,
            "overflow": null,
            "overflow_x": null,
            "overflow_y": null,
            "padding": null,
            "right": null,
            "top": null,
            "visibility": null,
            "width": null
          }
        },
        "129f3b71990747e5b4cf35d44f102aba": {
          "model_module": "@jupyter-widgets/controls",
          "model_module_version": "1.5.0",
          "model_name": "HTMLModel",
          "state": {
            "_dom_classes": [],
            "_model_module": "@jupyter-widgets/controls",
            "_model_module_version": "1.5.0",
            "_model_name": "HTMLModel",
            "_view_count": null,
            "_view_module": "@jupyter-widgets/controls",
            "_view_module_version": "1.5.0",
            "_view_name": "HTMLView",
            "description": "",
            "description_tooltip": null,
            "layout": "IPY_MODEL_244273e962354509b4a2ae85c762e47e",
            "placeholder": "​",
            "style": "IPY_MODEL_1ce35395cd2149c297a0f19631028ee2",
            "value": " 446k/446k [00:00&lt;00:00, 2.61MB/s]"
          }
        },
        "1698f62049d34bdc8e705c7c02d08067": {
          "model_module": "@jupyter-widgets/controls",
          "model_module_version": "1.5.0",
          "model_name": "HTMLModel",
          "state": {
            "_dom_classes": [],
            "_model_module": "@jupyter-widgets/controls",
            "_model_module_version": "1.5.0",
            "_model_name": "HTMLModel",
            "_view_count": null,
            "_view_module": "@jupyter-widgets/controls",
            "_view_module_version": "1.5.0",
            "_view_name": "HTMLView",
            "description": "",
            "description_tooltip": null,
            "layout": "IPY_MODEL_1b13e775292f4a2380fd253198e9c2a9",
            "placeholder": "​",
            "style": "IPY_MODEL_630f4a088661410db122af1dce30da4f",
            "value": " 476M/476M [00:37&lt;00:00, 12.6MB/s]"
          }
        },
        "17c2eae398544da4b7ae8d87a8cdd554": {
          "model_module": "@jupyter-widgets/controls",
          "model_module_version": "1.5.0",
          "model_name": "HTMLModel",
          "state": {
            "_dom_classes": [],
            "_model_module": "@jupyter-widgets/controls",
            "_model_module_version": "1.5.0",
            "_model_name": "HTMLModel",
            "_view_count": null,
            "_view_module": "@jupyter-widgets/controls",
            "_view_module_version": "1.5.0",
            "_view_name": "HTMLView",
            "description": "",
            "description_tooltip": null,
            "layout": "IPY_MODEL_a4ec76d198e447cca1b422938653d2e5",
            "placeholder": "​",
            "style": "IPY_MODEL_4d2e76b343314308a3379a306d735952",
            "value": "Downloading: 100%"
          }
        },
        "187304662c844d67986dcf9dc227f60b": {
          "model_module": "@jupyter-widgets/controls",
          "model_module_version": "1.5.0",
          "model_name": "DescriptionStyleModel",
          "state": {
            "_model_module": "@jupyter-widgets/controls",
            "_model_module_version": "1.5.0",
            "_model_name": "DescriptionStyleModel",
            "_view_count": null,
            "_view_module": "@jupyter-widgets/base",
            "_view_module_version": "1.2.0",
            "_view_name": "StyleView",
            "description_width": ""
          }
        },
        "1a618c734f4c4f9495920f177ec33a6e": {
          "model_module": "@jupyter-widgets/controls",
          "model_module_version": "1.5.0",
          "model_name": "HTMLModel",
          "state": {
            "_dom_classes": [],
            "_model_module": "@jupyter-widgets/controls",
            "_model_module_version": "1.5.0",
            "_model_name": "HTMLModel",
            "_view_count": null,
            "_view_module": "@jupyter-widgets/controls",
            "_view_module_version": "1.5.0",
            "_view_name": "HTMLView",
            "description": "",
            "description_tooltip": null,
            "layout": "IPY_MODEL_f3c44b6cd8fc4ea4bbc2a8ca650728d1",
            "placeholder": "​",
            "style": "IPY_MODEL_49d584eeb79d4fddb53101761481b73f",
            "value": "Downloading: 100%"
          }
        },
        "1b13e775292f4a2380fd253198e9c2a9": {
          "model_module": "@jupyter-widgets/base",
          "model_module_version": "1.2.0",
          "model_name": "LayoutModel",
          "state": {
            "_model_module": "@jupyter-widgets/base",
            "_model_module_version": "1.2.0",
            "_model_name": "LayoutModel",
            "_view_count": null,
            "_view_module": "@jupyter-widgets/base",
            "_view_module_version": "1.2.0",
            "_view_name": "LayoutView",
            "align_content": null,
            "align_items": null,
            "align_self": null,
            "border": null,
            "bottom": null,
            "display": null,
            "flex": null,
            "flex_flow": null,
            "grid_area": null,
            "grid_auto_columns": null,
            "grid_auto_flow": null,
            "grid_auto_rows": null,
            "grid_column": null,
            "grid_gap": null,
            "grid_row": null,
            "grid_template_areas": null,
            "grid_template_columns": null,
            "grid_template_rows": null,
            "height": null,
            "justify_content": null,
            "justify_items": null,
            "left": null,
            "margin": null,
            "max_height": null,
            "max_width": null,
            "min_height": null,
            "min_width": null,
            "object_fit": null,
            "object_position": null,
            "order": null,
            "overflow": null,
            "overflow_x": null,
            "overflow_y": null,
            "padding": null,
            "right": null,
            "top": null,
            "visibility": null,
            "width": null
          }
        },
        "1ce35395cd2149c297a0f19631028ee2": {
          "model_module": "@jupyter-widgets/controls",
          "model_module_version": "1.5.0",
          "model_name": "DescriptionStyleModel",
          "state": {
            "_model_module": "@jupyter-widgets/controls",
            "_model_module_version": "1.5.0",
            "_model_name": "DescriptionStyleModel",
            "_view_count": null,
            "_view_module": "@jupyter-widgets/base",
            "_view_module_version": "1.2.0",
            "_view_name": "StyleView",
            "description_width": ""
          }
        },
        "244273e962354509b4a2ae85c762e47e": {
          "model_module": "@jupyter-widgets/base",
          "model_module_version": "1.2.0",
          "model_name": "LayoutModel",
          "state": {
            "_model_module": "@jupyter-widgets/base",
            "_model_module_version": "1.2.0",
            "_model_name": "LayoutModel",
            "_view_count": null,
            "_view_module": "@jupyter-widgets/base",
            "_view_module_version": "1.2.0",
            "_view_name": "LayoutView",
            "align_content": null,
            "align_items": null,
            "align_self": null,
            "border": null,
            "bottom": null,
            "display": null,
            "flex": null,
            "flex_flow": null,
            "grid_area": null,
            "grid_auto_columns": null,
            "grid_auto_flow": null,
            "grid_auto_rows": null,
            "grid_column": null,
            "grid_gap": null,
            "grid_row": null,
            "grid_template_areas": null,
            "grid_template_columns": null,
            "grid_template_rows": null,
            "height": null,
            "justify_content": null,
            "justify_items": null,
            "left": null,
            "margin": null,
            "max_height": null,
            "max_width": null,
            "min_height": null,
            "min_width": null,
            "object_fit": null,
            "object_position": null,
            "order": null,
            "overflow": null,
            "overflow_x": null,
            "overflow_y": null,
            "padding": null,
            "right": null,
            "top": null,
            "visibility": null,
            "width": null
          }
        },
        "3b8f0ba6c09f458c94b521ef37666435": {
          "model_module": "@jupyter-widgets/controls",
          "model_module_version": "1.5.0",
          "model_name": "HTMLModel",
          "state": {
            "_dom_classes": [],
            "_model_module": "@jupyter-widgets/controls",
            "_model_module_version": "1.5.0",
            "_model_name": "HTMLModel",
            "_view_count": null,
            "_view_module": "@jupyter-widgets/controls",
            "_view_module_version": "1.5.0",
            "_view_name": "HTMLView",
            "description": "",
            "description_tooltip": null,
            "layout": "IPY_MODEL_54298edde0f443539ea9e7f68085e561",
            "placeholder": "​",
            "style": "IPY_MODEL_f3c72816c43c4e62a373f14b7caf0a0b",
            "value": "Downloading: 100%"
          }
        },
        "407db2891884482193b53fcee8675b31": {
          "model_module": "@jupyter-widgets/controls",
          "model_module_version": "1.5.0",
          "model_name": "DescriptionStyleModel",
          "state": {
            "_model_module": "@jupyter-widgets/controls",
            "_model_module_version": "1.5.0",
            "_model_name": "DescriptionStyleModel",
            "_view_count": null,
            "_view_module": "@jupyter-widgets/base",
            "_view_module_version": "1.2.0",
            "_view_name": "StyleView",
            "description_width": ""
          }
        },
        "46d2ff6a427f49a9a7440a38d5756a93": {
          "model_module": "@jupyter-widgets/controls",
          "model_module_version": "1.5.0",
          "model_name": "DescriptionStyleModel",
          "state": {
            "_model_module": "@jupyter-widgets/controls",
            "_model_module_version": "1.5.0",
            "_model_name": "DescriptionStyleModel",
            "_view_count": null,
            "_view_module": "@jupyter-widgets/base",
            "_view_module_version": "1.2.0",
            "_view_name": "StyleView",
            "description_width": ""
          }
        },
        "484db91e95194a94bfdf85bedb578ef3": {
          "model_module": "@jupyter-widgets/controls",
          "model_module_version": "1.5.0",
          "model_name": "FloatProgressModel",
          "state": {
            "_dom_classes": [],
            "_model_module": "@jupyter-widgets/controls",
            "_model_module_version": "1.5.0",
            "_model_name": "FloatProgressModel",
            "_view_count": null,
            "_view_module": "@jupyter-widgets/controls",
            "_view_module_version": "1.5.0",
            "_view_name": "ProgressView",
            "bar_style": "success",
            "description": "",
            "description_tooltip": null,
            "layout": "IPY_MODEL_d805a3fc1a634174a2ecce3add05efe9",
            "max": 25,
            "min": 0,
            "orientation": "horizontal",
            "style": "IPY_MODEL_901e99d1a7b049f2b3ce2d1f4edc7ceb",
            "value": 25
          }
        },
        "49d584eeb79d4fddb53101761481b73f": {
          "model_module": "@jupyter-widgets/controls",
          "model_module_version": "1.5.0",
          "model_name": "DescriptionStyleModel",
          "state": {
            "_model_module": "@jupyter-widgets/controls",
            "_model_module_version": "1.5.0",
            "_model_name": "DescriptionStyleModel",
            "_view_count": null,
            "_view_module": "@jupyter-widgets/base",
            "_view_module_version": "1.2.0",
            "_view_name": "StyleView",
            "description_width": ""
          }
        },
        "4a80634ac6e84071bc4668f4ca8b5073": {
          "model_module": "@jupyter-widgets/controls",
          "model_module_version": "1.5.0",
          "model_name": "HTMLModel",
          "state": {
            "_dom_classes": [],
            "_model_module": "@jupyter-widgets/controls",
            "_model_module_version": "1.5.0",
            "_model_name": "HTMLModel",
            "_view_count": null,
            "_view_module": "@jupyter-widgets/controls",
            "_view_module_version": "1.5.0",
            "_view_name": "HTMLView",
            "description": "",
            "description_tooltip": null,
            "layout": "IPY_MODEL_0887608cf874457d97c12af349927ec3",
            "placeholder": "​",
            "style": "IPY_MODEL_7b0374d1e5cf453fb46b2480e3262a24",
            "value": " 150/150 [00:00&lt;00:00, 3.38kB/s]"
          }
        },
        "4d2e76b343314308a3379a306d735952": {
          "model_module": "@jupyter-widgets/controls",
          "model_module_version": "1.5.0",
          "model_name": "DescriptionStyleModel",
          "state": {
            "_model_module": "@jupyter-widgets/controls",
            "_model_module_version": "1.5.0",
            "_model_name": "DescriptionStyleModel",
            "_view_count": null,
            "_view_module": "@jupyter-widgets/base",
            "_view_module_version": "1.2.0",
            "_view_name": "StyleView",
            "description_width": ""
          }
        },
        "4ed0fa19b1154083905e0c53da7d60ba": {
          "model_module": "@jupyter-widgets/base",
          "model_module_version": "1.2.0",
          "model_name": "LayoutModel",
          "state": {
            "_model_module": "@jupyter-widgets/base",
            "_model_module_version": "1.2.0",
            "_model_name": "LayoutModel",
            "_view_count": null,
            "_view_module": "@jupyter-widgets/base",
            "_view_module_version": "1.2.0",
            "_view_name": "LayoutView",
            "align_content": null,
            "align_items": null,
            "align_self": null,
            "border": null,
            "bottom": null,
            "display": null,
            "flex": null,
            "flex_flow": null,
            "grid_area": null,
            "grid_auto_columns": null,
            "grid_auto_flow": null,
            "grid_auto_rows": null,
            "grid_column": null,
            "grid_gap": null,
            "grid_row": null,
            "grid_template_areas": null,
            "grid_template_columns": null,
            "grid_template_rows": null,
            "height": null,
            "justify_content": null,
            "justify_items": null,
            "left": null,
            "margin": null,
            "max_height": null,
            "max_width": null,
            "min_height": null,
            "min_width": null,
            "object_fit": null,
            "object_position": null,
            "order": null,
            "overflow": null,
            "overflow_x": null,
            "overflow_y": null,
            "padding": null,
            "right": null,
            "top": null,
            "visibility": null,
            "width": null
          }
        },
        "50df123f948c42cf9924da3a7810937e": {
          "model_module": "@jupyter-widgets/controls",
          "model_module_version": "1.5.0",
          "model_name": "HTMLModel",
          "state": {
            "_dom_classes": [],
            "_model_module": "@jupyter-widgets/controls",
            "_model_module_version": "1.5.0",
            "_model_name": "HTMLModel",
            "_view_count": null,
            "_view_module": "@jupyter-widgets/controls",
            "_view_module_version": "1.5.0",
            "_view_name": "HTMLView",
            "description": "",
            "description_tooltip": null,
            "layout": "IPY_MODEL_a5f96191b6c940ef98abd1d2b553f00d",
            "placeholder": "​",
            "style": "IPY_MODEL_7006bf2b1c4245109481a80052576dc2",
            "value": "Downloading: 100%"
          }
        },
        "53027007adc14d3cb46ef3c9d4395abd": {
          "model_module": "@jupyter-widgets/controls",
          "model_module_version": "1.5.0",
          "model_name": "DescriptionStyleModel",
          "state": {
            "_model_module": "@jupyter-widgets/controls",
            "_model_module_version": "1.5.0",
            "_model_name": "DescriptionStyleModel",
            "_view_count": null,
            "_view_module": "@jupyter-widgets/base",
            "_view_module_version": "1.2.0",
            "_view_name": "StyleView",
            "description_width": ""
          }
        },
        "54298edde0f443539ea9e7f68085e561": {
          "model_module": "@jupyter-widgets/base",
          "model_module_version": "1.2.0",
          "model_name": "LayoutModel",
          "state": {
            "_model_module": "@jupyter-widgets/base",
            "_model_module_version": "1.2.0",
            "_model_name": "LayoutModel",
            "_view_count": null,
            "_view_module": "@jupyter-widgets/base",
            "_view_module_version": "1.2.0",
            "_view_name": "LayoutView",
            "align_content": null,
            "align_items": null,
            "align_self": null,
            "border": null,
            "bottom": null,
            "display": null,
            "flex": null,
            "flex_flow": null,
            "grid_area": null,
            "grid_auto_columns": null,
            "grid_auto_flow": null,
            "grid_auto_rows": null,
            "grid_column": null,
            "grid_gap": null,
            "grid_row": null,
            "grid_template_areas": null,
            "grid_template_columns": null,
            "grid_template_rows": null,
            "height": null,
            "justify_content": null,
            "justify_items": null,
            "left": null,
            "margin": null,
            "max_height": null,
            "max_width": null,
            "min_height": null,
            "min_width": null,
            "object_fit": null,
            "object_position": null,
            "order": null,
            "overflow": null,
            "overflow_x": null,
            "overflow_y": null,
            "padding": null,
            "right": null,
            "top": null,
            "visibility": null,
            "width": null
          }
        },
        "5d0b9ff2e12f44bebf4a69094b765d38": {
          "model_module": "@jupyter-widgets/base",
          "model_module_version": "1.2.0",
          "model_name": "LayoutModel",
          "state": {
            "_model_module": "@jupyter-widgets/base",
            "_model_module_version": "1.2.0",
            "_model_name": "LayoutModel",
            "_view_count": null,
            "_view_module": "@jupyter-widgets/base",
            "_view_module_version": "1.2.0",
            "_view_name": "LayoutView",
            "align_content": null,
            "align_items": null,
            "align_self": null,
            "border": null,
            "bottom": null,
            "display": null,
            "flex": null,
            "flex_flow": null,
            "grid_area": null,
            "grid_auto_columns": null,
            "grid_auto_flow": null,
            "grid_auto_rows": null,
            "grid_column": null,
            "grid_gap": null,
            "grid_row": null,
            "grid_template_areas": null,
            "grid_template_columns": null,
            "grid_template_rows": null,
            "height": null,
            "justify_content": null,
            "justify_items": null,
            "left": null,
            "margin": null,
            "max_height": null,
            "max_width": null,
            "min_height": null,
            "min_width": null,
            "object_fit": null,
            "object_position": null,
            "order": null,
            "overflow": null,
            "overflow_x": null,
            "overflow_y": null,
            "padding": null,
            "right": null,
            "top": null,
            "visibility": null,
            "width": null
          }
        },
        "630f4a088661410db122af1dce30da4f": {
          "model_module": "@jupyter-widgets/controls",
          "model_module_version": "1.5.0",
          "model_name": "DescriptionStyleModel",
          "state": {
            "_model_module": "@jupyter-widgets/controls",
            "_model_module_version": "1.5.0",
            "_model_name": "DescriptionStyleModel",
            "_view_count": null,
            "_view_module": "@jupyter-widgets/base",
            "_view_module_version": "1.2.0",
            "_view_name": "StyleView",
            "description_width": ""
          }
        },
        "63ed558143ea47298339391a4464467f": {
          "model_module": "@jupyter-widgets/base",
          "model_module_version": "1.2.0",
          "model_name": "LayoutModel",
          "state": {
            "_model_module": "@jupyter-widgets/base",
            "_model_module_version": "1.2.0",
            "_model_name": "LayoutModel",
            "_view_count": null,
            "_view_module": "@jupyter-widgets/base",
            "_view_module_version": "1.2.0",
            "_view_name": "LayoutView",
            "align_content": null,
            "align_items": null,
            "align_self": null,
            "border": null,
            "bottom": null,
            "display": null,
            "flex": null,
            "flex_flow": null,
            "grid_area": null,
            "grid_auto_columns": null,
            "grid_auto_flow": null,
            "grid_auto_rows": null,
            "grid_column": null,
            "grid_gap": null,
            "grid_row": null,
            "grid_template_areas": null,
            "grid_template_columns": null,
            "grid_template_rows": null,
            "height": null,
            "justify_content": null,
            "justify_items": null,
            "left": null,
            "margin": null,
            "max_height": null,
            "max_width": null,
            "min_height": null,
            "min_width": null,
            "object_fit": null,
            "object_position": null,
            "order": null,
            "overflow": null,
            "overflow_x": null,
            "overflow_y": null,
            "padding": null,
            "right": null,
            "top": null,
            "visibility": null,
            "width": null
          }
        },
        "7006bf2b1c4245109481a80052576dc2": {
          "model_module": "@jupyter-widgets/controls",
          "model_module_version": "1.5.0",
          "model_name": "DescriptionStyleModel",
          "state": {
            "_model_module": "@jupyter-widgets/controls",
            "_model_module_version": "1.5.0",
            "_model_name": "DescriptionStyleModel",
            "_view_count": null,
            "_view_module": "@jupyter-widgets/base",
            "_view_module_version": "1.2.0",
            "_view_name": "StyleView",
            "description_width": ""
          }
        },
        "748f9a932d03414595ae1ecbc9f50c1e": {
          "model_module": "@jupyter-widgets/controls",
          "model_module_version": "1.5.0",
          "model_name": "HTMLModel",
          "state": {
            "_dom_classes": [],
            "_model_module": "@jupyter-widgets/controls",
            "_model_module_version": "1.5.0",
            "_model_name": "HTMLModel",
            "_view_count": null,
            "_view_module": "@jupyter-widgets/controls",
            "_view_module_version": "1.5.0",
            "_view_name": "HTMLView",
            "description": "",
            "description_tooltip": null,
            "layout": "IPY_MODEL_cf9cca59bd6a475b9581162d7ec41914",
            "placeholder": "​",
            "style": "IPY_MODEL_53027007adc14d3cb46ef3c9d4395abd",
            "value": " 878k/878k [00:00&lt;00:00, 1.48MB/s]"
          }
        },
        "77e4af6b8afe42c2b7be1d1e09d6d1f0": {
          "model_module": "@jupyter-widgets/base",
          "model_module_version": "1.2.0",
          "model_name": "LayoutModel",
          "state": {
            "_model_module": "@jupyter-widgets/base",
            "_model_module_version": "1.2.0",
            "_model_name": "LayoutModel",
            "_view_count": null,
            "_view_module": "@jupyter-widgets/base",
            "_view_module_version": "1.2.0",
            "_view_name": "LayoutView",
            "align_content": null,
            "align_items": null,
            "align_self": null,
            "border": null,
            "bottom": null,
            "display": null,
            "flex": null,
            "flex_flow": null,
            "grid_area": null,
            "grid_auto_columns": null,
            "grid_auto_flow": null,
            "grid_auto_rows": null,
            "grid_column": null,
            "grid_gap": null,
            "grid_row": null,
            "grid_template_areas": null,
            "grid_template_columns": null,
            "grid_template_rows": null,
            "height": null,
            "justify_content": null,
            "justify_items": null,
            "left": null,
            "margin": null,
            "max_height": null,
            "max_width": null,
            "min_height": null,
            "min_width": null,
            "object_fit": null,
            "object_position": null,
            "order": null,
            "overflow": null,
            "overflow_x": null,
            "overflow_y": null,
            "padding": null,
            "right": null,
            "top": null,
            "visibility": null,
            "width": null
          }
        },
        "7b0374d1e5cf453fb46b2480e3262a24": {
          "model_module": "@jupyter-widgets/controls",
          "model_module_version": "1.5.0",
          "model_name": "DescriptionStyleModel",
          "state": {
            "_model_module": "@jupyter-widgets/controls",
            "_model_module_version": "1.5.0",
            "_model_name": "DescriptionStyleModel",
            "_view_count": null,
            "_view_module": "@jupyter-widgets/base",
            "_view_module_version": "1.2.0",
            "_view_name": "StyleView",
            "description_width": ""
          }
        },
        "8197fbc3e56e4b178dfa85bd27ddc35a": {
          "model_module": "@jupyter-widgets/base",
          "model_module_version": "1.2.0",
          "model_name": "LayoutModel",
          "state": {
            "_model_module": "@jupyter-widgets/base",
            "_model_module_version": "1.2.0",
            "_model_name": "LayoutModel",
            "_view_count": null,
            "_view_module": "@jupyter-widgets/base",
            "_view_module_version": "1.2.0",
            "_view_name": "LayoutView",
            "align_content": null,
            "align_items": null,
            "align_self": null,
            "border": null,
            "bottom": null,
            "display": null,
            "flex": null,
            "flex_flow": null,
            "grid_area": null,
            "grid_auto_columns": null,
            "grid_auto_flow": null,
            "grid_auto_rows": null,
            "grid_column": null,
            "grid_gap": null,
            "grid_row": null,
            "grid_template_areas": null,
            "grid_template_columns": null,
            "grid_template_rows": null,
            "height": null,
            "justify_content": null,
            "justify_items": null,
            "left": null,
            "margin": null,
            "max_height": null,
            "max_width": null,
            "min_height": null,
            "min_width": null,
            "object_fit": null,
            "object_position": null,
            "order": null,
            "overflow": null,
            "overflow_x": null,
            "overflow_y": null,
            "padding": null,
            "right": null,
            "top": null,
            "visibility": null,
            "width": null
          }
        },
        "89d639f64a0a440fa37d436079f7170a": {
          "model_module": "@jupyter-widgets/controls",
          "model_module_version": "1.5.0",
          "model_name": "HBoxModel",
          "state": {
            "_dom_classes": [],
            "_model_module": "@jupyter-widgets/controls",
            "_model_module_version": "1.5.0",
            "_model_name": "HBoxModel",
            "_view_count": null,
            "_view_module": "@jupyter-widgets/controls",
            "_view_module_version": "1.5.0",
            "_view_name": "HBoxView",
            "box_style": "",
            "children": [
              "IPY_MODEL_17c2eae398544da4b7ae8d87a8cdd554",
              "IPY_MODEL_9522bb1290914955a41b882b7e93e501",
              "IPY_MODEL_4a80634ac6e84071bc4668f4ca8b5073"
            ],
            "layout": "IPY_MODEL_e4d98f308fe14a39872876bea76f0a69"
          }
        },
        "8b5044fe6256405dafd4877f14881065": {
          "model_module": "@jupyter-widgets/controls",
          "model_module_version": "1.5.0",
          "model_name": "DescriptionStyleModel",
          "state": {
            "_model_module": "@jupyter-widgets/controls",
            "_model_module_version": "1.5.0",
            "_model_name": "DescriptionStyleModel",
            "_view_count": null,
            "_view_module": "@jupyter-widgets/base",
            "_view_module_version": "1.2.0",
            "_view_name": "StyleView",
            "description_width": ""
          }
        },
        "8f9c0e6927334906a7fa3d84350ad819": {
          "model_module": "@jupyter-widgets/base",
          "model_module_version": "1.2.0",
          "model_name": "LayoutModel",
          "state": {
            "_model_module": "@jupyter-widgets/base",
            "_model_module_version": "1.2.0",
            "_model_name": "LayoutModel",
            "_view_count": null,
            "_view_module": "@jupyter-widgets/base",
            "_view_module_version": "1.2.0",
            "_view_name": "LayoutView",
            "align_content": null,
            "align_items": null,
            "align_self": null,
            "border": null,
            "bottom": null,
            "display": null,
            "flex": null,
            "flex_flow": null,
            "grid_area": null,
            "grid_auto_columns": null,
            "grid_auto_flow": null,
            "grid_auto_rows": null,
            "grid_column": null,
            "grid_gap": null,
            "grid_row": null,
            "grid_template_areas": null,
            "grid_template_columns": null,
            "grid_template_rows": null,
            "height": null,
            "justify_content": null,
            "justify_items": null,
            "left": null,
            "margin": null,
            "max_height": null,
            "max_width": null,
            "min_height": null,
            "min_width": null,
            "object_fit": null,
            "object_position": null,
            "order": null,
            "overflow": null,
            "overflow_x": null,
            "overflow_y": null,
            "padding": null,
            "right": null,
            "top": null,
            "visibility": null,
            "width": null
          }
        },
        "901e99d1a7b049f2b3ce2d1f4edc7ceb": {
          "model_module": "@jupyter-widgets/controls",
          "model_module_version": "1.5.0",
          "model_name": "ProgressStyleModel",
          "state": {
            "_model_module": "@jupyter-widgets/controls",
            "_model_module_version": "1.5.0",
            "_model_name": "ProgressStyleModel",
            "_view_count": null,
            "_view_module": "@jupyter-widgets/base",
            "_view_module_version": "1.2.0",
            "_view_name": "StyleView",
            "bar_color": null,
            "description_width": ""
          }
        },
        "90295732ed6441da8fe837fad47e3b61": {
          "model_module": "@jupyter-widgets/controls",
          "model_module_version": "1.5.0",
          "model_name": "HTMLModel",
          "state": {
            "_dom_classes": [],
            "_model_module": "@jupyter-widgets/controls",
            "_model_module_version": "1.5.0",
            "_model_name": "HTMLModel",
            "_view_count": null,
            "_view_module": "@jupyter-widgets/controls",
            "_view_module_version": "1.5.0",
            "_view_name": "HTMLView",
            "description": "",
            "description_tooltip": null,
            "layout": "IPY_MODEL_cf4e82c21b384007860aa6f96a0207c7",
            "placeholder": "​",
            "style": "IPY_MODEL_187304662c844d67986dcf9dc227f60b",
            "value": " 25.0/25.0 [00:00&lt;00:00, 291B/s]"
          }
        },
        "92a40daef9bc41959fcb1a2c6443c60f": {
          "model_module": "@jupyter-widgets/controls",
          "model_module_version": "1.5.0",
          "model_name": "FloatProgressModel",
          "state": {
            "_dom_classes": [],
            "_model_module": "@jupyter-widgets/controls",
            "_model_module_version": "1.5.0",
            "_model_name": "FloatProgressModel",
            "_view_count": null,
            "_view_module": "@jupyter-widgets/controls",
            "_view_module_version": "1.5.0",
            "_view_name": "ProgressView",
            "bar_style": "success",
            "description": "",
            "description_tooltip": null,
            "layout": "IPY_MODEL_aca3ce6a120e4d0d8e3ce5dd1ccccee6",
            "max": 498627950,
            "min": 0,
            "orientation": "horizontal",
            "style": "IPY_MODEL_c32fb7952f7e480f8e2897a0ec67e969",
            "value": 498627950
          }
        },
        "9522bb1290914955a41b882b7e93e501": {
          "model_module": "@jupyter-widgets/controls",
          "model_module_version": "1.5.0",
          "model_name": "FloatProgressModel",
          "state": {
            "_dom_classes": [],
            "_model_module": "@jupyter-widgets/controls",
            "_model_module_version": "1.5.0",
            "_model_name": "FloatProgressModel",
            "_view_count": null,
            "_view_module": "@jupyter-widgets/controls",
            "_view_module_version": "1.5.0",
            "_view_name": "ProgressView",
            "bar_style": "success",
            "description": "",
            "description_tooltip": null,
            "layout": "IPY_MODEL_f0ba6004f8c84c799eff4a907a892f02",
            "max": 150,
            "min": 0,
            "orientation": "horizontal",
            "style": "IPY_MODEL_ec03da40ffaa4c46b2e438c82a308e97",
            "value": 150
          }
        },
        "95b8442ce0db4c1c8ec0c07a7e765826": {
          "model_module": "@jupyter-widgets/controls",
          "model_module_version": "1.5.0",
          "model_name": "HTMLModel",
          "state": {
            "_dom_classes": [],
            "_model_module": "@jupyter-widgets/controls",
            "_model_module_version": "1.5.0",
            "_model_name": "HTMLModel",
            "_view_count": null,
            "_view_module": "@jupyter-widgets/controls",
            "_view_module_version": "1.5.0",
            "_view_name": "HTMLView",
            "description": "",
            "description_tooltip": null,
            "layout": "IPY_MODEL_e66382b6fd7b4cc7af23eac200e7117d",
            "placeholder": "​",
            "style": "IPY_MODEL_46d2ff6a427f49a9a7440a38d5756a93",
            "value": " 498/498 [00:00&lt;00:00, 5.01kB/s]"
          }
        },
        "9d225748230842838a8e2e0003ef077e": {
          "model_module": "@jupyter-widgets/base",
          "model_module_version": "1.2.0",
          "model_name": "LayoutModel",
          "state": {
            "_model_module": "@jupyter-widgets/base",
            "_model_module_version": "1.2.0",
            "_model_name": "LayoutModel",
            "_view_count": null,
            "_view_module": "@jupyter-widgets/base",
            "_view_module_version": "1.2.0",
            "_view_name": "LayoutView",
            "align_content": null,
            "align_items": null,
            "align_self": null,
            "border": null,
            "bottom": null,
            "display": null,
            "flex": null,
            "flex_flow": null,
            "grid_area": null,
            "grid_auto_columns": null,
            "grid_auto_flow": null,
            "grid_auto_rows": null,
            "grid_column": null,
            "grid_gap": null,
            "grid_row": null,
            "grid_template_areas": null,
            "grid_template_columns": null,
            "grid_template_rows": null,
            "height": null,
            "justify_content": null,
            "justify_items": null,
            "left": null,
            "margin": null,
            "max_height": null,
            "max_width": null,
            "min_height": null,
            "min_width": null,
            "object_fit": null,
            "object_position": null,
            "order": null,
            "overflow": null,
            "overflow_x": null,
            "overflow_y": null,
            "padding": null,
            "right": null,
            "top": null,
            "visibility": null,
            "width": null
          }
        },
        "9d86b2c6805241959231da0059f66913": {
          "model_module": "@jupyter-widgets/controls",
          "model_module_version": "1.5.0",
          "model_name": "HBoxModel",
          "state": {
            "_dom_classes": [],
            "_model_module": "@jupyter-widgets/controls",
            "_model_module_version": "1.5.0",
            "_model_name": "HBoxModel",
            "_view_count": null,
            "_view_module": "@jupyter-widgets/controls",
            "_view_module_version": "1.5.0",
            "_view_name": "HBoxView",
            "box_style": "",
            "children": [
              "IPY_MODEL_1a618c734f4c4f9495920f177ec33a6e",
              "IPY_MODEL_92a40daef9bc41959fcb1a2c6443c60f",
              "IPY_MODEL_1698f62049d34bdc8e705c7c02d08067"
            ],
            "layout": "IPY_MODEL_9d225748230842838a8e2e0003ef077e"
          }
        },
        "a2b5fcd4188b4d6c877eddd7a23a299a": {
          "model_module": "@jupyter-widgets/controls",
          "model_module_version": "1.5.0",
          "model_name": "HBoxModel",
          "state": {
            "_dom_classes": [],
            "_model_module": "@jupyter-widgets/controls",
            "_model_module_version": "1.5.0",
            "_model_name": "HBoxModel",
            "_view_count": null,
            "_view_module": "@jupyter-widgets/controls",
            "_view_module_version": "1.5.0",
            "_view_name": "HBoxView",
            "box_style": "",
            "children": [
              "IPY_MODEL_3b8f0ba6c09f458c94b521ef37666435",
              "IPY_MODEL_a92cf552b2074a3fa0caaa73e6991ca8",
              "IPY_MODEL_129f3b71990747e5b4cf35d44f102aba"
            ],
            "layout": "IPY_MODEL_63ed558143ea47298339391a4464467f"
          }
        },
        "a4ec76d198e447cca1b422938653d2e5": {
          "model_module": "@jupyter-widgets/base",
          "model_module_version": "1.2.0",
          "model_name": "LayoutModel",
          "state": {
            "_model_module": "@jupyter-widgets/base",
            "_model_module_version": "1.2.0",
            "_model_name": "LayoutModel",
            "_view_count": null,
            "_view_module": "@jupyter-widgets/base",
            "_view_module_version": "1.2.0",
            "_view_name": "LayoutView",
            "align_content": null,
            "align_items": null,
            "align_self": null,
            "border": null,
            "bottom": null,
            "display": null,
            "flex": null,
            "flex_flow": null,
            "grid_area": null,
            "grid_auto_columns": null,
            "grid_auto_flow": null,
            "grid_auto_rows": null,
            "grid_column": null,
            "grid_gap": null,
            "grid_row": null,
            "grid_template_areas": null,
            "grid_template_columns": null,
            "grid_template_rows": null,
            "height": null,
            "justify_content": null,
            "justify_items": null,
            "left": null,
            "margin": null,
            "max_height": null,
            "max_width": null,
            "min_height": null,
            "min_width": null,
            "object_fit": null,
            "object_position": null,
            "order": null,
            "overflow": null,
            "overflow_x": null,
            "overflow_y": null,
            "padding": null,
            "right": null,
            "top": null,
            "visibility": null,
            "width": null
          }
        },
        "a5f96191b6c940ef98abd1d2b553f00d": {
          "model_module": "@jupyter-widgets/base",
          "model_module_version": "1.2.0",
          "model_name": "LayoutModel",
          "state": {
            "_model_module": "@jupyter-widgets/base",
            "_model_module_version": "1.2.0",
            "_model_name": "LayoutModel",
            "_view_count": null,
            "_view_module": "@jupyter-widgets/base",
            "_view_module_version": "1.2.0",
            "_view_name": "LayoutView",
            "align_content": null,
            "align_items": null,
            "align_self": null,
            "border": null,
            "bottom": null,
            "display": null,
            "flex": null,
            "flex_flow": null,
            "grid_area": null,
            "grid_auto_columns": null,
            "grid_auto_flow": null,
            "grid_auto_rows": null,
            "grid_column": null,
            "grid_gap": null,
            "grid_row": null,
            "grid_template_areas": null,
            "grid_template_columns": null,
            "grid_template_rows": null,
            "height": null,
            "justify_content": null,
            "justify_items": null,
            "left": null,
            "margin": null,
            "max_height": null,
            "max_width": null,
            "min_height": null,
            "min_width": null,
            "object_fit": null,
            "object_position": null,
            "order": null,
            "overflow": null,
            "overflow_x": null,
            "overflow_y": null,
            "padding": null,
            "right": null,
            "top": null,
            "visibility": null,
            "width": null
          }
        },
        "a92cf552b2074a3fa0caaa73e6991ca8": {
          "model_module": "@jupyter-widgets/controls",
          "model_module_version": "1.5.0",
          "model_name": "FloatProgressModel",
          "state": {
            "_dom_classes": [],
            "_model_module": "@jupyter-widgets/controls",
            "_model_module_version": "1.5.0",
            "_model_name": "FloatProgressModel",
            "_view_count": null,
            "_view_module": "@jupyter-widgets/controls",
            "_view_module_version": "1.5.0",
            "_view_name": "ProgressView",
            "bar_style": "success",
            "description": "",
            "description_tooltip": null,
            "layout": "IPY_MODEL_ab1de527c8b6479ea23513205d0c9a58",
            "max": 456318,
            "min": 0,
            "orientation": "horizontal",
            "style": "IPY_MODEL_e02d8b685e974d508462e69e17678df8",
            "value": 456318
          }
        },
        "ab1de527c8b6479ea23513205d0c9a58": {
          "model_module": "@jupyter-widgets/base",
          "model_module_version": "1.2.0",
          "model_name": "LayoutModel",
          "state": {
            "_model_module": "@jupyter-widgets/base",
            "_model_module_version": "1.2.0",
            "_model_name": "LayoutModel",
            "_view_count": null,
            "_view_module": "@jupyter-widgets/base",
            "_view_module_version": "1.2.0",
            "_view_name": "LayoutView",
            "align_content": null,
            "align_items": null,
            "align_self": null,
            "border": null,
            "bottom": null,
            "display": null,
            "flex": null,
            "flex_flow": null,
            "grid_area": null,
            "grid_auto_columns": null,
            "grid_auto_flow": null,
            "grid_auto_rows": null,
            "grid_column": null,
            "grid_gap": null,
            "grid_row": null,
            "grid_template_areas": null,
            "grid_template_columns": null,
            "grid_template_rows": null,
            "height": null,
            "justify_content": null,
            "justify_items": null,
            "left": null,
            "margin": null,
            "max_height": null,
            "max_width": null,
            "min_height": null,
            "min_width": null,
            "object_fit": null,
            "object_position": null,
            "order": null,
            "overflow": null,
            "overflow_x": null,
            "overflow_y": null,
            "padding": null,
            "right": null,
            "top": null,
            "visibility": null,
            "width": null
          }
        },
        "aca3ce6a120e4d0d8e3ce5dd1ccccee6": {
          "model_module": "@jupyter-widgets/base",
          "model_module_version": "1.2.0",
          "model_name": "LayoutModel",
          "state": {
            "_model_module": "@jupyter-widgets/base",
            "_model_module_version": "1.2.0",
            "_model_name": "LayoutModel",
            "_view_count": null,
            "_view_module": "@jupyter-widgets/base",
            "_view_module_version": "1.2.0",
            "_view_name": "LayoutView",
            "align_content": null,
            "align_items": null,
            "align_self": null,
            "border": null,
            "bottom": null,
            "display": null,
            "flex": null,
            "flex_flow": null,
            "grid_area": null,
            "grid_auto_columns": null,
            "grid_auto_flow": null,
            "grid_auto_rows": null,
            "grid_column": null,
            "grid_gap": null,
            "grid_row": null,
            "grid_template_areas": null,
            "grid_template_columns": null,
            "grid_template_rows": null,
            "height": null,
            "justify_content": null,
            "justify_items": null,
            "left": null,
            "margin": null,
            "max_height": null,
            "max_width": null,
            "min_height": null,
            "min_width": null,
            "object_fit": null,
            "object_position": null,
            "order": null,
            "overflow": null,
            "overflow_x": null,
            "overflow_y": null,
            "padding": null,
            "right": null,
            "top": null,
            "visibility": null,
            "width": null
          }
        },
        "b11b4512e30a4ff0b097adbf13bdc926": {
          "model_module": "@jupyter-widgets/base",
          "model_module_version": "1.2.0",
          "model_name": "LayoutModel",
          "state": {
            "_model_module": "@jupyter-widgets/base",
            "_model_module_version": "1.2.0",
            "_model_name": "LayoutModel",
            "_view_count": null,
            "_view_module": "@jupyter-widgets/base",
            "_view_module_version": "1.2.0",
            "_view_name": "LayoutView",
            "align_content": null,
            "align_items": null,
            "align_self": null,
            "border": null,
            "bottom": null,
            "display": null,
            "flex": null,
            "flex_flow": null,
            "grid_area": null,
            "grid_auto_columns": null,
            "grid_auto_flow": null,
            "grid_auto_rows": null,
            "grid_column": null,
            "grid_gap": null,
            "grid_row": null,
            "grid_template_areas": null,
            "grid_template_columns": null,
            "grid_template_rows": null,
            "height": null,
            "justify_content": null,
            "justify_items": null,
            "left": null,
            "margin": null,
            "max_height": null,
            "max_width": null,
            "min_height": null,
            "min_width": null,
            "object_fit": null,
            "object_position": null,
            "order": null,
            "overflow": null,
            "overflow_x": null,
            "overflow_y": null,
            "padding": null,
            "right": null,
            "top": null,
            "visibility": null,
            "width": null
          }
        },
        "b558a5ea8127496884241bd6822df090": {
          "model_module": "@jupyter-widgets/controls",
          "model_module_version": "1.5.0",
          "model_name": "ProgressStyleModel",
          "state": {
            "_model_module": "@jupyter-widgets/controls",
            "_model_module_version": "1.5.0",
            "_model_name": "ProgressStyleModel",
            "_view_count": null,
            "_view_module": "@jupyter-widgets/base",
            "_view_module_version": "1.2.0",
            "_view_name": "StyleView",
            "bar_color": null,
            "description_width": ""
          }
        },
        "b55d9742113a4856a0e2d6863b0fb113": {
          "model_module": "@jupyter-widgets/controls",
          "model_module_version": "1.5.0",
          "model_name": "ProgressStyleModel",
          "state": {
            "_model_module": "@jupyter-widgets/controls",
            "_model_module_version": "1.5.0",
            "_model_name": "ProgressStyleModel",
            "_view_count": null,
            "_view_module": "@jupyter-widgets/base",
            "_view_module_version": "1.2.0",
            "_view_name": "StyleView",
            "bar_color": null,
            "description_width": ""
          }
        },
        "bdaf5c15ed474afdb631642677be1ed0": {
          "model_module": "@jupyter-widgets/controls",
          "model_module_version": "1.5.0",
          "model_name": "FloatProgressModel",
          "state": {
            "_dom_classes": [],
            "_model_module": "@jupyter-widgets/controls",
            "_model_module_version": "1.5.0",
            "_model_name": "FloatProgressModel",
            "_view_count": null,
            "_view_module": "@jupyter-widgets/controls",
            "_view_module_version": "1.5.0",
            "_view_name": "ProgressView",
            "bar_style": "success",
            "description": "",
            "description_tooltip": null,
            "layout": "IPY_MODEL_8f9c0e6927334906a7fa3d84350ad819",
            "max": 898822,
            "min": 0,
            "orientation": "horizontal",
            "style": "IPY_MODEL_b558a5ea8127496884241bd6822df090",
            "value": 898822
          }
        },
        "c32fb7952f7e480f8e2897a0ec67e969": {
          "model_module": "@jupyter-widgets/controls",
          "model_module_version": "1.5.0",
          "model_name": "ProgressStyleModel",
          "state": {
            "_model_module": "@jupyter-widgets/controls",
            "_model_module_version": "1.5.0",
            "_model_name": "ProgressStyleModel",
            "_view_count": null,
            "_view_module": "@jupyter-widgets/base",
            "_view_module_version": "1.2.0",
            "_view_name": "StyleView",
            "bar_color": null,
            "description_width": ""
          }
        },
        "c5b3cb7f77534f5b83159e2dd5715c09": {
          "model_module": "@jupyter-widgets/controls",
          "model_module_version": "1.5.0",
          "model_name": "HBoxModel",
          "state": {
            "_dom_classes": [],
            "_model_module": "@jupyter-widgets/controls",
            "_model_module_version": "1.5.0",
            "_model_name": "HBoxModel",
            "_view_count": null,
            "_view_module": "@jupyter-widgets/controls",
            "_view_module_version": "1.5.0",
            "_view_name": "HBoxView",
            "box_style": "",
            "children": [
              "IPY_MODEL_028655d3cc914015b781714df46c0c1d",
              "IPY_MODEL_bdaf5c15ed474afdb631642677be1ed0",
              "IPY_MODEL_748f9a932d03414595ae1ecbc9f50c1e"
            ],
            "layout": "IPY_MODEL_f7a6c7c35f884fbbafbad01e487f9421"
          }
        },
        "cbd9b9c7de4248aca4d52ce788902b7f": {
          "model_module": "@jupyter-widgets/controls",
          "model_module_version": "1.5.0",
          "model_name": "FloatProgressModel",
          "state": {
            "_dom_classes": [],
            "_model_module": "@jupyter-widgets/controls",
            "_model_module_version": "1.5.0",
            "_model_name": "FloatProgressModel",
            "_view_count": null,
            "_view_module": "@jupyter-widgets/controls",
            "_view_module_version": "1.5.0",
            "_view_name": "ProgressView",
            "bar_style": "success",
            "description": "",
            "description_tooltip": null,
            "layout": "IPY_MODEL_77e4af6b8afe42c2b7be1d1e09d6d1f0",
            "max": 498,
            "min": 0,
            "orientation": "horizontal",
            "style": "IPY_MODEL_b55d9742113a4856a0e2d6863b0fb113",
            "value": 498
          }
        },
        "cf4e82c21b384007860aa6f96a0207c7": {
          "model_module": "@jupyter-widgets/base",
          "model_module_version": "1.2.0",
          "model_name": "LayoutModel",
          "state": {
            "_model_module": "@jupyter-widgets/base",
            "_model_module_version": "1.2.0",
            "_model_name": "LayoutModel",
            "_view_count": null,
            "_view_module": "@jupyter-widgets/base",
            "_view_module_version": "1.2.0",
            "_view_name": "LayoutView",
            "align_content": null,
            "align_items": null,
            "align_self": null,
            "border": null,
            "bottom": null,
            "display": null,
            "flex": null,
            "flex_flow": null,
            "grid_area": null,
            "grid_auto_columns": null,
            "grid_auto_flow": null,
            "grid_auto_rows": null,
            "grid_column": null,
            "grid_gap": null,
            "grid_row": null,
            "grid_template_areas": null,
            "grid_template_columns": null,
            "grid_template_rows": null,
            "height": null,
            "justify_content": null,
            "justify_items": null,
            "left": null,
            "margin": null,
            "max_height": null,
            "max_width": null,
            "min_height": null,
            "min_width": null,
            "object_fit": null,
            "object_position": null,
            "order": null,
            "overflow": null,
            "overflow_x": null,
            "overflow_y": null,
            "padding": null,
            "right": null,
            "top": null,
            "visibility": null,
            "width": null
          }
        },
        "cf9cca59bd6a475b9581162d7ec41914": {
          "model_module": "@jupyter-widgets/base",
          "model_module_version": "1.2.0",
          "model_name": "LayoutModel",
          "state": {
            "_model_module": "@jupyter-widgets/base",
            "_model_module_version": "1.2.0",
            "_model_name": "LayoutModel",
            "_view_count": null,
            "_view_module": "@jupyter-widgets/base",
            "_view_module_version": "1.2.0",
            "_view_name": "LayoutView",
            "align_content": null,
            "align_items": null,
            "align_self": null,
            "border": null,
            "bottom": null,
            "display": null,
            "flex": null,
            "flex_flow": null,
            "grid_area": null,
            "grid_auto_columns": null,
            "grid_auto_flow": null,
            "grid_auto_rows": null,
            "grid_column": null,
            "grid_gap": null,
            "grid_row": null,
            "grid_template_areas": null,
            "grid_template_columns": null,
            "grid_template_rows": null,
            "height": null,
            "justify_content": null,
            "justify_items": null,
            "left": null,
            "margin": null,
            "max_height": null,
            "max_width": null,
            "min_height": null,
            "min_width": null,
            "object_fit": null,
            "object_position": null,
            "order": null,
            "overflow": null,
            "overflow_x": null,
            "overflow_y": null,
            "padding": null,
            "right": null,
            "top": null,
            "visibility": null,
            "width": null
          }
        },
        "d07158ba5a7f49ad8e120c26fb749a3b": {
          "model_module": "@jupyter-widgets/controls",
          "model_module_version": "1.5.0",
          "model_name": "HTMLModel",
          "state": {
            "_dom_classes": [],
            "_model_module": "@jupyter-widgets/controls",
            "_model_module_version": "1.5.0",
            "_model_name": "HTMLModel",
            "_view_count": null,
            "_view_module": "@jupyter-widgets/controls",
            "_view_module_version": "1.5.0",
            "_view_name": "HTMLView",
            "description": "",
            "description_tooltip": null,
            "layout": "IPY_MODEL_b11b4512e30a4ff0b097adbf13bdc926",
            "placeholder": "​",
            "style": "IPY_MODEL_8b5044fe6256405dafd4877f14881065",
            "value": "Downloading: 100%"
          }
        },
        "d805a3fc1a634174a2ecce3add05efe9": {
          "model_module": "@jupyter-widgets/base",
          "model_module_version": "1.2.0",
          "model_name": "LayoutModel",
          "state": {
            "_model_module": "@jupyter-widgets/base",
            "_model_module_version": "1.2.0",
            "_model_name": "LayoutModel",
            "_view_count": null,
            "_view_module": "@jupyter-widgets/base",
            "_view_module_version": "1.2.0",
            "_view_name": "LayoutView",
            "align_content": null,
            "align_items": null,
            "align_self": null,
            "border": null,
            "bottom": null,
            "display": null,
            "flex": null,
            "flex_flow": null,
            "grid_area": null,
            "grid_auto_columns": null,
            "grid_auto_flow": null,
            "grid_auto_rows": null,
            "grid_column": null,
            "grid_gap": null,
            "grid_row": null,
            "grid_template_areas": null,
            "grid_template_columns": null,
            "grid_template_rows": null,
            "height": null,
            "justify_content": null,
            "justify_items": null,
            "left": null,
            "margin": null,
            "max_height": null,
            "max_width": null,
            "min_height": null,
            "min_width": null,
            "object_fit": null,
            "object_position": null,
            "order": null,
            "overflow": null,
            "overflow_x": null,
            "overflow_y": null,
            "padding": null,
            "right": null,
            "top": null,
            "visibility": null,
            "width": null
          }
        },
        "de8b8245af2b48cab019629eac70e0ef": {
          "model_module": "@jupyter-widgets/controls",
          "model_module_version": "1.5.0",
          "model_name": "HBoxModel",
          "state": {
            "_dom_classes": [],
            "_model_module": "@jupyter-widgets/controls",
            "_model_module_version": "1.5.0",
            "_model_name": "HBoxModel",
            "_view_count": null,
            "_view_module": "@jupyter-widgets/controls",
            "_view_module_version": "1.5.0",
            "_view_name": "HBoxView",
            "box_style": "",
            "children": [
              "IPY_MODEL_50df123f948c42cf9924da3a7810937e",
              "IPY_MODEL_cbd9b9c7de4248aca4d52ce788902b7f",
              "IPY_MODEL_95b8442ce0db4c1c8ec0c07a7e765826"
            ],
            "layout": "IPY_MODEL_4ed0fa19b1154083905e0c53da7d60ba"
          }
        },
        "e02d8b685e974d508462e69e17678df8": {
          "model_module": "@jupyter-widgets/controls",
          "model_module_version": "1.5.0",
          "model_name": "ProgressStyleModel",
          "state": {
            "_model_module": "@jupyter-widgets/controls",
            "_model_module_version": "1.5.0",
            "_model_name": "ProgressStyleModel",
            "_view_count": null,
            "_view_module": "@jupyter-widgets/base",
            "_view_module_version": "1.2.0",
            "_view_name": "StyleView",
            "bar_color": null,
            "description_width": ""
          }
        },
        "e4d98f308fe14a39872876bea76f0a69": {
          "model_module": "@jupyter-widgets/base",
          "model_module_version": "1.2.0",
          "model_name": "LayoutModel",
          "state": {
            "_model_module": "@jupyter-widgets/base",
            "_model_module_version": "1.2.0",
            "_model_name": "LayoutModel",
            "_view_count": null,
            "_view_module": "@jupyter-widgets/base",
            "_view_module_version": "1.2.0",
            "_view_name": "LayoutView",
            "align_content": null,
            "align_items": null,
            "align_self": null,
            "border": null,
            "bottom": null,
            "display": null,
            "flex": null,
            "flex_flow": null,
            "grid_area": null,
            "grid_auto_columns": null,
            "grid_auto_flow": null,
            "grid_auto_rows": null,
            "grid_column": null,
            "grid_gap": null,
            "grid_row": null,
            "grid_template_areas": null,
            "grid_template_columns": null,
            "grid_template_rows": null,
            "height": null,
            "justify_content": null,
            "justify_items": null,
            "left": null,
            "margin": null,
            "max_height": null,
            "max_width": null,
            "min_height": null,
            "min_width": null,
            "object_fit": null,
            "object_position": null,
            "order": null,
            "overflow": null,
            "overflow_x": null,
            "overflow_y": null,
            "padding": null,
            "right": null,
            "top": null,
            "visibility": null,
            "width": null
          }
        },
        "e66382b6fd7b4cc7af23eac200e7117d": {
          "model_module": "@jupyter-widgets/base",
          "model_module_version": "1.2.0",
          "model_name": "LayoutModel",
          "state": {
            "_model_module": "@jupyter-widgets/base",
            "_model_module_version": "1.2.0",
            "_model_name": "LayoutModel",
            "_view_count": null,
            "_view_module": "@jupyter-widgets/base",
            "_view_module_version": "1.2.0",
            "_view_name": "LayoutView",
            "align_content": null,
            "align_items": null,
            "align_self": null,
            "border": null,
            "bottom": null,
            "display": null,
            "flex": null,
            "flex_flow": null,
            "grid_area": null,
            "grid_auto_columns": null,
            "grid_auto_flow": null,
            "grid_auto_rows": null,
            "grid_column": null,
            "grid_gap": null,
            "grid_row": null,
            "grid_template_areas": null,
            "grid_template_columns": null,
            "grid_template_rows": null,
            "height": null,
            "justify_content": null,
            "justify_items": null,
            "left": null,
            "margin": null,
            "max_height": null,
            "max_width": null,
            "min_height": null,
            "min_width": null,
            "object_fit": null,
            "object_position": null,
            "order": null,
            "overflow": null,
            "overflow_x": null,
            "overflow_y": null,
            "padding": null,
            "right": null,
            "top": null,
            "visibility": null,
            "width": null
          }
        },
        "ec03da40ffaa4c46b2e438c82a308e97": {
          "model_module": "@jupyter-widgets/controls",
          "model_module_version": "1.5.0",
          "model_name": "ProgressStyleModel",
          "state": {
            "_model_module": "@jupyter-widgets/controls",
            "_model_module_version": "1.5.0",
            "_model_name": "ProgressStyleModel",
            "_view_count": null,
            "_view_module": "@jupyter-widgets/base",
            "_view_module_version": "1.2.0",
            "_view_name": "StyleView",
            "bar_color": null,
            "description_width": ""
          }
        },
        "f0ba6004f8c84c799eff4a907a892f02": {
          "model_module": "@jupyter-widgets/base",
          "model_module_version": "1.2.0",
          "model_name": "LayoutModel",
          "state": {
            "_model_module": "@jupyter-widgets/base",
            "_model_module_version": "1.2.0",
            "_model_name": "LayoutModel",
            "_view_count": null,
            "_view_module": "@jupyter-widgets/base",
            "_view_module_version": "1.2.0",
            "_view_name": "LayoutView",
            "align_content": null,
            "align_items": null,
            "align_self": null,
            "border": null,
            "bottom": null,
            "display": null,
            "flex": null,
            "flex_flow": null,
            "grid_area": null,
            "grid_auto_columns": null,
            "grid_auto_flow": null,
            "grid_auto_rows": null,
            "grid_column": null,
            "grid_gap": null,
            "grid_row": null,
            "grid_template_areas": null,
            "grid_template_columns": null,
            "grid_template_rows": null,
            "height": null,
            "justify_content": null,
            "justify_items": null,
            "left": null,
            "margin": null,
            "max_height": null,
            "max_width": null,
            "min_height": null,
            "min_width": null,
            "object_fit": null,
            "object_position": null,
            "order": null,
            "overflow": null,
            "overflow_x": null,
            "overflow_y": null,
            "padding": null,
            "right": null,
            "top": null,
            "visibility": null,
            "width": null
          }
        },
        "f3c44b6cd8fc4ea4bbc2a8ca650728d1": {
          "model_module": "@jupyter-widgets/base",
          "model_module_version": "1.2.0",
          "model_name": "LayoutModel",
          "state": {
            "_model_module": "@jupyter-widgets/base",
            "_model_module_version": "1.2.0",
            "_model_name": "LayoutModel",
            "_view_count": null,
            "_view_module": "@jupyter-widgets/base",
            "_view_module_version": "1.2.0",
            "_view_name": "LayoutView",
            "align_content": null,
            "align_items": null,
            "align_self": null,
            "border": null,
            "bottom": null,
            "display": null,
            "flex": null,
            "flex_flow": null,
            "grid_area": null,
            "grid_auto_columns": null,
            "grid_auto_flow": null,
            "grid_auto_rows": null,
            "grid_column": null,
            "grid_gap": null,
            "grid_row": null,
            "grid_template_areas": null,
            "grid_template_columns": null,
            "grid_template_rows": null,
            "height": null,
            "justify_content": null,
            "justify_items": null,
            "left": null,
            "margin": null,
            "max_height": null,
            "max_width": null,
            "min_height": null,
            "min_width": null,
            "object_fit": null,
            "object_position": null,
            "order": null,
            "overflow": null,
            "overflow_x": null,
            "overflow_y": null,
            "padding": null,
            "right": null,
            "top": null,
            "visibility": null,
            "width": null
          }
        },
        "f3c72816c43c4e62a373f14b7caf0a0b": {
          "model_module": "@jupyter-widgets/controls",
          "model_module_version": "1.5.0",
          "model_name": "DescriptionStyleModel",
          "state": {
            "_model_module": "@jupyter-widgets/controls",
            "_model_module_version": "1.5.0",
            "_model_name": "DescriptionStyleModel",
            "_view_count": null,
            "_view_module": "@jupyter-widgets/base",
            "_view_module_version": "1.2.0",
            "_view_name": "StyleView",
            "description_width": ""
          }
        },
        "f7a6c7c35f884fbbafbad01e487f9421": {
          "model_module": "@jupyter-widgets/base",
          "model_module_version": "1.2.0",
          "model_name": "LayoutModel",
          "state": {
            "_model_module": "@jupyter-widgets/base",
            "_model_module_version": "1.2.0",
            "_model_name": "LayoutModel",
            "_view_count": null,
            "_view_module": "@jupyter-widgets/base",
            "_view_module_version": "1.2.0",
            "_view_name": "LayoutView",
            "align_content": null,
            "align_items": null,
            "align_self": null,
            "border": null,
            "bottom": null,
            "display": null,
            "flex": null,
            "flex_flow": null,
            "grid_area": null,
            "grid_auto_columns": null,
            "grid_auto_flow": null,
            "grid_auto_rows": null,
            "grid_column": null,
            "grid_gap": null,
            "grid_row": null,
            "grid_template_areas": null,
            "grid_template_columns": null,
            "grid_template_rows": null,
            "height": null,
            "justify_content": null,
            "justify_items": null,
            "left": null,
            "margin": null,
            "max_height": null,
            "max_width": null,
            "min_height": null,
            "min_width": null,
            "object_fit": null,
            "object_position": null,
            "order": null,
            "overflow": null,
            "overflow_x": null,
            "overflow_y": null,
            "padding": null,
            "right": null,
            "top": null,
            "visibility": null,
            "width": null
          }
        },
        "fadf7ac84f5d4149a42edf7527d0c678": {
          "model_module": "@jupyter-widgets/controls",
          "model_module_version": "1.5.0",
          "model_name": "HBoxModel",
          "state": {
            "_dom_classes": [],
            "_model_module": "@jupyter-widgets/controls",
            "_model_module_version": "1.5.0",
            "_model_name": "HBoxModel",
            "_view_count": null,
            "_view_module": "@jupyter-widgets/controls",
            "_view_module_version": "1.5.0",
            "_view_name": "HBoxView",
            "box_style": "",
            "children": [
              "IPY_MODEL_d07158ba5a7f49ad8e120c26fb749a3b",
              "IPY_MODEL_484db91e95194a94bfdf85bedb578ef3",
              "IPY_MODEL_90295732ed6441da8fe837fad47e3b61"
            ],
            "layout": "IPY_MODEL_5d0b9ff2e12f44bebf4a69094b765d38"
          }
        }
      }
    }
  },
  "nbformat": 4,
  "nbformat_minor": 0
}